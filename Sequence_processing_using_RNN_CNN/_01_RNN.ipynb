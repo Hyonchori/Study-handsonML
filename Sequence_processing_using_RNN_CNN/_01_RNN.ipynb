{
 "cells": [
  {
   "cell_type": "markdown",
   "id": "agreed-quick",
   "metadata": {},
   "source": [
    "# 순환 신경망\n",
    "순차 데이터를 다룰 수 있는 순환 신경망 (RNN)을 다뤄보겠음.  \n",
    "하지만 RNN이 순차 데이터를 다루는 유일한 신경망은 아님.\n",
    "- **작은 시퀀스일 경우** : 일반적인 밀집 네트워크 (풀리 커넥티드)\n",
    "- **오디오나 텍스트처럼 매우 긴 시퀀스** : 합성곱 신경망도 실제로 잘 작동할 수 있음\n",
    "- **그 사이 시퀀스** : 순환 신경망"
   ]
  },
  {
   "cell_type": "markdown",
   "id": "popular-respondent",
   "metadata": {},
   "source": [
    "---\n",
    "## 1.1 시계열 예측하기"
   ]
  },
  {
   "cell_type": "code",
   "execution_count": 23,
   "id": "partial-learning",
   "metadata": {},
   "outputs": [],
   "source": [
    "import tensorflow as tf\n",
    "from tensorflow import keras\n",
    "\n",
    "gpus = tf.config.experimental.list_physical_devices('GPU')\n",
    "if gpus:\n",
    "  # 텐서플로가 첫 번째 GPU에 1GB 메모리만 할당하도록 제한\n",
    "  try:\n",
    "    tf.config.experimental.set_virtual_device_configuration(\n",
    "        gpus[0],\n",
    "        [tf.config.experimental.VirtualDeviceConfiguration(memory_limit=2048)])\n",
    "  except RuntimeError as e:\n",
    "    # 프로그램 시작시에 가상 장치가 설정되어야만 합니다\n",
    "    print(e)"
   ]
  },
  {
   "cell_type": "code",
   "execution_count": 3,
   "id": "adequate-junction",
   "metadata": {},
   "outputs": [],
   "source": [
    "import numpy as np\n",
    "\n",
    "def generate_time_series(batch_size, n_steps):\n",
    "    freq1, freq2, offset1, offset2 = np.random.rand(4, batch_size, 1)\n",
    "    time = np.linspace(0, 1, n_steps)\n",
    "    series = 0.5*np.sin((time - offset1)*(freq1*10 + 10))\n",
    "    series += 0.2*np.sin((time - offset2)*(freq2*20 + 20))\n",
    "    series += (np.random.rand(batch_size, n_steps) - 0.5)\n",
    "    return series[..., np.newaxis].astype(np.float32)"
   ]
  },
  {
   "cell_type": "code",
   "execution_count": 11,
   "id": "boolean-conflict",
   "metadata": {},
   "outputs": [
    {
     "data": {
      "text/plain": [
       "(10000, 51, 1)"
      ]
     },
     "execution_count": 11,
     "metadata": {},
     "output_type": "execute_result"
    }
   ],
   "source": [
    "n_steps = 50\n",
    "series = generate_time_series(10000, n_steps+1)\n",
    "series.shape"
   ]
  },
  {
   "cell_type": "code",
   "execution_count": 20,
   "id": "fatty-bronze",
   "metadata": {},
   "outputs": [
    {
     "data": {
      "text/plain": [
       "((49, 1), (2, 1))"
      ]
     },
     "execution_count": 20,
     "metadata": {},
     "output_type": "execute_result"
    },
    {
     "data": {
      "image/png": "[encoded data removed]",
      "text/plain": [
       "<Figure size 432x288 with 1 Axes>"
      ]
     },
     "metadata": {
      "needs_background": "light"
     },
     "output_type": "display_data"
    }
   ],
   "source": [
    "import matplotlib.pyplot as plt\n",
    "plt.plot(series[3, :n_steps-1])\n",
    "plt.plot(series[3, -3:-1])\n",
    "series[3, :n_steps-1].shape, series[3, -3:-1].shape"
   ]
  },
  {
   "cell_type": "code",
   "execution_count": 21,
   "id": "brief-australia",
   "metadata": {},
   "outputs": [],
   "source": [
    "X_train, y_train = series[: 7000, :n_steps], series[: 7000, -1]\n",
    "X_valid, y_valid = series[7000: 9000, :n_steps], series[7000: 9000, -1]\n",
    "X_test, y_test = series[9000:, n_steps], series[9000: -1]"
   ]
  },
  {
   "cell_type": "code",
   "execution_count": 24,
   "id": "forty-graduation",
   "metadata": {},
   "outputs": [
    {
     "data": {
      "text/plain": [
       "0.18605725"
      ]
     },
     "execution_count": 24,
     "metadata": {},
     "output_type": "execute_result"
    }
   ],
   "source": [
    "base_y = X_valid[:, -1]\n",
    "np.mean(keras.losses.mean_squared_error(y_valid, base_y))"
   ]
  },
  {
   "cell_type": "code",
   "execution_count": 25,
   "id": "unusual-yukon",
   "metadata": {},
   "outputs": [],
   "source": [
    "model = keras.models.Sequential([\n",
    "    keras.layers.Flatten(input_shape=[50, 1]),\n",
    "    keras.layers.Dense(1)\n",
    "])\n",
    "\n",
    "model.compile(loss=\"mse\", optimizer=\"adam\")"
   ]
  },
  {
   "cell_type": "code",
   "execution_count": 26,
   "id": "individual-machine",
   "metadata": {
    "scrolled": true
   },
   "outputs": [
    {
     "name": "stdout",
     "output_type": "stream",
     "text": [
      "Epoch 1/20\n",
      "219/219 [==============================] - 3s 4ms/step - loss: 0.5307 - val_loss: 0.2586\n",
      "Epoch 2/20\n",
      "219/219 [==============================] - 0s 2ms/step - loss: 0.2378 - val_loss: 0.1844\n",
      "Epoch 3/20\n",
      "219/219 [==============================] - 0s 2ms/step - loss: 0.1757 - val_loss: 0.1491\n",
      "Epoch 4/20\n",
      "219/219 [==============================] - 0s 2ms/step - loss: 0.1476 - val_loss: 0.1322\n",
      "Epoch 5/20\n",
      "219/219 [==============================] - 0s 2ms/step - loss: 0.1300 - val_loss: 0.1248\n",
      "Epoch 6/20\n",
      "219/219 [==============================] - 0s 2ms/step - loss: 0.1249 - val_loss: 0.1218\n",
      "Epoch 7/20\n",
      "219/219 [==============================] - 0s 2ms/step - loss: 0.1209 - val_loss: 0.1206\n",
      "Epoch 8/20\n",
      "219/219 [==============================] - 0s 2ms/step - loss: 0.1193 - val_loss: 0.1202\n",
      "Epoch 9/20\n",
      "219/219 [==============================] - 0s 2ms/step - loss: 0.1194 - val_loss: 0.1199\n",
      "Epoch 10/20\n",
      "219/219 [==============================] - 0s 2ms/step - loss: 0.1162 - val_loss: 0.1199\n",
      "Epoch 11/20\n",
      "219/219 [==============================] - 0s 2ms/step - loss: 0.1166 - val_loss: 0.1208\n",
      "Epoch 12/20\n",
      "219/219 [==============================] - 0s 2ms/step - loss: 0.1190 - val_loss: 0.1203\n",
      "Epoch 13/20\n",
      "219/219 [==============================] - 0s 2ms/step - loss: 0.1190 - val_loss: 0.1201\n",
      "Epoch 14/20\n",
      "219/219 [==============================] - 0s 2ms/step - loss: 0.1172 - val_loss: 0.1202\n",
      "Epoch 15/20\n",
      "219/219 [==============================] - 0s 2ms/step - loss: 0.1163 - val_loss: 0.1200\n",
      "Epoch 16/20\n",
      "219/219 [==============================] - 0s 2ms/step - loss: 0.1184 - val_loss: 0.1199\n",
      "Epoch 17/20\n",
      "219/219 [==============================] - 0s 2ms/step - loss: 0.1169 - val_loss: 0.1201\n",
      "Epoch 18/20\n",
      "219/219 [==============================] - 0s 2ms/step - loss: 0.1173 - val_loss: 0.1200\n",
      "Epoch 19/20\n",
      "219/219 [==============================] - 0s 2ms/step - loss: 0.1172 - val_loss: 0.1203\n",
      "Epoch 20/20\n",
      "219/219 [==============================] - 0s 2ms/step - loss: 0.1196 - val_loss: 0.1206\n"
     ]
    },
    {
     "data": {
      "text/plain": [
       "<tensorflow.python.keras.callbacks.History at 0x21dace695b0>"
      ]
     },
     "execution_count": 26,
     "metadata": {},
     "output_type": "execute_result"
    }
   ],
   "source": [
    "model.fit(X_train, y_train, epochs=20, validation_data=(X_valid, y_valid))"
   ]
  },
  {
   "cell_type": "markdown",
   "id": "touched-quebec",
   "metadata": {},
   "source": [
    "본격적인 RNN구현에 앞서 **기준 성능**으로 삼을 모델을 구현한다.  \n",
    "- **마지막 값을 그대로 출력하는 모델** : 로스 0.186\n",
    "- **정말 간단한 풀리 커넥티드 신경망 모델 (플래튼 + 덴스층)** : 로스 0.12"
   ]
  },
  {
   "cell_type": "code",
   "execution_count": 27,
   "id": "periodic-equity",
   "metadata": {},
   "outputs": [],
   "source": [
    "rnn_model = keras.models.Sequential([\n",
    "    keras.layers.SimpleRNN(1, input_shape=[None, 1])\n",
    "])\n",
    "\n",
    "rnn_model.compile(loss=\"mse\", optimizer=\"adam\")"
   ]
  },
  {
   "cell_type": "code",
   "execution_count": 28,
   "id": "figured-sydney",
   "metadata": {
    "scrolled": true
   },
   "outputs": [
    {
     "name": "stdout",
     "output_type": "stream",
     "text": [
      "Epoch 1/20\n",
      "219/219 [==============================] - 11s 48ms/step - loss: 0.2520 - val_loss: 0.2186\n",
      "Epoch 2/20\n",
      "219/219 [==============================] - 11s 50ms/step - loss: 0.2182 - val_loss: 0.2133\n",
      "Epoch 3/20\n",
      "219/219 [==============================] - 10s 48ms/step - loss: 0.2161 - val_loss: 0.2072\n",
      "Epoch 4/20\n",
      "219/219 [==============================] - 11s 50ms/step - loss: 0.2013 - val_loss: 0.1998\n",
      "Epoch 5/20\n",
      "219/219 [==============================] - 11s 48ms/step - loss: 0.1977 - val_loss: 0.1911\n",
      "Epoch 6/20\n",
      "219/219 [==============================] - 11s 48ms/step - loss: 0.1922 - val_loss: 0.1813\n",
      "Epoch 7/20\n",
      "219/219 [==============================] - 10s 47ms/step - loss: 0.1788 - val_loss: 0.1708\n",
      "Epoch 8/20\n",
      "219/219 [==============================] - 10s 47ms/step - loss: 0.1639 - val_loss: 0.1606\n",
      "Epoch 9/20\n",
      "219/219 [==============================] - 10s 48ms/step - loss: 0.1577 - val_loss: 0.1526\n",
      "Epoch 10/20\n",
      "219/219 [==============================] - 10s 46ms/step - loss: 0.1480 - val_loss: 0.1473\n",
      "Epoch 11/20\n",
      "219/219 [==============================] - 10s 48ms/step - loss: 0.1493 - val_loss: 0.1448\n",
      "Epoch 12/20\n",
      "219/219 [==============================] - 10s 48ms/step - loss: 0.1448 - val_loss: 0.1437\n",
      "Epoch 13/20\n",
      "219/219 [==============================] - 10s 48ms/step - loss: 0.1370 - val_loss: 0.1432\n",
      "Epoch 14/20\n",
      "219/219 [==============================] - 10s 45ms/step - loss: 0.1410 - val_loss: 0.1431\n",
      "Epoch 15/20\n",
      "219/219 [==============================] - 10s 48ms/step - loss: 0.1429 - val_loss: 0.1430\n",
      "Epoch 16/20\n",
      "219/219 [==============================] - 11s 49ms/step - loss: 0.1451 - val_loss: 0.1428\n",
      "Epoch 17/20\n",
      "219/219 [==============================] - 11s 48ms/step - loss: 0.1447 - val_loss: 0.1428\n",
      "Epoch 18/20\n",
      "219/219 [==============================] - 10s 48ms/step - loss: 0.1414 - val_loss: 0.1428\n",
      "Epoch 19/20\n",
      "219/219 [==============================] - 10s 47ms/step - loss: 0.1399 - val_loss: 0.1428\n",
      "Epoch 20/20\n",
      "219/219 [==============================] - 10s 48ms/step - loss: 0.1405 - val_loss: 0.1429\n"
     ]
    },
    {
     "data": {
      "text/plain": [
       "<tensorflow.python.keras.callbacks.History at 0x21e3a4642b0>"
      ]
     },
     "execution_count": 28,
     "metadata": {},
     "output_type": "execute_result"
    }
   ],
   "source": [
    "rnn_model.fit(X_train, y_train, epochs=20, validation_data=(X_valid, y_valid))"
   ]
  },
  {
   "cell_type": "code",
   "execution_count": 29,
   "id": "hollow-array",
   "metadata": {},
   "outputs": [],
   "source": [
    "def plot_learning_curves(loss, val_loss):\n",
    "    plt.plot(np.arange(len(loss)) + 0.5, loss, \"b.-\", label=\"Training loss\")\n",
    "    plt.plot(np.arange(len(val_loss)) + 1, val_loss, \"r.-\", label=\"Validation loss\")\n",
    "    plt.gca().xaxis.set_major_locator(mpl.ticker.MaxNLocator(integer=True))\n",
    "    plt.axis([1, 20, 0, 0.05])\n",
    "    plt.legend(fontsize=14)\n",
    "    plt.xlabel(\"Epochs\")\n",
    "    plt.ylabel(\"Loss\")\n",
    "    plt.grid(True)"
   ]
  },
  {
   "cell_type": "code",
   "execution_count": 32,
   "id": "sonic-wrestling",
   "metadata": {},
   "outputs": [
    {
     "name": "stdout",
     "output_type": "stream",
     "text": [
      "Model: \"sequential\"\n",
      "_________________________________________________________________\n",
      "Layer (type)                 Output Shape              Param #   \n",
      "=================================================================\n",
      "flatten (Flatten)            (None, 50)                0         \n",
      "_________________________________________________________________\n",
      "dense (Dense)                (None, 1)                 51        \n",
      "=================================================================\n",
      "Total params: 51\n",
      "Trainable params: 51\n",
      "Non-trainable params: 0\n",
      "_________________________________________________________________\n",
      "\n",
      "Model: \"sequential_1\"\n",
      "_________________________________________________________________\n",
      "Layer (type)                 Output Shape              Param #   \n",
      "=================================================================\n",
      "simple_rnn (SimpleRNN)       (None, 1)                 3         \n",
      "=================================================================\n",
      "Total params: 3\n",
      "Trainable params: 3\n",
      "Non-trainable params: 0\n",
      "_________________________________________________________________\n"
     ]
    }
   ],
   "source": [
    "model.summary()\n",
    "print(\"\")\n",
    "rnn_model.summary()"
   ]
  },
  {
   "cell_type": "markdown",
   "id": "medical-consumption",
   "metadata": {},
   "source": [
    "기본 RNN의 파라미터가 3개밖에 되지 않아서인지 기본 풀리 커넥티드 모델보다 성능이 안 좋음...  \n",
    "RNN을 더 추가해서 하면 좋을라나?"
   ]
  },
  {
   "cell_type": "code",
   "execution_count": 35,
   "id": "black-kruger",
   "metadata": {},
   "outputs": [],
   "source": [
    "more_rnn_model = keras.models.Sequential([\n",
    "    keras.layers.SimpleRNN(20, return_sequences=True, input_shape=[None, 1]),\n",
    "    keras.layers.SimpleRNN(20, return_sequences=True),\n",
    "    keras.layers.SimpleRNN(1)\n",
    "])\n",
    "\n",
    "more_rnn_model.compile(loss=\"mse\", optimizer=\"adam\")"
   ]
  },
  {
   "cell_type": "code",
   "execution_count": 36,
   "id": "cardiac-customs",
   "metadata": {
    "scrolled": true
   },
   "outputs": [
    {
     "name": "stdout",
     "output_type": "stream",
     "text": [
      "Epoch 1/20\n",
      "28/28 [==============================] - 6s 171ms/step - loss: 0.6477 - val_loss: 0.2548\n",
      "Epoch 2/20\n",
      "28/28 [==============================] - 4s 153ms/step - loss: 0.2144 - val_loss: 0.1531\n",
      "Epoch 3/20\n",
      "28/28 [==============================] - 5s 161ms/step - loss: 0.1460 - val_loss: 0.1375\n",
      "Epoch 4/20\n",
      "28/28 [==============================] - 4s 150ms/step - loss: 0.1341 - val_loss: 0.1283\n",
      "Epoch 5/20\n",
      "28/28 [==============================] - 4s 153ms/step - loss: 0.1255 - val_loss: 0.1297\n",
      "Epoch 6/20\n",
      "28/28 [==============================] - 4s 153ms/step - loss: 0.1258 - val_loss: 0.1253\n",
      "Epoch 7/20\n",
      "28/28 [==============================] - 4s 153ms/step - loss: 0.1245 - val_loss: 0.1229\n",
      "Epoch 8/20\n",
      "28/28 [==============================] - 4s 148ms/step - loss: 0.1188 - val_loss: 0.1219\n",
      "Epoch 9/20\n",
      "28/28 [==============================] - 4s 143ms/step - loss: 0.1210 - val_loss: 0.1238\n",
      "Epoch 10/20\n",
      "28/28 [==============================] - 4s 153ms/step - loss: 0.1205 - val_loss: 0.1236\n",
      "Epoch 11/20\n",
      "28/28 [==============================] - 4s 156ms/step - loss: 0.1173 - val_loss: 0.1197\n",
      "Epoch 12/20\n",
      "28/28 [==============================] - 4s 149ms/step - loss: 0.1194 - val_loss: 0.1200\n",
      "Epoch 13/20\n",
      "28/28 [==============================] - 4s 151ms/step - loss: 0.1197 - val_loss: 0.1216\n",
      "Epoch 14/20\n",
      "28/28 [==============================] - 4s 149ms/step - loss: 0.1167 - val_loss: 0.1190\n",
      "Epoch 15/20\n",
      "28/28 [==============================] - 4s 159ms/step - loss: 0.1165 - val_loss: 0.1191\n",
      "Epoch 16/20\n",
      "28/28 [==============================] - 4s 151ms/step - loss: 0.1166 - val_loss: 0.1180\n",
      "Epoch 17/20\n",
      "28/28 [==============================] - 4s 154ms/step - loss: 0.1175 - val_loss: 0.1182\n",
      "Epoch 18/20\n",
      "28/28 [==============================] - 4s 152ms/step - loss: 0.1147 - val_loss: 0.1175\n",
      "Epoch 19/20\n",
      "28/28 [==============================] - 4s 155ms/step - loss: 0.1167 - val_loss: 0.1171\n",
      "Epoch 20/20\n",
      "28/28 [==============================] - 4s 152ms/step - loss: 0.1140 - val_loss: 0.1180\n"
     ]
    }
   ],
   "source": [
    "hist = more_rnn_model.fit(X_train, y_train, epochs=20, validation_data=(X_valid, y_valid), batch_size=256)"
   ]
  },
  {
   "cell_type": "code",
   "execution_count": 37,
   "id": "literary-closing",
   "metadata": {},
   "outputs": [],
   "source": [
    "better_rnn_model = keras.models.Sequential([\n",
    "    keras.layers.SimpleRNN(20, return_sequences=True, input_shape=[None, 1]),\n",
    "    keras.layers.SimpleRNN(20),\n",
    "    keras.layers.Dense(1)\n",
    "])\n",
    "\n",
    "better_rnn_model.compile(loss=\"mse\", optimizer=\"adam\")"
   ]
  },
  {
   "cell_type": "code",
   "execution_count": 38,
   "id": "rental-cancer",
   "metadata": {},
   "outputs": [
    {
     "name": "stdout",
     "output_type": "stream",
     "text": [
      "Epoch 1/20\n",
      "28/28 [==============================] - 4s 105ms/step - loss: 0.5543 - val_loss: 0.1527\n",
      "Epoch 2/20\n",
      "28/28 [==============================] - 3s 98ms/step - loss: 0.1417 - val_loss: 0.1307\n",
      "Epoch 3/20\n",
      "28/28 [==============================] - 3s 107ms/step - loss: 0.1281 - val_loss: 0.1244\n",
      "Epoch 4/20\n",
      "28/28 [==============================] - 3s 94ms/step - loss: 0.1224 - val_loss: 0.1227\n",
      "Epoch 5/20\n",
      "28/28 [==============================] - 3s 99ms/step - loss: 0.1202 - val_loss: 0.1214\n",
      "Epoch 6/20\n",
      "28/28 [==============================] - 3s 106ms/step - loss: 0.1225 - val_loss: 0.1201\n",
      "Epoch 7/20\n",
      "28/28 [==============================] - 3s 99ms/step - loss: 0.1185 - val_loss: 0.1199\n",
      "Epoch 8/20\n",
      "28/28 [==============================] - 3s 101ms/step - loss: 0.1205 - val_loss: 0.1185\n",
      "Epoch 9/20\n",
      "28/28 [==============================] - 3s 107ms/step - loss: 0.1191 - val_loss: 0.1195\n",
      "Epoch 10/20\n",
      "28/28 [==============================] - 3s 107ms/step - loss: 0.1185 - val_loss: 0.1194\n",
      "Epoch 11/20\n",
      "28/28 [==============================] - 3s 102ms/step - loss: 0.1193 - val_loss: 0.1179\n",
      "Epoch 12/20\n",
      "28/28 [==============================] - 3s 101ms/step - loss: 0.1194 - val_loss: 0.1176\n",
      "Epoch 13/20\n",
      "28/28 [==============================] - 3s 101ms/step - loss: 0.1137 - val_loss: 0.1167\n",
      "Epoch 14/20\n",
      "28/28 [==============================] - 3s 100ms/step - loss: 0.1161 - val_loss: 0.1159\n",
      "Epoch 15/20\n",
      "28/28 [==============================] - 3s 100ms/step - loss: 0.1180 - val_loss: 0.1159\n",
      "Epoch 16/20\n",
      "28/28 [==============================] - 3s 96ms/step - loss: 0.1153 - val_loss: 0.1169\n",
      "Epoch 17/20\n",
      "28/28 [==============================] - 3s 100ms/step - loss: 0.1156 - val_loss: 0.1158\n",
      "Epoch 18/20\n",
      "28/28 [==============================] - 3s 97ms/step - loss: 0.1129 - val_loss: 0.1150\n",
      "Epoch 19/20\n",
      "28/28 [==============================] - 3s 101ms/step - loss: 0.1176 - val_loss: 0.1166\n",
      "Epoch 20/20\n",
      "28/28 [==============================] - 3s 96ms/step - loss: 0.1133 - val_loss: 0.1149\n"
     ]
    }
   ],
   "source": [
    "hist = better_rnn_model.fit(X_train, y_train, epochs=20, validation_data=(X_valid, y_valid), batch_size=256)"
   ]
  },
  {
   "cell_type": "markdown",
   "id": "backed-chile",
   "metadata": {},
   "source": [
    "---\n",
    "## n 스텝 후 예측모델 만들기"
   ]
  },
  {
   "cell_type": "markdown",
   "id": "infrared-scottish",
   "metadata": {},
   "source": [
    "위에서는 바로 다음 타임 스텝의 값만 예측했지만 타깃을 적절히 바꾸어 여러 다임 스텝 앞의 값을 예측할 수도 있음.\n",
    "1. 이미 학습된 모델을 사용하여 다음 값을 예측한 다음 이 값을 입력으로 추가하여 그 다음값을 예측하는 방식\n",
    "2. RNN을 학습하여 다음 값 10개를 한 번에 예측하는 방식\n",
    "\n",
    "물론 우리는 2번째 방법을 사용할 것"
   ]
  },
  {
   "cell_type": "code",
   "execution_count": 74,
   "id": "handed-release",
   "metadata": {},
   "outputs": [],
   "source": [
    "series = generate_time_series(10000, n_steps+10)\n",
    "X_train, Y_train = series[: 7000, :n_steps], series[: 7000, -10:, 0]\n",
    "X_valid, Y_valid = series[7000: 9000, :n_steps], series[7000: 9000, -10:, 0]\n",
    "X_test, Y_test = series[9000:, :n_steps], series[9000:, -10:, 0]"
   ]
  },
  {
   "cell_type": "code",
   "execution_count": 48,
   "id": "primary-nicholas",
   "metadata": {},
   "outputs": [],
   "source": [
    "model = keras.models.Sequential([\n",
    "    keras.layers.SimpleRNN(20, return_sequences=True, input_shape=[None, 1]),\n",
    "    keras.layers.SimpleRNN(20),\n",
    "    keras.layers.Dense(10)\n",
    "])\n",
    "\n",
    "model.compile(loss=\"mse\", optimizer=keras.optimizers.Adam(learning_rate=0.005))"
   ]
  },
  {
   "cell_type": "code",
   "execution_count": 50,
   "id": "billion-diabetes",
   "metadata": {
    "scrolled": true
   },
   "outputs": [
    {
     "name": "stdout",
     "output_type": "stream",
     "text": [
      "Epoch 1/20\n",
      "28/28 [==============================] - 4s 111ms/step - loss: 0.2826 - val_loss: 0.1518\n",
      "Epoch 2/20\n",
      "28/28 [==============================] - 3s 103ms/step - loss: 0.1493 - val_loss: 0.1457\n",
      "Epoch 3/20\n",
      "28/28 [==============================] - 3s 105ms/step - loss: 0.1444 - val_loss: 0.1434\n",
      "Epoch 4/20\n",
      "28/28 [==============================] - 3s 98ms/step - loss: 0.1406 - val_loss: 0.1383\n",
      "Epoch 5/20\n",
      "28/28 [==============================] - 3s 109ms/step - loss: 0.1363 - val_loss: 0.1404\n",
      "Epoch 6/20\n",
      "28/28 [==============================] - 3s 105ms/step - loss: 0.1345 - val_loss: 0.1351\n",
      "Epoch 7/20\n",
      "28/28 [==============================] - 3s 101ms/step - loss: 0.1326 - val_loss: 0.1261\n",
      "Epoch 8/20\n",
      "28/28 [==============================] - 3s 101ms/step - loss: 0.1257 - val_loss: 0.1292\n",
      "Epoch 9/20\n",
      "28/28 [==============================] - 3s 104ms/step - loss: 0.1271 - val_loss: 0.1233\n",
      "Epoch 10/20\n",
      "28/28 [==============================] - 3s 101ms/step - loss: 0.1242 - val_loss: 0.1237\n",
      "Epoch 11/20\n",
      "28/28 [==============================] - 3s 103ms/step - loss: 0.1225 - val_loss: 0.1219\n",
      "Epoch 12/20\n",
      "28/28 [==============================] - 3s 104ms/step - loss: 0.1207 - val_loss: 0.1198\n",
      "Epoch 13/20\n",
      "28/28 [==============================] - 3s 102ms/step - loss: 0.1195 - val_loss: 0.1216\n",
      "Epoch 14/20\n",
      "28/28 [==============================] - 3s 100ms/step - loss: 0.1211 - val_loss: 0.1197\n",
      "Epoch 15/20\n",
      "28/28 [==============================] - 3s 106ms/step - loss: 0.1198 - val_loss: 0.1194\n",
      "Epoch 16/20\n",
      "28/28 [==============================] - 3s 104ms/step - loss: 0.1213 - val_loss: 0.1231\n",
      "Epoch 17/20\n",
      "28/28 [==============================] - 3s 101ms/step - loss: 0.1217 - val_loss: 0.1179\n",
      "Epoch 18/20\n",
      "28/28 [==============================] - 3s 102ms/step - loss: 0.1214 - val_loss: 0.1200\n",
      "Epoch 19/20\n",
      "28/28 [==============================] - 3s 98ms/step - loss: 0.1186 - val_loss: 0.1198\n",
      "Epoch 20/20\n",
      "28/28 [==============================] - 3s 102ms/step - loss: 0.1199 - val_loss: 0.1207\n"
     ]
    },
    {
     "data": {
      "text/plain": [
       "<tensorflow.python.keras.callbacks.History at 0x21e6659ae50>"
      ]
     },
     "execution_count": 50,
     "metadata": {},
     "output_type": "execute_result"
    }
   ],
   "source": [
    "model.fit(X_train, Y_train, epochs=20, batch_size=256, validation_data=(X_valid, Y_valid))"
   ]
  },
  {
   "cell_type": "code",
   "execution_count": 54,
   "id": "limited-belarus",
   "metadata": {},
   "outputs": [
    {
     "data": {
      "text/plain": [
       "(array([[-0.420305  , -0.42009377, -0.47151214, -0.40927234, -0.3863176 ,\n",
       "         -0.4372608 , -0.36537632, -0.24576448, -0.24907728, -0.09821991]],\n",
       "       dtype=float32),\n",
       " array([-0.8713608 , -0.13092701, -0.7272108 , -0.17893595, -0.71002346,\n",
       "        -0.53033584, -0.10122246, -0.37610924, -0.45661607, -0.32351223],\n",
       "       dtype=float32))"
      ]
     },
     "execution_count": 54,
     "metadata": {},
     "output_type": "execute_result"
    }
   ],
   "source": [
    "Y_pred = model.predict(X_test[:1])\n",
    "Y_pred, Y_test[0]"
   ]
  },
  {
   "cell_type": "markdown",
   "id": "current-drill",
   "metadata": {},
   "source": [
    "?? 일단 성능은 별로 안 좋은 것 같음.  \n",
    "이 모델은 개선의 여지가 있다고 함.  \n",
    "---\n",
    "마지막 스텝에서만 다음 값 10개를 예측하도록 모델을 학습하는 대신\n",
    ">- 모든 타임 스텝에서 다음 값 10개를 예측하도록 모델을 학습할 수 있음. 시퀀스-투-벡터를 시퀀스-투-시퀀스로\n",
    ">- 이 방식의 장점은 마지막 타임 스텝에서의 출력뿐만 아니라 모든 타임 스텝에서 RNN출력에 대한 항이 손실에 포함된다는 것. 즉 더 많은 오차 그레디언트가 모델로 흐른다는 뜻. 이는 학습을 안정적으로 만들고 학습 속도를 높여줌."
   ]
  },
  {
   "cell_type": "code",
   "execution_count": 76,
   "id": "greater-width",
   "metadata": {},
   "outputs": [],
   "source": [
    "Y = np.empty((10000, n_steps, 10))\n",
    "for step_ahead in range(1, 10+1):\n",
    "    Y[:, :, step_ahead-1] = series[:, step_ahead:step_ahead+n_steps, 0]\n",
    "\n",
    "Y_train = Y[: 7000]\n",
    "Y_valid = Y[7000: 9000]\n",
    "Y_test = Y[9000: ]"
   ]
  },
  {
   "cell_type": "markdown",
   "id": "adopted-munich",
   "metadata": {},
   "source": [
    "> X_train과 Y_train은 중복이 많음. 잘못 학습하는 것이 아닌가?  \n",
    "다행히 아니라고 함. 타입 스텝마다 모델은 이전 타임 스텝만 볼 수 있고 앞을 볼 수는 없음.  \n",
    "이를 **인과 모델** 이라고 함"
   ]
  },
  {
   "cell_type": "code",
   "execution_count": 77,
   "id": "regulation-logistics",
   "metadata": {},
   "outputs": [],
   "source": [
    "better_model = keras.models.Sequential([\n",
    "    keras.layers.SimpleRNN(20, return_sequences=True, input_shape=[None, 1]),\n",
    "    keras.layers.SimpleRNN(20, return_sequences=True),\n",
    "    keras.layers.TimeDistributed(keras.layers.Dense(10))\n",
    "])"
   ]
  },
  {
   "cell_type": "markdown",
   "id": "severe-auckland",
   "metadata": {},
   "source": [
    "이 모델을 시퀀스-투-시퀀스 모델로 바꾸려면 모든 순환층에(마지막 층도) **return_sequences**를 True로 지정해야 함.  \n",
    "그 다음 모든 타입 스텝에서 출력을 Dense층에 적용해야 함. 이를 **TimeDistributed** 층으로 해결.  \n",
    "> 이 층은 다른 층을 감싸서 **입력 시퀀스의 모든 타임 스텝에 이를 적용함**.  \n",
    "각 타임 스텝을 별개의 샘플처럼 다루도록 입력의 크기를 바꾸어 이를 효과적으로 수행함.  \n",
    "즉 **[배치 크기, 타임 스텝 수, 차원 수]를 [배치 크기 * 타임 스텝 수, 차원 수]로 바꿈**(?)\n",
    "\n",
    "이 모델은 학습하는 데는 모든 출력이 필요하지만 예측과 평가에서는 마지막 타임 스텝의 출력만 사용됨.  \n",
    "학습을 위해 모든 출력에 걸쳐 MSE를 계산하고, 평가를 위해서는 마지막 타임 스텝의 출력에 대한 MSE만을 계산하는 사용자 정의 지표를 만들어야 함"
   ]
  },
  {
   "cell_type": "code",
   "execution_count": 80,
   "id": "recreational-electronics",
   "metadata": {},
   "outputs": [],
   "source": [
    "def last_time_step_mse(Y_true, Y_pred):\n",
    "    return keras.metrics.mean_squared_error(Y_true[:, -1], Y_pred[:, -1])\n",
    "\n",
    "better_model.compile(loss=\"mse\", optimizer=keras.optimizers.Adam(learning_rate=0.005), metrics=[last_time_step_mse])"
   ]
  },
  {
   "cell_type": "code",
   "execution_count": 81,
   "id": "australian-pharmacy",
   "metadata": {
    "scrolled": false
   },
   "outputs": [
    {
     "name": "stdout",
     "output_type": "stream",
     "text": [
      "Epoch 1/20\n",
      "28/28 [==============================] - 4s 121ms/step - loss: 0.2673 - last_time_step_mse: 0.2666 - val_loss: 0.1552 - val_last_time_step_mse: 0.1480\n",
      "Epoch 2/20\n",
      "28/28 [==============================] - 3s 108ms/step - loss: 0.1521 - last_time_step_mse: 0.1442 - val_loss: 0.1499 - val_last_time_step_mse: 0.1419\n",
      "Epoch 3/20\n",
      "28/28 [==============================] - 3s 103ms/step - loss: 0.1494 - last_time_step_mse: 0.1424 - val_loss: 0.1483 - val_last_time_step_mse: 0.1408\n",
      "Epoch 4/20\n",
      "28/28 [==============================] - 3s 102ms/step - loss: 0.1479 - last_time_step_mse: 0.1394 - val_loss: 0.1464 - val_last_time_step_mse: 0.1377\n",
      "Epoch 5/20\n",
      "28/28 [==============================] - 3s 100ms/step - loss: 0.1459 - last_time_step_mse: 0.1361 - val_loss: 0.1491 - val_last_time_step_mse: 0.1445\n",
      "Epoch 6/20\n",
      "28/28 [==============================] - 3s 102ms/step - loss: 0.1455 - last_time_step_mse: 0.1363 - val_loss: 0.1449 - val_last_time_step_mse: 0.1342\n",
      "Epoch 7/20\n",
      "28/28 [==============================] - 3s 105ms/step - loss: 0.1441 - last_time_step_mse: 0.1338 - val_loss: 0.1435 - val_last_time_step_mse: 0.1340\n",
      "Epoch 8/20\n",
      "28/28 [==============================] - 3s 105ms/step - loss: 0.1439 - last_time_step_mse: 0.1331 - val_loss: 0.1434 - val_last_time_step_mse: 0.1317\n",
      "Epoch 9/20\n",
      "28/28 [==============================] - 3s 105ms/step - loss: 0.1438 - last_time_step_mse: 0.1329 - val_loss: 0.1424 - val_last_time_step_mse: 0.1323\n",
      "Epoch 10/20\n",
      "28/28 [==============================] - 3s 100ms/step - loss: 0.1424 - last_time_step_mse: 0.1301 - val_loss: 0.1426 - val_last_time_step_mse: 0.1286\n",
      "Epoch 11/20\n",
      "28/28 [==============================] - 3s 104ms/step - loss: 0.1427 - last_time_step_mse: 0.1309 - val_loss: 0.1415 - val_last_time_step_mse: 0.1284\n",
      "Epoch 12/20\n",
      "28/28 [==============================] - 3s 99ms/step - loss: 0.1418 - last_time_step_mse: 0.1290 - val_loss: 0.1408 - val_last_time_step_mse: 0.1271\n",
      "Epoch 13/20\n",
      "28/28 [==============================] - 3s 105ms/step - loss: 0.1411 - last_time_step_mse: 0.1271 - val_loss: 0.1403 - val_last_time_step_mse: 0.1251\n",
      "Epoch 14/20\n",
      "28/28 [==============================] - 3s 99ms/step - loss: 0.1403 - last_time_step_mse: 0.1257 - val_loss: 0.1411 - val_last_time_step_mse: 0.1275\n",
      "Epoch 15/20\n",
      "28/28 [==============================] - 3s 100ms/step - loss: 0.1404 - last_time_step_mse: 0.1254 - val_loss: 0.1413 - val_last_time_step_mse: 0.1268\n",
      "Epoch 16/20\n",
      "28/28 [==============================] - 3s 101ms/step - loss: 0.1408 - last_time_step_mse: 0.1256 - val_loss: 0.1386 - val_last_time_step_mse: 0.1233\n",
      "Epoch 17/20\n",
      "28/28 [==============================] - 3s 101ms/step - loss: 0.1396 - last_time_step_mse: 0.1240 - val_loss: 0.1385 - val_last_time_step_mse: 0.1229\n",
      "Epoch 18/20\n",
      "28/28 [==============================] - 3s 100ms/step - loss: 0.1385 - last_time_step_mse: 0.1222 - val_loss: 0.1388 - val_last_time_step_mse: 0.1229\n",
      "Epoch 19/20\n",
      "28/28 [==============================] - 3s 96ms/step - loss: 0.1389 - last_time_step_mse: 0.1233 - val_loss: 0.1386 - val_last_time_step_mse: 0.1230\n",
      "Epoch 20/20\n",
      "28/28 [==============================] - 3s 97ms/step - loss: 0.1386 - last_time_step_mse: 0.1229 - val_loss: 0.1379 - val_last_time_step_mse: 0.1218\n"
     ]
    },
    {
     "data": {
      "text/plain": [
       "<tensorflow.python.keras.callbacks.History at 0x21e66b7f100>"
      ]
     },
     "execution_count": 81,
     "metadata": {},
     "output_type": "execute_result"
    }
   ],
   "source": [
    "better_model.fit(X_train, Y_train, epochs=20, batch_size=256, validation_data=(X_valid, Y_valid))"
   ]
  },
  {
   "cell_type": "code",
   "execution_count": 69,
   "id": "registered-authorization",
   "metadata": {},
   "outputs": [
    {
     "data": {
      "text/plain": [
       "((7000, 50, 1), (7000, 50, 10))"
      ]
     },
     "execution_count": 69,
     "metadata": {},
     "output_type": "execute_result"
    }
   ],
   "source": [
    "X_train.shape, Y_train.shape"
   ]
  },
  {
   "cell_type": "code",
   "execution_count": null,
   "id": "spatial-range",
   "metadata": {},
   "outputs": [],
   "source": []
  }
 ],
 "metadata": {
  "kernelspec": {
   "display_name": "Python 3",
   "language": "python",
   "name": "python3"
  },
  "language_info": {
   "codemirror_mode": {
    "name": "ipython",
    "version": 3
   },
   "file_extension": ".py",
   "mimetype": "text/x-python",
   "name": "python",
   "nbconvert_exporter": "python",
   "pygments_lexer": "ipython3",
   "version": "3.8.8"
  }
 },
 "nbformat": 4,
 "nbformat_minor": 5
}
