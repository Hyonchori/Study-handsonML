{
 "cells": [
  {
   "cell_type": "markdown",
   "id": "timely-manhattan",
   "metadata": {},
   "source": [
    "# 사용자 정의 학습 반복\n",
    "fit() 메서드의 유연성이 부족하다고 느겨질 때가 있을 수 있음. (예를 들어 두 개의 다른 옵티마이저를 사용애햐 할 때)  \n",
    "fit() 메서드는 하나의 옵티마이저만 지정할 수 있으므로 이런 경우엔 학습 반복을 직접 구현해야 함\n",
    "\n",
    "> 물론 사용하면 코드가 길어지고, 버그가 발생하기 쉽고, 유지보수하기 어려워짐을 명심  \n",
    "**극도의 유연성이 필요한게 아니면 그냥 fit()쓰는게 좋다**"
   ]
  }
 ],
 "metadata": {
  "kernelspec": {
   "display_name": "Python 3",
   "language": "python",
   "name": "python3"
  },
  "language_info": {
   "codemirror_mode": {
    "name": "ipython",
    "version": 3
   },
   "file_extension": ".py",
   "mimetype": "text/x-python",
   "name": "python",
   "nbconvert_exporter": "python",
   "pygments_lexer": "ipython3",
   "version": "3.8.8"
  }
 },
 "nbformat": 4,
 "nbformat_minor": 5
}
