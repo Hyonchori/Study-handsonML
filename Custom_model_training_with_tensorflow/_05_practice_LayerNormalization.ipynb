{
 "cells": [
  {
   "cell_type": "markdown",
   "id": "lesser-belfast",
   "metadata": {},
   "source": [
    "# 층 정규화를 수행하는 사용자 정의 층을 구현\n",
    "RNN을 이용한 자연어 처리에서 종종 쓰인다고 함"
   ]
  },
  {
   "cell_type": "code",
   "execution_count": 1,
   "id": "first-testament",
   "metadata": {},
   "outputs": [],
   "source": [
    "import tensorflow as tf\n",
    "from tensorflow import keras"
   ]
  },
  {
   "cell_type": "code",
   "execution_count": 20,
   "id": "metric-current",
   "metadata": {},
   "outputs": [],
   "source": [
    "class LayerNormalization(keras.layers.Layer):\n",
    "    def __init__(self, eps=0.001, **kwargs):\n",
    "        super().__init__(**kwargs)\n",
    "        self.eps = eps\n",
    "        \n",
    "    def build(self, batch_input_shape):\n",
    "        self.alpha = self.add_weight(name=\"alpha\", dtype=tf.float32,\n",
    "                                    shape=batch_input_shape[-1: ],\n",
    "                                    initializer=\"ones\")\n",
    "        self.beta = self.add_weight(name=\"beta\", dtype=tf.float32,\n",
    "                                    shape=batch_input_shape[-1: ],\n",
    "                                    initializer=\"zeros\")\n",
    "        super().build(batch_input_shape)\n",
    "        \n",
    "    def call(self, X):\n",
    "        mean, var = tf.nn.moments(X, axes=-1, keepdims=True)\n",
    "        stddev = tf.sqrt(var + self.eps)\n",
    "        return self.alpha * (X-mean) / (stddev) + self.beta\n",
    "    \n",
    "    def compute_output_shape(self, batch_input_shape):\n",
    "        return batch_input_shape\n",
    "    \n",
    "    def get_config(self):\n",
    "        base_config = super().get_config()\n",
    "        return {**base_config, \"eps\": self.eps}"
   ]
  },
  {
   "cell_type": "code",
   "execution_count": 23,
   "id": "selected-special",
   "metadata": {},
   "outputs": [
    {
     "data": {
      "text/plain": [
       "<tf.Tensor: shape=(2, 10), dtype=float32, numpy=\n",
       "array([[-0.7565803 , -0.06854702,  0.07595026, -1.2573844 , -0.23193763,\n",
       "        -1.8107855 ,  0.09988727, -0.50998646, -0.7535805 , -0.57166284],\n",
       "       [ 0.1480774 , -0.23362993, -0.3522796 ,  0.40621263, -1.0523509 ,\n",
       "         1.2054597 ,  1.6874489 , -0.4462975 , -2.3410842 ,  0.99009085]],\n",
       "      dtype=float32)>"
      ]
     },
     "execution_count": 23,
     "metadata": {},
     "output_type": "execute_result"
    }
   ],
   "source": [
    "rand_gen = tf.random.Generator.from_seed(42)\n",
    "temp_w = rand_gen.normal(shape=[2, 10])\n",
    "temp_w"
   ]
  },
  {
   "cell_type": "code",
   "execution_count": 24,
   "id": "intelligent-hayes",
   "metadata": {},
   "outputs": [],
   "source": [
    "custom_LN = LayerNormalization()\n",
    "LN = keras.layers.LayerNormalization()\n",
    "\n",
    "custom_out = custom_LN(temp_w)\n",
    "LN_out = LN(temp_w)"
   ]
  },
  {
   "cell_type": "code",
   "execution_count": 25,
   "id": "armed-plain",
   "metadata": {},
   "outputs": [
    {
     "data": {
      "text/plain": [
       "<tf.Tensor: shape=(2, 10), dtype=float32, numpy=\n",
       "array([[-0.30888623,  0.88428074,  1.1348636 , -1.1773659 ,  0.60093355,\n",
       "        -2.1370578 ,  1.1763744 ,  0.11874951, -0.3036841 ,  0.01179214],\n",
       "       [ 0.13169907, -0.21048042, -0.31684327,  0.363103  , -0.9444185 ,\n",
       "         1.0795838 ,  1.5116603 , -0.4011251 , -2.0996964 ,  0.8865175 ]],\n",
       "      dtype=float32)>"
      ]
     },
     "execution_count": 25,
     "metadata": {},
     "output_type": "execute_result"
    }
   ],
   "source": [
    "custom_out"
   ]
  },
  {
   "cell_type": "code",
   "execution_count": 26,
   "id": "coordinated-press",
   "metadata": {},
   "outputs": [
    {
     "data": {
      "text/plain": [
       "<tf.Tensor: shape=(2, 10), dtype=float32, numpy=\n",
       "array([[-0.30888614,  0.88428086,  1.1348637 , -1.1773658 ,  0.6009336 ,\n",
       "        -2.1370575 ,  1.1763746 ,  0.11874961, -0.303684  ,  0.01179225],\n",
       "       [ 0.13169907, -0.2104804 , -0.31684327,  0.363103  , -0.94441843,\n",
       "         1.0795836 ,  1.5116602 , -0.4011251 , -2.0996964 ,  0.88651747]],\n",
       "      dtype=float32)>"
      ]
     },
     "execution_count": 26,
     "metadata": {},
     "output_type": "execute_result"
    }
   ],
   "source": [
    "LN_out"
   ]
  },
  {
   "cell_type": "code",
   "execution_count": null,
   "id": "vocational-entity",
   "metadata": {},
   "outputs": [],
   "source": []
  }
 ],
 "metadata": {
  "kernelspec": {
   "display_name": "Python 3",
   "language": "python",
   "name": "python3"
  },
  "language_info": {
   "codemirror_mode": {
    "name": "ipython",
    "version": 3
   },
   "file_extension": ".py",
   "mimetype": "text/x-python",
   "name": "python",
   "nbconvert_exporter": "python",
   "pygments_lexer": "ipython3",
   "version": "3.8.8"
  }
 },
 "nbformat": 4,
 "nbformat_minor": 5
}
