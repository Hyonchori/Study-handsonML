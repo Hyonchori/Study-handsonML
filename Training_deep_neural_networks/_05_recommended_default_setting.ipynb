{
 "cells": [
  {
   "cell_type": "markdown",
   "id": "standard-malawi",
   "metadata": {},
   "source": [
    "# 기본 DNN 설정\n",
    "\n",
    "|**하이퍼파라미터**| 기본값|  \n",
    "|---|---|  \n",
    "|**커널 초기화**| He 초기화|  \n",
    "|**활성 함수**| ELU|  \n",
    "|**정규화**| 얖은 신경망이라면 없어도 됨, 깊은 신경망이면 배치 정규화|  \n",
    "|**규제**| 조기 종료, (필요하면 l2 규제 추가)|  \n",
    "|**옵티마이저**| 모멘텀 최적화 (또는 RMSProp, Nadam)|  \n",
    "|**학습률 스케줄**| 1사이클 스케줄링|"
   ]
  },
  {
   "cell_type": "markdown",
   "id": "descending-stamp",
   "metadata": {},
   "source": [
    "---\n",
    "## 자기 정규화를 위한 DNN 설정\n",
    "네트워크가 풀리 커넥티드 층으로만 쌓은 단순한 모델이라면 자기 정규화를 사용할 수 있음.\n",
    "\n",
    "|**하이퍼파라미터**| 기본값|  \n",
    "|---|---|  \n",
    "|**커널 초기화**| 르쿤 초기화|  \n",
    "|**활성 함수**| SELU|  \n",
    "|**정규화**| 없어도 됨(자기 정규화되서)|  \n",
    "|**규제**| 필요하다면 알파 드롭아웃|  \n",
    "|**옵티마이저**| 모멘텀 최적화 (또는 RMSProp, Nadam)|  \n",
    "|**학습률 스케줄**| 1사이클 스케줄링|  "
   ]
  },
  {
   "cell_type": "code",
   "execution_count": null,
   "id": "typical-christmas",
   "metadata": {},
   "outputs": [],
   "source": []
  }
 ],
 "metadata": {
  "kernelspec": {
   "display_name": "Python 3",
   "language": "python",
   "name": "python3"
  },
  "language_info": {
   "codemirror_mode": {
    "name": "ipython",
    "version": 3
   },
   "file_extension": ".py",
   "mimetype": "text/x-python",
   "name": "python",
   "nbconvert_exporter": "python",
   "pygments_lexer": "ipython3",
   "version": "3.8.8"
  }
 },
 "nbformat": 4,
 "nbformat_minor": 5
}
