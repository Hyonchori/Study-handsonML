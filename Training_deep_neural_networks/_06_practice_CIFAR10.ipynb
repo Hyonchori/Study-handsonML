{
 "cells": [
  {
   "cell_type": "markdown",
   "id": "numerical-motivation",
   "metadata": {},
   "source": [
    "# CIFAR10 이미지 데이터 학습"
   ]
  },
  {
   "cell_type": "code",
   "execution_count": 2,
   "id": "computational-sound",
   "metadata": {},
   "outputs": [],
   "source": [
    "from tensorflow import keras\n",
    "\n",
    "(X_train_full, y_train_full), (X_test, y_test) = keras.datasets.cifar10.load_data()\n",
    "\n",
    "X_train = X_train_full[5000:]\n",
    "y_train = y_train_full[5000:]\n",
    "X_valid = X_train_full[:5000]\n",
    "y_valid = y_train_full[:5000]"
   ]
  },
  {
   "cell_type": "code",
   "execution_count": 5,
   "id": "partial-scheme",
   "metadata": {},
   "outputs": [
    {
     "data": {
      "text/plain": [
       "((45000, 32, 32, 3), (45000, 1))"
      ]
     },
     "execution_count": 5,
     "metadata": {},
     "output_type": "execute_result"
    }
   ],
   "source": [
    "X_train.shape, y_train.shape"
   ]
  },
  {
   "cell_type": "code",
   "execution_count": 61,
   "id": "imperial-ottawa",
   "metadata": {
    "scrolled": true
   },
   "outputs": [
    {
     "name": "stdout",
     "output_type": "stream",
     "text": [
      "Model: \"sequential_9\"\n",
      "_________________________________________________________________\n",
      "Layer (type)                 Output Shape              Param #   \n",
      "=================================================================\n",
      "flatten_8 (Flatten)          (None, 3072)              0         \n",
      "_________________________________________________________________\n",
      "dense_153 (Dense)            (None, 100)               307300    \n",
      "_________________________________________________________________\n",
      "dense_154 (Dense)            (None, 100)               10100     \n",
      "_________________________________________________________________\n",
      "dense_155 (Dense)            (None, 100)               10100     \n",
      "_________________________________________________________________\n",
      "dense_156 (Dense)            (None, 100)               10100     \n",
      "_________________________________________________________________\n",
      "dense_157 (Dense)            (None, 100)               10100     \n",
      "_________________________________________________________________\n",
      "dense_158 (Dense)            (None, 100)               10100     \n",
      "_________________________________________________________________\n",
      "dense_159 (Dense)            (None, 100)               10100     \n",
      "_________________________________________________________________\n",
      "dense_160 (Dense)            (None, 100)               10100     \n",
      "_________________________________________________________________\n",
      "dense_161 (Dense)            (None, 100)               10100     \n",
      "_________________________________________________________________\n",
      "dense_162 (Dense)            (None, 100)               10100     \n",
      "_________________________________________________________________\n",
      "dense_163 (Dense)            (None, 100)               10100     \n",
      "_________________________________________________________________\n",
      "dense_164 (Dense)            (None, 100)               10100     \n",
      "_________________________________________________________________\n",
      "dense_165 (Dense)            (None, 100)               10100     \n",
      "_________________________________________________________________\n",
      "dense_166 (Dense)            (None, 100)               10100     \n",
      "_________________________________________________________________\n",
      "dense_167 (Dense)            (None, 100)               10100     \n",
      "_________________________________________________________________\n",
      "alpha_dropout_4 (AlphaDropou (None, 100)               0         \n",
      "_________________________________________________________________\n",
      "dense_168 (Dense)            (None, 10)                1010      \n",
      "=================================================================\n",
      "Total params: 449,710\n",
      "Trainable params: 449,710\n",
      "Non-trainable params: 0\n",
      "_________________________________________________________________\n"
     ]
    }
   ],
   "source": [
    "model = keras.models.Sequential()\n",
    "model.add(keras.layers.Flatten(input_shape=[32, 32, 3]))\n",
    "'''for i in range(20):\n",
    "    model.add(keras.layers.Dense(100, activation=\"elu\",\n",
    "                                kernel_initializer=\"he_normal\"))'''\n",
    "\n",
    "'''for i in range(20):\n",
    "    model.add(keras.layers.Dense(100, kernel_initializer=\"he_normal\"))\n",
    "    model.add(keras.layers.BatchNormalization())\n",
    "    model.add(keras.layers.Activation(\"elu\"))'''\n",
    "\n",
    "for i in range(15):\n",
    "    model.add(keras.layers.Dense(100, activation=\"selu\",\n",
    "                                 kernel_initializer=\"lecun_normal\"))\n",
    "model.add(keras.layers.AlphaDropout(rate=0.1))\n",
    "X_means = X_train.mean(axis=0)\n",
    "X_stds = X_train.std(axis=0)\n",
    "X_train_scaled = (X_train - X_means) / X_stds\n",
    "X_valid_scaled = (X_valid - X_means) / X_stds\n",
    "X_test_scaled = (X_test - X_means) / X_stds\n",
    "    \n",
    "model.add(keras.layers.Dense(10, activation=\"softmax\"))\n",
    "model.summary()"
   ]
  },
  {
   "cell_type": "code",
   "execution_count": 62,
   "id": "numerical-plane",
   "metadata": {},
   "outputs": [],
   "source": [
    "opt = keras.optimizers.Nadam(lr=5e-5)\n",
    "model.compile(loss=\"sparse_categorical_crossentropy\",\n",
    "              optimizer=opt,\n",
    "              metrics=[\"accuracy\"])"
   ]
  },
  {
   "cell_type": "code",
   "execution_count": 63,
   "id": "suitable-threat",
   "metadata": {},
   "outputs": [],
   "source": [
    "import os\n",
    "\n",
    "early_stopping_cb = keras.callbacks.EarlyStopping(patience=20)\n",
    "model_checkpoint_cb = keras.callbacks.ModelCheckpoint(\"my_cifar10_model.h5\", save_best_only=True)\n",
    "run_index = 9 # increment every time you train the model\n",
    "run_logdir = os.path.join(os.curdir, \"my_cifar10_logs\", \"run_{:03d}\".format(run_index))\n",
    "tensorboard_cb = keras.callbacks.TensorBoard(run_logdir)\n",
    "callbacks = [early_stopping_cb, model_checkpoint_cb, tensorboard_cb]"
   ]
  },
  {
   "cell_type": "code",
   "execution_count": 29,
   "id": "continuous-affair",
   "metadata": {
    "scrolled": true
   },
   "outputs": [
    {
     "name": "stdout",
     "output_type": "stream",
     "text": [
      "Epoch 1/100\n",
      "1407/1407 [==============================] - 15s 9ms/step - loss: 2.1966 - accuracy: 0.2383 - val_loss: 1.7506 - val_accuracy: 0.3852\n",
      "Epoch 2/100\n",
      "1407/1407 [==============================] - 10s 7ms/step - loss: 1.7622 - accuracy: 0.3773 - val_loss: 1.6326 - val_accuracy: 0.4166\n",
      "Epoch 3/100\n",
      "1407/1407 [==============================] - 10s 7ms/step - loss: 1.6201 - accuracy: 0.4257 - val_loss: 1.5582 - val_accuracy: 0.4468\n",
      "Epoch 4/100\n",
      "1407/1407 [==============================] - 10s 7ms/step - loss: 1.5087 - accuracy: 0.4640 - val_loss: 1.5304 - val_accuracy: 0.4616\n",
      "Epoch 5/100\n",
      "1407/1407 [==============================] - 9s 7ms/step - loss: 1.4600 - accuracy: 0.4837 - val_loss: 1.5527 - val_accuracy: 0.4736\n",
      "Epoch 6/100\n",
      "1407/1407 [==============================] - 10s 7ms/step - loss: 1.3867 - accuracy: 0.5068 - val_loss: 1.5350 - val_accuracy: 0.4688\n",
      "Epoch 7/100\n",
      "1407/1407 [==============================] - 9s 7ms/step - loss: 1.3358 - accuracy: 0.5250 - val_loss: 1.5223 - val_accuracy: 0.4848\n",
      "Epoch 8/100\n",
      "1407/1407 [==============================] - 10s 7ms/step - loss: 1.3019 - accuracy: 0.5420 - val_loss: 1.5196 - val_accuracy: 0.4856\n",
      "Epoch 9/100\n",
      "1407/1407 [==============================] - 10s 7ms/step - loss: 1.2616 - accuracy: 0.5548 - val_loss: 1.5260 - val_accuracy: 0.4826\n",
      "Epoch 10/100\n",
      "1407/1407 [==============================] - 10s 7ms/step - loss: 1.2186 - accuracy: 0.5647 - val_loss: 1.5381 - val_accuracy: 0.4844\n",
      "Epoch 11/100\n",
      "1407/1407 [==============================] - 10s 7ms/step - loss: 1.1768 - accuracy: 0.5834 - val_loss: 1.5261 - val_accuracy: 0.4946\n",
      "Epoch 12/100\n",
      "1407/1407 [==============================] - 10s 7ms/step - loss: 1.1466 - accuracy: 0.5915 - val_loss: 1.5440 - val_accuracy: 0.4932\n",
      "Epoch 13/100\n",
      "1407/1407 [==============================] - 10s 7ms/step - loss: 1.1189 - accuracy: 0.6022 - val_loss: 1.5646 - val_accuracy: 0.4894\n",
      "Epoch 14/100\n",
      "1407/1407 [==============================] - 10s 7ms/step - loss: 1.0795 - accuracy: 0.6184 - val_loss: 1.5711 - val_accuracy: 0.4958\n",
      "Epoch 15/100\n",
      "1407/1407 [==============================] - 10s 7ms/step - loss: 1.0594 - accuracy: 0.6259 - val_loss: 1.5712 - val_accuracy: 0.4978\n",
      "Epoch 16/100\n",
      "1407/1407 [==============================] - 10s 7ms/step - loss: 1.0285 - accuracy: 0.6359 - val_loss: 1.6012 - val_accuracy: 0.4886\n",
      "Epoch 17/100\n",
      "1407/1407 [==============================] - 10s 7ms/step - loss: 1.0179 - accuracy: 0.6366 - val_loss: 1.6641 - val_accuracy: 0.4922\n",
      "Epoch 18/100\n",
      "1407/1407 [==============================] - 10s 7ms/step - loss: 0.9802 - accuracy: 0.6509 - val_loss: 1.6779 - val_accuracy: 0.4912\n",
      "Epoch 19/100\n",
      "1407/1407 [==============================] - 10s 7ms/step - loss: 0.9454 - accuracy: 0.6660 - val_loss: 1.7052 - val_accuracy: 0.4916\n",
      "Epoch 20/100\n",
      "1407/1407 [==============================] - 10s 7ms/step - loss: 0.9230 - accuracy: 0.6714 - val_loss: 1.7613 - val_accuracy: 0.4962\n",
      "Epoch 21/100\n",
      "1407/1407 [==============================] - 10s 7ms/step - loss: 0.8957 - accuracy: 0.6797 - val_loss: 1.7694 - val_accuracy: 0.4882\n",
      "Epoch 22/100\n",
      "1407/1407 [==============================] - 10s 7ms/step - loss: 0.8819 - accuracy: 0.6846 - val_loss: 1.7862 - val_accuracy: 0.4962\n",
      "Epoch 23/100\n",
      "1407/1407 [==============================] - 10s 7ms/step - loss: 0.8601 - accuracy: 0.6960 - val_loss: 1.8500 - val_accuracy: 0.4952\n",
      "Epoch 24/100\n",
      "1407/1407 [==============================] - 10s 7ms/step - loss: 0.8357 - accuracy: 0.7026 - val_loss: 1.8510 - val_accuracy: 0.4890\n",
      "Epoch 25/100\n",
      "1407/1407 [==============================] - 10s 7ms/step - loss: 0.8174 - accuracy: 0.7109 - val_loss: 1.8909 - val_accuracy: 0.4932\n",
      "Epoch 26/100\n",
      "1407/1407 [==============================] - 10s 7ms/step - loss: 0.7985 - accuracy: 0.7150 - val_loss: 1.9164 - val_accuracy: 0.4886\n",
      "Epoch 27/100\n",
      "1407/1407 [==============================] - 10s 7ms/step - loss: 0.7758 - accuracy: 0.7246 - val_loss: 1.9828 - val_accuracy: 0.4846\n",
      "Epoch 28/100\n",
      "1407/1407 [==============================] - 10s 7ms/step - loss: 0.7621 - accuracy: 0.7288 - val_loss: 2.0628 - val_accuracy: 0.4862\n"
     ]
    },
    {
     "data": {
      "text/plain": [
       "<tensorflow.python.keras.callbacks.History at 0x1d007083b50>"
      ]
     },
     "execution_count": 29,
     "metadata": {},
     "output_type": "execute_result"
    }
   ],
   "source": [
    "'''model.fit(X_train, y_train, epochs=100,\n",
    "          validation_data=(X_valid, y_valid),\n",
    "          callbacks=callbacks)'''\n",
    "\n",
    "model.fit(X_train_scaled, y_train, epochs=100,\n",
    "          validation_data=(X_valid_scaled, y_valid),\n",
    "          callbacks=callbacks)"
   ]
  },
  {
   "cell_type": "markdown",
   "id": "official-manor",
   "metadata": {},
   "source": [
    "---"
   ]
  },
  {
   "cell_type": "code",
   "execution_count": 30,
   "id": "soviet-tablet",
   "metadata": {},
   "outputs": [],
   "source": [
    "class MCAlphaDropout(keras.layers.AlphaDropout):\n",
    "    def call(self, inputs):\n",
    "        return super().call(inputs, training=True)\n",
    "    \n",
    "mc_model = keras.models.Sequential([\n",
    "    MCAlphaDropout(layer.rate) if isinstance(layer, keras.layers.AlphaDropout) else layer\n",
    "    for layer in model.layers\n",
    "])\n",
    "\n",
    "def mc_dropout_predict_probas(mc_model, X, n_samples=10):\n",
    "    Y_probas = [mc_model.predict(X) for sample in range(n_samples)]\n",
    "    return np.mean(Y_probas, axis=0)\n",
    "\n",
    "def mc_dropout_predict_classes(mc_model, X, n_samples=10):\n",
    "    Y_probas = mc_dropout_predict_probas(mc_model, X, n_samples)\n",
    "    return np.argmax(Y_probas, axis=1)"
   ]
  },
  {
   "cell_type": "code",
   "execution_count": 32,
   "id": "bottom-assault",
   "metadata": {},
   "outputs": [
    {
     "data": {
      "text/plain": [
       "0.4876"
      ]
     },
     "execution_count": 32,
     "metadata": {},
     "output_type": "execute_result"
    }
   ],
   "source": [
    "import numpy as np\n",
    "y_pred = mc_dropout_predict_classes(mc_model, X_valid_scaled)\n",
    "accuracy = np.mean(y_pred == y_valid[:, 0])\n",
    "accuracy"
   ]
  },
  {
   "cell_type": "code",
   "execution_count": 42,
   "id": "existing-jersey",
   "metadata": {},
   "outputs": [],
   "source": [
    "K = keras.backend\n",
    "\n",
    "class OneCycleScheduler(keras.callbacks.Callback):\n",
    "    def __init__(self, iterations, max_rate, start_rate=None,\n",
    "                 last_iterations=None, last_rate=None):\n",
    "        self.iterations = iterations\n",
    "        self.max_rate = max_rate\n",
    "        self.start_rate = start_rate or max_rate / 10\n",
    "        self.last_iterations = last_iterations or iterations // 10 + 1\n",
    "        self.half_iteration = (iterations - self.last_iterations) // 2\n",
    "        self.last_rate = last_rate or self.start_rate / 1000\n",
    "        self.iteration = 0\n",
    "    def _interpolate(self, iter1, iter2, rate1, rate2):\n",
    "        return ((rate2 - rate1) * (self.iteration - iter1)\n",
    "                / (iter2 - iter1) + rate1)\n",
    "    def on_batch_begin(self, batch, logs):\n",
    "        if self.iteration < self.half_iteration:\n",
    "            rate = self._interpolate(0, self.half_iteration, self.start_rate, self.max_rate)\n",
    "        elif self.iteration < 2 * self.half_iteration:\n",
    "            rate = self._interpolate(self.half_iteration, 2 * self.half_iteration,\n",
    "                                     self.max_rate, self.start_rate)\n",
    "        else:\n",
    "            rate = self._interpolate(2 * self.half_iteration, self.iterations,\n",
    "                                     self.start_rate, self.last_rate)\n",
    "        self.iteration += 1\n",
    "        K.set_value(self.model.optimizer.lr, rate)"
   ]
  },
  {
   "cell_type": "code",
   "execution_count": 64,
   "id": "based-fundamentals",
   "metadata": {},
   "outputs": [
    {
     "name": "stdout",
     "output_type": "stream",
     "text": [
      "Epoch 1/100\n",
      "352/352 [==============================] - 9s 17ms/step - loss: 2.3370 - accuracy: 0.2238 - val_loss: 1.7682 - val_accuracy: 0.3740\n",
      "Epoch 2/100\n",
      "352/352 [==============================] - 3s 10ms/step - loss: 1.8665 - accuracy: 0.3505 - val_loss: 1.6747 - val_accuracy: 0.4106\n",
      "Epoch 3/100\n",
      "352/352 [==============================] - 3s 10ms/step - loss: 1.7506 - accuracy: 0.3862 - val_loss: 1.6220 - val_accuracy: 0.4276\n",
      "Epoch 4/100\n",
      "352/352 [==============================] - 3s 9ms/step - loss: 1.6477 - accuracy: 0.4194 - val_loss: 1.5825 - val_accuracy: 0.4436\n",
      "Epoch 5/100\n",
      "352/352 [==============================] - 3s 9ms/step - loss: 1.5746 - accuracy: 0.4467 - val_loss: 1.5688 - val_accuracy: 0.4592\n",
      "Epoch 6/100\n",
      "352/352 [==============================] - 3s 9ms/step - loss: 1.5122 - accuracy: 0.4670 - val_loss: 1.5556 - val_accuracy: 0.4644\n",
      "Epoch 7/100\n",
      "352/352 [==============================] - 3s 9ms/step - loss: 1.4517 - accuracy: 0.4870 - val_loss: 1.5556 - val_accuracy: 0.4734\n",
      "Epoch 8/100\n",
      "352/352 [==============================] - 3s 9ms/step - loss: 1.4230 - accuracy: 0.4972 - val_loss: 1.5414 - val_accuracy: 0.4760\n",
      "Epoch 9/100\n",
      "352/352 [==============================] - 3s 9ms/step - loss: 1.3724 - accuracy: 0.5142 - val_loss: 1.5432 - val_accuracy: 0.4784\n",
      "Epoch 10/100\n",
      "352/352 [==============================] - 3s 9ms/step - loss: 1.3344 - accuracy: 0.5332 - val_loss: 1.5496 - val_accuracy: 0.4816\n",
      "Epoch 11/100\n",
      "352/352 [==============================] - 3s 9ms/step - loss: 1.3064 - accuracy: 0.5379 - val_loss: 1.5418 - val_accuracy: 0.4822\n",
      "Epoch 12/100\n",
      "352/352 [==============================] - 3s 9ms/step - loss: 1.2736 - accuracy: 0.5490 - val_loss: 1.5529 - val_accuracy: 0.4860\n",
      "Epoch 13/100\n",
      "352/352 [==============================] - 3s 9ms/step - loss: 1.2316 - accuracy: 0.5621 - val_loss: 1.5492 - val_accuracy: 0.4906\n",
      "Epoch 14/100\n",
      "352/352 [==============================] - 3s 9ms/step - loss: 1.2124 - accuracy: 0.5746 - val_loss: 1.5455 - val_accuracy: 0.4886\n",
      "Epoch 15/100\n",
      "352/352 [==============================] - 3s 9ms/step - loss: 1.1742 - accuracy: 0.5839 - val_loss: 1.5732 - val_accuracy: 0.4894\n",
      "Epoch 16/100\n",
      "352/352 [==============================] - 3s 9ms/step - loss: 1.1505 - accuracy: 0.5967 - val_loss: 1.5730 - val_accuracy: 0.4944\n",
      "Epoch 17/100\n",
      "352/352 [==============================] - 3s 9ms/step - loss: 1.1394 - accuracy: 0.5940 - val_loss: 1.5880 - val_accuracy: 0.4914\n",
      "Epoch 18/100\n",
      "352/352 [==============================] - 3s 9ms/step - loss: 1.1111 - accuracy: 0.6101 - val_loss: 1.6119 - val_accuracy: 0.4840\n",
      "Epoch 19/100\n",
      "352/352 [==============================] - 3s 10ms/step - loss: 1.0903 - accuracy: 0.6154 - val_loss: 1.6120 - val_accuracy: 0.4936\n",
      "Epoch 20/100\n",
      "352/352 [==============================] - 4s 10ms/step - loss: 1.0628 - accuracy: 0.6235 - val_loss: 1.6213 - val_accuracy: 0.4928\n",
      "Epoch 21/100\n",
      "352/352 [==============================] - 4s 10ms/step - loss: 1.0514 - accuracy: 0.6286 - val_loss: 1.6286 - val_accuracy: 0.4946\n",
      "Epoch 22/100\n",
      "352/352 [==============================] - 4s 10ms/step - loss: 1.0225 - accuracy: 0.6394 - val_loss: 1.6602 - val_accuracy: 0.4954\n",
      "Epoch 23/100\n",
      "352/352 [==============================] - 3s 10ms/step - loss: 1.0100 - accuracy: 0.6466 - val_loss: 1.6808 - val_accuracy: 0.4928\n",
      "Epoch 24/100\n",
      "352/352 [==============================] - 3s 10ms/step - loss: 0.9911 - accuracy: 0.6520 - val_loss: 1.6951 - val_accuracy: 0.4868\n",
      "Epoch 25/100\n",
      "352/352 [==============================] - 3s 10ms/step - loss: 0.9569 - accuracy: 0.6614 - val_loss: 1.7369 - val_accuracy: 0.4868\n",
      "Epoch 26/100\n",
      "352/352 [==============================] - 3s 10ms/step - loss: 0.9475 - accuracy: 0.6679 - val_loss: 1.7322 - val_accuracy: 0.4940\n",
      "Epoch 27/100\n",
      "352/352 [==============================] - 3s 10ms/step - loss: 0.9201 - accuracy: 0.6761 - val_loss: 1.7631 - val_accuracy: 0.4830\n",
      "Epoch 28/100\n",
      "352/352 [==============================] - 3s 10ms/step - loss: 0.9144 - accuracy: 0.6792 - val_loss: 1.7637 - val_accuracy: 0.4890\n"
     ]
    }
   ],
   "source": [
    "import math \n",
    "\n",
    "n_epochs = 100\n",
    "onecycle = OneCycleScheduler(math.ceil(len(X_train_scaled) / batch_size) * n_epochs, max_rate=0.05)\n",
    "history = model.fit(X_train_scaled, y_train, epochs=n_epochs, batch_size=batch_size,\n",
    "                    validation_data=(X_valid_scaled, y_valid),\n",
    "                    callbacks=[tensorboard_cb, early_stopping_cb, model_checkpoint_cb])"
   ]
  },
  {
   "cell_type": "code",
   "execution_count": null,
   "id": "lesbian-boundary",
   "metadata": {},
   "outputs": [],
   "source": []
  },
  {
   "cell_type": "code",
   "execution_count": null,
   "id": "affiliated-hollow",
   "metadata": {},
   "outputs": [],
   "source": []
  }
 ],
 "metadata": {
  "kernelspec": {
   "display_name": "Python 3",
   "language": "python",
   "name": "python3"
  },
  "language_info": {
   "codemirror_mode": {
    "name": "ipython",
    "version": 3
   },
   "file_extension": ".py",
   "mimetype": "text/x-python",
   "name": "python",
   "nbconvert_exporter": "python",
   "pygments_lexer": "ipython3",
   "version": "3.8.8"
  }
 },
 "nbformat": 4,
 "nbformat_minor": 5
}
