{
 "cells": [
  {
   "cell_type": "markdown",
   "metadata": {},
   "source": [
    "# 선형 회귀\n",
    "> **Y = H(x)**  \n",
    "입력 특성의 가중치 합과 편향을 더한 값으로 예측하는 것  \n",
    "나올 수 있는 값이 **연속적임**  \n",
    "주로 **평균 제곱근 오차(RMSE)** 를 측정 지표로 사용함  \n",
    "그런데 **평균 제곱 오차(MSE)** 를 최소화하는 것이 같은 결과를 내면서 더 간단하다고 함?"
   ]
  },
  {
   "cell_type": "markdown",
   "metadata": {},
   "source": [
    "---\n",
    "## 1. 비용함수를 최소화하는 방법\n",
    "### 1.1 정규방정식\n",
    "비용함수를 최소화하는 **가중치(세타)** 를 찾기 위한 **해석적인 방법**  \n",
    "즉 바로 결과를 얻을 수 있는 수학 공식이 있음  "
   ]
  },
  {
   "cell_type": "code",
   "execution_count": 16,
   "metadata": {},
   "outputs": [],
   "source": [
    "import numpy as np\n",
    "\n",
    "x = 2 * np.random.rand(100, 1)\n",
    "y = 4 + 3 * x + np.random.randn(100, 1)"
   ]
  },
  {
   "cell_type": "code",
   "execution_count": 17,
   "metadata": {},
   "outputs": [
    {
     "data": {
      "image/png": "[encoded data removed]",
      "text/plain": [
       "<Figure size 432x288 with 1 Axes>"
      ]
     },
     "metadata": {
      "needs_background": "light"
     },
     "output_type": "display_data"
    }
   ],
   "source": [
    "import matplotlib.pyplot as plt\n",
    "\n",
    "plt.scatter(x, y)\n",
    "plt.show()"
   ]
  },
  {
   "cell_type": "code",
   "execution_count": 18,
   "metadata": {},
   "outputs": [],
   "source": [
    "x_with_bias = np.c_[np.ones((100, 1)), x]\n",
    "best_theta = np.linalg.inv(x_with_bias.T.dot(x_with_bias)).dot(x_with_bias.T).dot(y)"
   ]
  },
  {
   "cell_type": "code",
   "execution_count": 19,
   "metadata": {},
   "outputs": [
    {
     "data": {
      "text/plain": [
       "array([[3.88505287],\n",
       "       [3.16382547]])"
      ]
     },
     "execution_count": 19,
     "metadata": {},
     "output_type": "execute_result"
    }
   ],
   "source": [
    "best_theta"
   ]
  },
  {
   "cell_type": "markdown",
   "metadata": {},
   "source": [
    "데이터를 생성하기 위해 만든 함수는 **y = 4 + 3x + 가우시안잡음** 임  \n",
    "따라서 theat[0] = 4, theta[1] = 3을 기대했었음  \n",
    "그런데 잡음때문에 원래의 파라미터를 정확하게 재현하진 못함"
   ]
  },
  {
   "cell_type": "code",
   "execution_count": 20,
   "metadata": {},
   "outputs": [],
   "source": [
    "best_predict = x_with_bias.dot(best_theta)\n",
    "y_clean = 4 + 3*x"
   ]
  },
  {
   "cell_type": "code",
   "execution_count": 21,
   "metadata": {},
   "outputs": [
    {
     "data": {
      "image/png": "[encoded data removed]",
      "text/plain": [
       "<Figure size 432x288 with 1 Axes>"
      ]
     },
     "metadata": {
      "needs_background": "light"
     },
     "output_type": "display_data"
    }
   ],
   "source": [
    "plt.scatter(x, y)\n",
    "plt.plot(x, best_predict, \"r-\")\n",
    "plt.plot(x, y_clean, \"g-\")\n",
    "plt.show()"
   ]
  },
  {
   "cell_type": "markdown",
   "metadata": {},
   "source": [
    "노이즈가 없는 정답값과 정규방정식을 통해 구해낸 예측을 시각화한 모습  \n",
    "물론 직접 정규방정식을 세우지 않고 사이킷런을 통해 간단하게 구할 수도 있음"
   ]
  },
  {
   "cell_type": "code",
   "execution_count": 22,
   "metadata": {},
   "outputs": [
    {
     "data": {
      "text/plain": [
       "LinearRegression()"
      ]
     },
     "execution_count": 22,
     "metadata": {},
     "output_type": "execute_result"
    }
   ],
   "source": [
    "from sklearn.linear_model import LinearRegression\n",
    "\n",
    "lin_reg = LinearRegression()\n",
    "lin_reg.fit(x, y)"
   ]
  },
  {
   "cell_type": "code",
   "execution_count": 23,
   "metadata": {},
   "outputs": [],
   "source": [
    "lin_predict = lin_reg.predict(x)"
   ]
  },
  {
   "cell_type": "code",
   "execution_count": 25,
   "metadata": {},
   "outputs": [
    {
     "data": {
      "image/png": "[encoded data removed]",
      "text/plain": [
       "<Figure size 432x288 with 1 Axes>"
      ]
     },
     "metadata": {
      "needs_background": "light"
     },
     "output_type": "display_data"
    }
   ],
   "source": [
    "plt.scatter(x, y)\n",
    "plt.plot(x, best_predict, \"r-\")\n",
    "plt.plot(x, y_clean, \"g-\")\n",
    "plt.plot(x, lin_predict, \"y-\")\n",
    "plt.show()"
   ]
  },
  {
   "cell_type": "markdown",
   "metadata": {},
   "source": [
    "위에 정규방정식을 통해 시각화한 직선과 동일한 것을 확인"
   ]
  },
  {
   "cell_type": "markdown",
   "metadata": {},
   "source": [
    "## 계산 복잡도\n",
    "정규방정식이 역행렬을 계산하는 계산 복잡도는 일반적으로 O(n^2.4)에서 O(n^3)사이라고 함  \n",
    "사이킷런의 LinearRegression 클래스는 SVD를 사용하는데 이 계산 복잡도는 O(n^2)라고 함  \n",
    "> 특성의 개수가 2배 늘어나면 걸리는 시간이 4배가 되는 것임  \n",
    "  \n",
    "이제 특성이 매우 많고 훈련 샘플이 너무 많아 메모리가 부족하여 정규방정식을 사용할 수 없을 때 적합한 방법을 소개함"
   ]
  },
  {
   "cell_type": "markdown",
   "metadata": {},
   "source": [
    "---\n",
    "## 1.2 경사 하강법\n",
    "비용 함수를 최소화하기 위해 반복해서 파라미터를 조정하는 방법  \n",
    "> 1. 세타값을 무작위로 초기화  \n",
    "2. 비용함수가 감소되는 방향으로 조금씩 전진  \n",
    "3. 최솟값에 수렴할 때까지 반복  \n",
    "  \n",
    "이때 가장 중요한 하이퍼파라미터로 **학습률**이 있음\n",
    ">학습률이 너무 작으면 시간이 오래걸리고  \n",
    "학습률이 너무 크면 전역 최솟값에서 발산함  \n",
    "**따라서 처음 학습률은 크게, 점점 학습률을 작게 조절하는 것이 바람직**"
   ]
  },
  {
   "cell_type": "markdown",
   "metadata": {},
   "source": [
    "선형 회귀의 비용함수 생김새는 **그릇 모양**을 하고 있음  \n",
    "이때 특성들의 스케일이 다르면 그릇이 **길쭉한 모양**을 한다고 함  \n",
    "이는 최솟값에 수렴하는 시간이 더 오래 걸림을 의미  \n",
    "> **특성들의 스케일링이 매우 중요**  \n",
    "  \n",
    "(정규 방정식은 특성들의 스케일 상관 없음)"
   ]
  },
  {
   "cell_type": "markdown",
   "metadata": {},
   "source": [
    "### 배치, 확률적, 미니배치\n",
    ">**배치 경사하강법**: 전체 데이터에 대한 손실 함수를 계산, 해당 손실 함수를 최소화하는 방향으로 전진  \n",
    "안정적임, 1스텝에 시간 오래 걸림, 메모리 걱정 해야함  \n",
    "\n",
    "> **확률적 경사하강법**: 무작위로 선택한 1개의 샘플에 대한 손실 함수를 계산, 해당 손실 함수를 최소화하는 방향으로 전진  \n",
    "불안정함, 1스텝 매우 빠름, 메모리 걱정이 없어 큰 데이터셋에 적용 가능  \n",
    "\n",
    "> **배치 경사하강법**: n개의 샘플에 대한 손실 함수를 계산, 해당 손실 함수를 최소화하는 방향으로 전진  \n",
    "배치와 확률적 방법의 절충안"
   ]
  },
  {
   "cell_type": "markdown",
   "metadata": {},
   "source": [
    "---\n",
    "## 2. 다항 회귀 (polynomial regression)\n",
    "예측할 데이터가 단순한 직선이 아닐 경우에도 선형 모델을 사용할 수 있음  \n",
    "> **각 특성의 거듭 제곱을 새로운 특성으로 추가하는 것**"
   ]
  },
  {
   "cell_type": "code",
   "execution_count": 29,
   "metadata": {},
   "outputs": [],
   "source": [
    "m = 100\n",
    "x = 6 * np.random.rand(m, 1) - 3\n",
    "y = 0.5 * x**2 + x + 2 + np.random.randn(m, 1)"
   ]
  },
  {
   "cell_type": "code",
   "execution_count": 30,
   "metadata": {},
   "outputs": [
    {
     "data": {
      "image/png": "[encoded data removed]",
      "text/plain": [
       "<Figure size 432x288 with 1 Axes>"
      ]
     },
     "metadata": {
      "needs_background": "light"
     },
     "output_type": "display_data"
    }
   ],
   "source": [
    "plt.scatter(x, y)\n",
    "plt.show()"
   ]
  },
  {
   "cell_type": "markdown",
   "metadata": {},
   "source": [
    "확실히 직선으로 해당 데이터를 예측하기는 오바임  \n",
    "사이킷런의 **PolynomialFeatures** 를 이용해 특성의 거듭 제곱항이 추가된 새로운 데이터를 구해보겠음"
   ]
  },
  {
   "cell_type": "code",
   "execution_count": 32,
   "metadata": {},
   "outputs": [
    {
     "data": {
      "text/plain": [
       "(array([-2.35204977]), array([-2.35204977,  5.53213811]))"
      ]
     },
     "execution_count": 32,
     "metadata": {},
     "output_type": "execute_result"
    }
   ],
   "source": [
    "from sklearn.preprocessing import PolynomialFeatures\n",
    "poly_features = PolynomialFeatures(degree=2, include_bias=False)\n",
    "x_poly = poly_features.fit_transform(x)\n",
    "x[0], x_poly[0]"
   ]
  },
  {
   "cell_type": "code",
   "execution_count": 33,
   "metadata": {},
   "outputs": [
    {
     "data": {
      "text/plain": [
       "LinearRegression()"
      ]
     },
     "execution_count": 33,
     "metadata": {},
     "output_type": "execute_result"
    }
   ],
   "source": [
    "lin_reg = LinearRegression()\n",
    "lin_reg.fit(x_poly, y)"
   ]
  },
  {
   "cell_type": "code",
   "execution_count": 40,
   "metadata": {},
   "outputs": [
    {
     "data": {
      "image/png": "[encoded data removed]",
      "text/plain": [
       "<Figure size 432x288 with 1 Axes>"
      ]
     },
     "metadata": {
      "needs_background": "light"
     },
     "output_type": "display_data"
    }
   ],
   "source": [
    "lin_predict = lin_reg.predict(x_poly)\n",
    "plt.scatter(x, y)\n",
    "plt.scatter(x, lin_predict)\n",
    "plt.show()"
   ]
  },
  {
   "cell_type": "markdown",
   "metadata": {},
   "source": [
    "PolynomialFeatures는 특성이 늘어날 때 **팩토리얼**단위로 늘어남.  \n",
    "사용하기 매우 어려울듯  \n",
    "---"
   ]
  },
  {
   "cell_type": "markdown",
   "metadata": {},
   "source": [
    "## 3. 규제가 있는 선형 모델\n",
    "선형 모델의 과대 적합을 막는 방법은 모델을 규제하는 것임  \n",
    "즉 모델의 자유도를 줄이면 됨. 예를 들어 다항식의 차수를 감소시키는 것?  \n",
    "> 선형 회귀 모델에서는 모델의 가중치를 제한함으로써 규제를 가함  \n",
    "크게 **릿지**, **라쏘**, **엘라스틱넷** 방법이 있음"
   ]
  },
  {
   "cell_type": "markdown",
   "metadata": {},
   "source": [
    "### 3.1 릿지 회귀\n",
    "각 파라미터의 **제곱값 * 알파**가 비용함수에 추가됨.  \n",
    "이는 모델의 가중치가 가능한 한 작게 유지되도록 해줌.  \n",
    "**알파** 는 모델을 얼마나 많이 규제할지 조절함.  \n",
    "> **a=0이면** 릿지 회귀는 선형 회귀와 같아짐.  \n",
    "**a가 매우 크면** 모든 가중치가 0에 가까워지고 결국 데이터의 평균을 지나는 수평선이 됨 (과소적합)  \n",
    "\n",
    "규제항은 훈련하는 동안에만 비용 함수에 추가됨. 훈련이 끝나면 규제가 없는 성능 지표로 평가함.  \n",
    "> **일반적으로 훈련하는 동안 사용되는 비용함수와 테스트에서 사용되는 성능 지표는 다름.**  \n",
    "훈련에 사용되는 비용 함수는 최적화를 위해 미분이 가능해야 하고,  \n",
    "테스트에 사용되는 비용 함수는 최종 목표에 가능한 한 가까워야 함."
   ]
  },
  {
   "cell_type": "code",
   "execution_count": 41,
   "metadata": {},
   "outputs": [
    {
     "data": {
      "text/plain": [
       "array([[4.74912629]])"
      ]
     },
     "execution_count": 41,
     "metadata": {},
     "output_type": "execute_result"
    }
   ],
   "source": [
    "from sklearn.linear_model import Ridge\n",
    "\n",
    "ridge_reg = Ridge(alpha=1, solver=\"cholesky\")\n",
    "ridge_reg.fit(x, y)\n",
    "ridge_reg.predict([[1.5]])"
   ]
  },
  {
   "cell_type": "code",
   "execution_count": 44,
   "metadata": {},
   "outputs": [
    {
     "name": "stderr",
     "output_type": "stream",
     "text": [
      "c:\\users\\gus8c\\appdata\\local\\programs\\python\\python39\\lib\\site-packages\\sklearn\\utils\\validation.py:63: DataConversionWarning: A column-vector y was passed when a 1d array was expected. Please change the shape of y to (n_samples, ), for example using ravel().\n",
      "  return f(*args, **kwargs)\n"
     ]
    },
    {
     "data": {
      "text/plain": [
       "array([4.74054509])"
      ]
     },
     "execution_count": 44,
     "metadata": {},
     "output_type": "execute_result"
    }
   ],
   "source": [
    "from sklearn.linear_model import SGDRegressor\n",
    "\n",
    "sgd_reg = SGDRegressor(penalty=\"l2\")\n",
    "sgd_reg.fit(x, y)\n",
    "sgd_reg.predict([[1.5]])"
   ]
  },
  {
   "cell_type": "markdown",
   "metadata": {},
   "source": [
    "**penalty** 매개변수는 사용할 규제를 지정함.  \n",
    "\"ㅣ2\"는 SGD가 비용함수에 가중치 벡터의 l2노름 제곱을 2로 나눈 규제항을 추가함  \n",
    "즉 릿지 회귀와 같음"
   ]
  },
  {
   "cell_type": "markdown",
   "metadata": {},
   "source": [
    "## 3.2 라쏘 회귀\n",
    "릿지 회귀처럼 비용 함수에 규제항을 더하는 것은 같지만 l2노름의 제곱을 2로 나눈 것 대신 가중치 벡터의 **l1노름**을 사용  \n",
    "라쏘 회귀의 중요한 특징은  \n",
    "> 덜 중요한 특성의 가중치를 제거하려고 함  \n",
    "라쏘를 사용하면 경사 하강법이 최적점 근처에서 진동함 -> 막으려면 점진적으로 학습률을 감소시켜야 함  \n",
    "라쏘의 비용 함수는 **특정 가중치가 0일 때 미분가능하지 않음** -> 서브그레디언트 벡터 사용"
   ]
  },
  {
   "cell_type": "code",
   "execution_count": 48,
   "metadata": {},
   "outputs": [
    {
     "data": {
      "text/plain": [
       "array([4.70377456])"
      ]
     },
     "execution_count": 48,
     "metadata": {},
     "output_type": "execute_result"
    }
   ],
   "source": [
    "from sklearn.linear_model import Lasso\n",
    "\n",
    "lasso_reg = Lasso(alpha=0.1)\n",
    "lasso_reg.fit(x, y)\n",
    "lasso_reg.predict([[1.5]])"
   ]
  },
  {
   "cell_type": "code",
   "execution_count": 54,
   "metadata": {},
   "outputs": [
    {
     "data": {
      "text/plain": [
       "array([4.71999446])"
      ]
     },
     "execution_count": 54,
     "metadata": {},
     "output_type": "execute_result"
    }
   ],
   "source": [
    "from sklearn.linear_model import SGDRegressor\n",
    "\n",
    "sgd_reg = SGDRegressor(penalty=\"l1\")\n",
    "sgd_reg.fit(x, y.ravel())\n",
    "sgd_reg.predict([[1.5]])"
   ]
  },
  {
   "cell_type": "code",
   "execution_count": 58,
   "metadata": {},
   "outputs": [
    {
     "data": {
      "text/plain": [
       "array([4.74304426])"
      ]
     },
     "execution_count": 58,
     "metadata": {},
     "output_type": "execute_result"
    }
   ],
   "source": [
    "sgd_reg.fit(x, y.ravel())\n",
    "sgd_reg.predict([[1.5]])"
   ]
  },
  {
   "cell_type": "markdown",
   "metadata": {},
   "source": [
    "## 3.3 엘라스틱넷"
   ]
  },
  {
   "cell_type": "markdown",
   "metadata": {},
   "source": [
    "릿지 회귀와 라쏘 회귀를 절충한 모델  \n",
    "규제항으로 **릿지와 라쏘의 규제항을 혼합 비율 r을 사용해 조절하여 더해서** 사용함  \n",
    "(r)x(라쏘 규제항) + (1-r)x(릿지 규제항)\n",
    "> **r=0 이면** 릿지 회귀와 같음  \n",
    "**r=1이면** 라쏘 회귀와 같음"
   ]
  },
  {
   "cell_type": "code",
   "execution_count": 50,
   "metadata": {},
   "outputs": [
    {
     "data": {
      "text/plain": [
       "array([4.70726856])"
      ]
     },
     "execution_count": 50,
     "metadata": {},
     "output_type": "execute_result"
    }
   ],
   "source": [
    "from sklearn.linear_model import ElasticNet\n",
    "\n",
    "elastic_reg = ElasticNet(alpha=0.1, l1_ratio=0.5)\n",
    "elastic_reg.fit(x, y)\n",
    "elastic_reg.predict([[1.5]])"
   ]
  },
  {
   "cell_type": "markdown",
   "metadata": {},
   "source": [
    "**l1_ratio** 가 혼합 비율 r임"
   ]
  },
  {
   "cell_type": "markdown",
   "metadata": {},
   "source": [
    "## 3.4 각 모델의 사용처\n",
    "일반적으로 평범한 선형 회귀는 피해야 함. 일반적으로 규제가 있는 것이 좋음  \n",
    "> **기본적으로** 릿지 회귀  \n",
    "**쓰이는 특성이 몇 개뿐이라고 의심되면** 라쏘나 엘라스틱넷  \n",
    "**특성 수가 훈련 샘플 수보다 많거나 특성 몇 개가 강하게 연관되어 있다면** 엘라스틱넷"
   ]
  },
  {
   "cell_type": "code",
   "execution_count": null,
   "metadata": {},
   "outputs": [],
   "source": []
  }
 ],
 "metadata": {
  "kernelspec": {
   "display_name": "Python 3",
   "language": "python",
   "name": "python3"
  },
  "language_info": {
   "codemirror_mode": {
    "name": "ipython",
    "version": 3
   },
   "file_extension": ".py",
   "mimetype": "text/x-python",
   "name": "python",
   "nbconvert_exporter": "python",
   "pygments_lexer": "ipython3",
   "version": "3.9.1"
  }
 },
 "nbformat": 4,
 "nbformat_minor": 4
}
