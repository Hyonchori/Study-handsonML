{
 "cells": [
  {
   "cell_type": "markdown",
   "id": "attended-rally",
   "metadata": {},
   "source": [
    "# MNIST\n",
    "자신만의 CNN을 만들고 MNIST 데이터셋에서 가능한 최대 정확도 달성하기"
   ]
  },
  {
   "cell_type": "code",
   "execution_count": 1,
   "id": "entitled-sheet",
   "metadata": {},
   "outputs": [],
   "source": [
    "import tensorflow as tf\n",
    "from tensorflow import keras\n",
    "\n",
    "gpus = tf.config.experimental.list_physical_devices('GPU')\n",
    "if gpus:\n",
    "  # 텐서플로가 첫 번째 GPU에 1GB 메모리만 할당하도록 제한\n",
    "  try:\n",
    "    tf.config.experimental.set_virtual_device_configuration(\n",
    "        gpus[0],\n",
    "        [tf.config.experimental.VirtualDeviceConfiguration(memory_limit=2048)])\n",
    "  except RuntimeError as e:\n",
    "    # 프로그램 시작시에 가상 장치가 설정되어야만 합니다\n",
    "    print(e)"
   ]
  },
  {
   "cell_type": "code",
   "execution_count": 2,
   "id": "welcome-polls",
   "metadata": {},
   "outputs": [
    {
     "name": "stdout",
     "output_type": "stream",
     "text": [
      "(55000, 28, 28)\n",
      "(55000, 28, 28, 1)\n"
     ]
    }
   ],
   "source": [
    "import numpy as np\n",
    "\n",
    "(X_train_full, y_train_full), (X_test, y_test) = keras.datasets.mnist.load_data()\n",
    "X_train_full = X_train_full / 255.\n",
    "X_test = X_test / 255.\n",
    "X_train, X_valid = X_train_full[:-5000], X_train_full[-5000:]\n",
    "y_train, y_valid = y_train_full[:-5000], y_train_full[-5000:]\n",
    "\n",
    "print(X_train.shape)\n",
    "X_train = X_train[..., np.newaxis]\n",
    "print(X_train.shape)\n",
    "X_valid = X_valid[..., np.newaxis]\n",
    "X_test = X_test[..., np.newaxis]"
   ]
  },
  {
   "cell_type": "markdown",
   "id": "alpine-breast",
   "metadata": {},
   "source": [
    "---\n",
    "## 베이스 모델"
   ]
  },
  {
   "cell_type": "code",
   "execution_count": 35,
   "id": "dedicated-study",
   "metadata": {},
   "outputs": [],
   "source": [
    "init_model = keras.models.Sequential([\n",
    "    keras.layers.Conv2D(32, kernel_size=3, padding=\"same\", activation=\"relu\", input_shape=[28, 28, 1]),\n",
    "    keras.layers.Conv2D(32, kernel_size=3, padding=\"same\", activation=\"relu\"),\n",
    "    keras.layers.MaxPool2D(),\n",
    "    keras.layers.Flatten(),\n",
    "    keras.layers.Dropout(0.25),\n",
    "    keras.layers.Dense(128, activation=\"relu\"),\n",
    "    keras.layers.Dropout(0.5),\n",
    "    keras.layers.Dense(10, activation=\"softmax\")\n",
    "])\n",
    "\n",
    "init_model.compile(loss=\"sparse_categorical_crossentropy\", optimizer=\"nadam\", metrics=[\"accuracy\"])"
   ]
  },
  {
   "cell_type": "code",
   "execution_count": 36,
   "id": "terminal-fiction",
   "metadata": {},
   "outputs": [
    {
     "name": "stdout",
     "output_type": "stream",
     "text": [
      "Model: \"sequential_11\"\n",
      "_________________________________________________________________\n",
      "Layer (type)                 Output Shape              Param #   \n",
      "=================================================================\n",
      "conv2d_12 (Conv2D)           (None, 28, 28, 32)        320       \n",
      "_________________________________________________________________\n",
      "conv2d_13 (Conv2D)           (None, 28, 28, 32)        9248      \n",
      "_________________________________________________________________\n",
      "max_pooling2d_6 (MaxPooling2 (None, 14, 14, 32)        0         \n",
      "_________________________________________________________________\n",
      "flatten_6 (Flatten)          (None, 6272)              0         \n",
      "_________________________________________________________________\n",
      "dropout_12 (Dropout)         (None, 6272)              0         \n",
      "_________________________________________________________________\n",
      "dense_12 (Dense)             (None, 128)               802944    \n",
      "_________________________________________________________________\n",
      "dropout_13 (Dropout)         (None, 128)               0         \n",
      "_________________________________________________________________\n",
      "dense_13 (Dense)             (None, 10)                1290      \n",
      "=================================================================\n",
      "Total params: 813,802\n",
      "Trainable params: 813,802\n",
      "Non-trainable params: 0\n",
      "_________________________________________________________________\n"
     ]
    }
   ],
   "source": [
    "#tf.keras.utils.plot_model(base_model, show_shapes=True)\n",
    "init_model.summary()"
   ]
  },
  {
   "cell_type": "code",
   "execution_count": 37,
   "id": "medieval-austria",
   "metadata": {},
   "outputs": [
    {
     "name": "stdout",
     "output_type": "stream",
     "text": [
      "Epoch 1/10\n",
      "215/215 [==============================] - 4s 16ms/step - loss: 0.7106 - accuracy: 0.7724 - val_loss: 0.0653 - val_accuracy: 0.9820\n",
      "Epoch 2/10\n",
      "215/215 [==============================] - 3s 15ms/step - loss: 0.1124 - accuracy: 0.9666 - val_loss: 0.0455 - val_accuracy: 0.9876\n",
      "Epoch 3/10\n",
      "215/215 [==============================] - 3s 15ms/step - loss: 0.0830 - accuracy: 0.9751 - val_loss: 0.0425 - val_accuracy: 0.9892\n",
      "Epoch 4/10\n",
      "215/215 [==============================] - 3s 15ms/step - loss: 0.0639 - accuracy: 0.9800 - val_loss: 0.0419 - val_accuracy: 0.9888\n",
      "Epoch 5/10\n",
      "215/215 [==============================] - 3s 14ms/step - loss: 0.0604 - accuracy: 0.9819 - val_loss: 0.0411 - val_accuracy: 0.9884\n",
      "Epoch 6/10\n",
      "215/215 [==============================] - 3s 15ms/step - loss: 0.0508 - accuracy: 0.9842 - val_loss: 0.0348 - val_accuracy: 0.9902\n",
      "Epoch 7/10\n",
      "215/215 [==============================] - 3s 15ms/step - loss: 0.0440 - accuracy: 0.9860 - val_loss: 0.0368 - val_accuracy: 0.9912\n",
      "Epoch 8/10\n",
      "215/215 [==============================] - 3s 14ms/step - loss: 0.0389 - accuracy: 0.9875 - val_loss: 0.0367 - val_accuracy: 0.9910\n",
      "Epoch 9/10\n",
      "215/215 [==============================] - 3s 15ms/step - loss: 0.0364 - accuracy: 0.9881 - val_loss: 0.0350 - val_accuracy: 0.9900\n",
      "Epoch 10/10\n",
      "215/215 [==============================] - 3s 14ms/step - loss: 0.0319 - accuracy: 0.9895 - val_loss: 0.0364 - val_accuracy: 0.9906\n"
     ]
    },
    {
     "data": {
      "text/plain": [
       "<tensorflow.python.keras.callbacks.History at 0x1115dbeadc0>"
      ]
     },
     "execution_count": 37,
     "metadata": {},
     "output_type": "execute_result"
    }
   ],
   "source": [
    "init_model.fit(X_train, y_train, epochs=10, validation_data=(X_valid, y_valid), batch_size=256)"
   ]
  },
  {
   "cell_type": "markdown",
   "id": "equal-occasion",
   "metadata": {},
   "source": [
    "겁나 간단한 모델로 valid_accuracy가 99퍼가 넘음.. ㄷㄷ  \n",
    "더 복잡한 모델로 학습시켰을 때 과대적합인 것을 보면 MNIST 데이터셋에는 이정도 모델이 적당한 듯"
   ]
  },
  {
   "cell_type": "markdown",
   "id": "seven-printer",
   "metadata": {},
   "source": [
    "---\n",
    "## 성능 높이기"
   ]
  },
  {
   "cell_type": "markdown",
   "id": "infinite-master",
   "metadata": {},
   "source": [
    "### 데이터 증강"
   ]
  },
  {
   "cell_type": "code",
   "execution_count": 27,
   "id": "charged-sucking",
   "metadata": {},
   "outputs": [],
   "source": [
    "IMG_SIZE = 180\n",
    "\n",
    "resize_and_rescale = tf.keras.Sequential([\n",
    "  keras.layers.experimental.preprocessing.Resizing(IMG_SIZE, IMG_SIZE),\n",
    "  keras.layers.experimental.preprocessing.Rescaling(1./255)\n",
    "])"
   ]
  },
  {
   "cell_type": "code",
   "execution_count": 77,
   "id": "loose-cooperative",
   "metadata": {},
   "outputs": [],
   "source": [
    "data_augmentation = tf.keras.Sequential([\n",
    "  #keras.layers.experimental.preprocessing.RandomFlip(\"horizontal_and_vertical\"),\n",
    "  keras.layers.experimental.preprocessing.RandomRotation(0.05),\n",
    "  keras.layers.experimental.preprocessing.RandomTranslation(0.03, 0.03)\n",
    "])"
   ]
  },
  {
   "cell_type": "code",
   "execution_count": 80,
   "id": "assigned-illustration",
   "metadata": {},
   "outputs": [],
   "source": [
    "batch_size = 256\n",
    "AUTOTUNE = tf.data.experimental.AUTOTUNE\n",
    "\n",
    "def prepare(ds, shuffle=False, augment=False):\n",
    "    '''ds = ds.map(lambda x, y: (resize_and_rescale(x), y),\n",
    "                num_parallel_calls=AUTOTUNE)'''\n",
    "    if shuffle:\n",
    "        ds = ds.shuffle(1000)\n",
    "    \n",
    "    ds = ds.batch(batch_size)\n",
    "    \n",
    "    if augment:\n",
    "        ds = ds.map(lambda x, y: (data_augmentation(x, training=True), y),\n",
    "                   num_parallel_calls=AUTOTUNE)\n",
    "    \n",
    "    return ds.prefetch(buffer_size=AUTOTUNE)"
   ]
  },
  {
   "cell_type": "code",
   "execution_count": 81,
   "id": "double-carol",
   "metadata": {},
   "outputs": [],
   "source": [
    "train_ds = tf.data.Dataset.from_tensor_slices((X_train, y_train))\n",
    "valid_ds = tf.data.Dataset.from_tensor_slices((X_valid, y_valid))\n",
    "test_ds = tf.data.Dataset.from_tensor_slices((X_test, y_test))\n",
    "\n",
    "train_ds = prepare(train_ds, shuffle=True, augment=True)\n",
    "valid_ds = prepare(valid_ds)\n",
    "test_ds = prepare(test_ds)"
   ]
  },
  {
   "cell_type": "code",
   "execution_count": 82,
   "id": "cultural-benefit",
   "metadata": {},
   "outputs": [
    {
     "name": "stdout",
     "output_type": "stream",
     "text": [
      "Epoch 1/20\n",
      "215/215 [==============================] - 4s 15ms/step - loss: 0.8325 - accuracy: 0.7370 - val_loss: 0.0682 - val_accuracy: 0.9822\n",
      "Epoch 2/20\n",
      "215/215 [==============================] - 3s 15ms/step - loss: 0.1820 - accuracy: 0.9453 - val_loss: 0.0580 - val_accuracy: 0.9850\n",
      "Epoch 3/20\n",
      "215/215 [==============================] - 3s 15ms/step - loss: 0.1341 - accuracy: 0.9590 - val_loss: 0.0513 - val_accuracy: 0.9860\n",
      "Epoch 4/20\n",
      "215/215 [==============================] - 3s 15ms/step - loss: 0.1140 - accuracy: 0.9660 - val_loss: 0.0459 - val_accuracy: 0.9870\n",
      "Epoch 5/20\n",
      "215/215 [==============================] - 3s 15ms/step - loss: 0.1045 - accuracy: 0.9689 - val_loss: 0.0415 - val_accuracy: 0.9896\n",
      "Epoch 6/20\n",
      "215/215 [==============================] - 3s 15ms/step - loss: 0.0915 - accuracy: 0.9727 - val_loss: 0.0374 - val_accuracy: 0.9898\n",
      "Epoch 7/20\n",
      "215/215 [==============================] - 3s 15ms/step - loss: 0.0813 - accuracy: 0.9752 - val_loss: 0.0417 - val_accuracy: 0.9892\n",
      "Epoch 8/20\n",
      "215/215 [==============================] - 3s 15ms/step - loss: 0.0830 - accuracy: 0.9746 - val_loss: 0.0396 - val_accuracy: 0.9896\n",
      "Epoch 9/20\n",
      "215/215 [==============================] - 3s 15ms/step - loss: 0.0743 - accuracy: 0.9774 - val_loss: 0.0364 - val_accuracy: 0.9916\n",
      "Epoch 10/20\n",
      "215/215 [==============================] - 3s 15ms/step - loss: 0.0702 - accuracy: 0.9787 - val_loss: 0.0312 - val_accuracy: 0.9912\n",
      "Epoch 11/20\n",
      "215/215 [==============================] - 3s 15ms/step - loss: 0.0694 - accuracy: 0.9792 - val_loss: 0.0382 - val_accuracy: 0.9912\n",
      "Epoch 12/20\n",
      "215/215 [==============================] - 3s 15ms/step - loss: 0.0624 - accuracy: 0.9797 - val_loss: 0.0342 - val_accuracy: 0.9912\n",
      "Epoch 13/20\n",
      "215/215 [==============================] - 3s 15ms/step - loss: 0.0637 - accuracy: 0.9813 - val_loss: 0.0318 - val_accuracy: 0.9914\n",
      "Epoch 14/20\n",
      "215/215 [==============================] - 3s 15ms/step - loss: 0.0614 - accuracy: 0.9811 - val_loss: 0.0343 - val_accuracy: 0.9910\n",
      "Epoch 15/20\n",
      "215/215 [==============================] - 3s 15ms/step - loss: 0.0597 - accuracy: 0.9828 - val_loss: 0.0330 - val_accuracy: 0.9918\n",
      "Epoch 16/20\n",
      "215/215 [==============================] - 3s 15ms/step - loss: 0.0571 - accuracy: 0.9828 - val_loss: 0.0317 - val_accuracy: 0.9918\n",
      "Epoch 17/20\n",
      "215/215 [==============================] - 3s 15ms/step - loss: 0.0546 - accuracy: 0.9835 - val_loss: 0.0353 - val_accuracy: 0.9914\n",
      "Epoch 18/20\n",
      "215/215 [==============================] - 3s 15ms/step - loss: 0.0546 - accuracy: 0.9840 - val_loss: 0.0339 - val_accuracy: 0.9906\n",
      "Epoch 19/20\n",
      "215/215 [==============================] - 3s 15ms/step - loss: 0.0520 - accuracy: 0.9844 - val_loss: 0.0397 - val_accuracy: 0.9906\n",
      "Epoch 20/20\n",
      "215/215 [==============================] - 3s 15ms/step - loss: 0.0483 - accuracy: 0.9855 - val_loss: 0.0330 - val_accuracy: 0.9926\n"
     ]
    },
    {
     "data": {
      "text/plain": [
       "<tensorflow.python.keras.callbacks.History at 0x1115bbeb670>"
      ]
     },
     "execution_count": 82,
     "metadata": {},
     "output_type": "execute_result"
    }
   ],
   "source": [
    "base_model = keras.models.Sequential([\n",
    "    keras.layers.Conv2D(32, kernel_size=3, padding=\"same\", activation=\"relu\", input_shape=[28, 28, 1]),\n",
    "    keras.layers.Conv2D(32, kernel_size=3, padding=\"same\", activation=\"relu\"),\n",
    "    keras.layers.MaxPool2D(),\n",
    "    keras.layers.Flatten(),\n",
    "    keras.layers.Dropout(0.25),\n",
    "    keras.layers.Dense(128, activation=\"relu\"),\n",
    "    keras.layers.Dropout(0.5),\n",
    "    keras.layers.Dense(10, activation=\"softmax\")\n",
    "])\n",
    "\n",
    "base_model.compile(loss=\"sparse_categorical_crossentropy\", optimizer=\"nadam\", metrics=[\"accuracy\"])\n",
    "base_model.fit(train_ds, epochs=20, validation_data=valid_ds)"
   ]
  },
  {
   "cell_type": "code",
   "execution_count": 84,
   "id": "critical-blogger",
   "metadata": {},
   "outputs": [],
   "source": [
    "init_pred = init_model.predict(test_ds)\n",
    "base_pred = base_model.predict(test_ds)\n",
    "\n",
    "init_y = np.argmax(init_pred, axis=-1)\n",
    "base_y = np.argmax(base_pred, axis=-1)"
   ]
  },
  {
   "cell_type": "code",
   "execution_count": 85,
   "id": "equal-surgeon",
   "metadata": {},
   "outputs": [
    {
     "data": {
      "text/plain": [
       "(0.9904, 0.9938)"
      ]
     },
     "execution_count": 85,
     "metadata": {},
     "output_type": "execute_result"
    }
   ],
   "source": [
    "from sklearn.metrics import accuracy_score\n",
    "\n",
    "accuracy_score(init_y, y_test), accuracy_score(base_y, y_test)"
   ]
  },
  {
   "cell_type": "markdown",
   "id": "amateur-familiar",
   "metadata": {},
   "source": [
    ">왜 데이터증강을 적용한 모델이 더 성능이 안좋지??  \n",
    "증강방법(플립, 회전)이 알맞지 않았나??  \n",
    "\n",
    "플립을 빼고 회전 반경을 줄이니 더 좋아짐!"
   ]
  },
  {
   "cell_type": "code",
   "execution_count": 58,
   "id": "bulgarian-courage",
   "metadata": {},
   "outputs": [
    {
     "data": {
      "text/plain": [
       "(1, 28, 28, 1)"
      ]
     },
     "execution_count": 58,
     "metadata": {},
     "output_type": "execute_result"
    }
   ],
   "source": [
    "imgs = X_train[: 1]\n",
    "imgs.shape"
   ]
  },
  {
   "cell_type": "code",
   "execution_count": 79,
   "id": "nervous-recording",
   "metadata": {},
   "outputs": [
    {
     "data": {
      "image/png": "[encoded data removed]",
      "text/plain": [
       "<Figure size 432x288 with 1 Axes>"
      ]
     },
     "metadata": {
      "needs_background": "light"
     },
     "output_type": "display_data"
    },
    {
     "data": {
      "image/png": "[encoded data removed]",
      "text/plain": [
       "<Figure size 432x288 with 1 Axes>"
      ]
     },
     "metadata": {
      "needs_background": "light"
     },
     "output_type": "display_data"
    },
    {
     "data": {
      "image/png": "[encoded data removed]",
      "text/plain": [
       "<Figure size 432x288 with 1 Axes>"
      ]
     },
     "metadata": {
      "needs_background": "light"
     },
     "output_type": "display_data"
    },
    {
     "data": {
      "image/png": "[encoded data removed]",
      "text/plain": [
       "<Figure size 432x288 with 1 Axes>"
      ]
     },
     "metadata": {
      "needs_background": "light"
     },
     "output_type": "display_data"
    },
    {
     "data": {
      "image/png": "[encoded data removed]",
      "text/plain": [
       "<Figure size 432x288 with 1 Axes>"
      ]
     },
     "metadata": {
      "needs_background": "light"
     },
     "output_type": "display_data"
    },
    {
     "data": {
      "image/png": "[encoded data removed]",
      "text/plain": [
       "<Figure size 432x288 with 1 Axes>"
      ]
     },
     "metadata": {
      "needs_background": "light"
     },
     "output_type": "display_data"
    },
    {
     "data": {
      "image/png": "[encoded data removed]",
      "text/plain": [
       "<Figure size 432x288 with 1 Axes>"
      ]
     },
     "metadata": {
      "needs_background": "light"
     },
     "output_type": "display_data"
    },
    {
     "data": {
      "image/png": "[encoded data removed]",
      "text/plain": [
       "<Figure size 432x288 with 1 Axes>"
      ]
     },
     "metadata": {
      "needs_background": "light"
     },
     "output_type": "display_data"
    },
    {
     "data": {
      "image/png": "[encoded data removed]",
      "text/plain": [
       "<Figure size 432x288 with 1 Axes>"
      ]
     },
     "metadata": {
      "needs_background": "light"
     },
     "output_type": "display_data"
    },
    {
     "data": {
      "image/png": "[encoded data removed]",
      "text/plain": [
       "<Figure size 432x288 with 1 Axes>"
      ]
     },
     "metadata": {
      "needs_background": "light"
     },
     "output_type": "display_data"
    },
    {
     "data": {
      "image/png": "[encoded data removed]",
      "text/plain": [
       "<Figure size 432x288 with 1 Axes>"
      ]
     },
     "metadata": {
      "needs_background": "light"
     },
     "output_type": "display_data"
    },
    {
     "data": {
      "image/png": "[encoded data removed]",
      "text/plain": [
       "<Figure size 432x288 with 1 Axes>"
      ]
     },
     "metadata": {
      "needs_background": "light"
     },
     "output_type": "display_data"
    },
    {
     "data": {
      "image/png": "[encoded data removed]",
      "text/plain": [
       "<Figure size 432x288 with 1 Axes>"
      ]
     },
     "metadata": {
      "needs_background": "light"
     },
     "output_type": "display_data"
    },
    {
     "data": {
      "image/png": "[encoded data removed]",
      "text/plain": [
       "<Figure size 432x288 with 1 Axes>"
      ]
     },
     "metadata": {
      "needs_background": "light"
     },
     "output_type": "display_data"
    },
    {
     "data": {
      "image/png": "[encoded data removed]",
      "text/plain": [
       "<Figure size 432x288 with 1 Axes>"
      ]
     },
     "metadata": {
      "needs_background": "light"
     },
     "output_type": "display_data"
    },
    {
     "data": {
      "image/png": "[encoded data removed]",
      "text/plain": [
       "<Figure size 432x288 with 1 Axes>"
      ]
     },
     "metadata": {
      "needs_background": "light"
     },
     "output_type": "display_data"
    },
    {
     "data": {
      "image/png": "[encoded data removed]",
      "text/plain": [
       "<Figure size 432x288 with 1 Axes>"
      ]
     },
     "metadata": {
      "needs_background": "light"
     },
     "output_type": "display_data"
    },
    {
     "data": {
      "image/png": "[encoded data removed]",
      "text/plain": [
       "<Figure size 432x288 with 1 Axes>"
      ]
     },
     "metadata": {
      "needs_background": "light"
     },
     "output_type": "display_data"
    }
   ],
   "source": [
    "import matplotlib.pyplot as plt\n",
    "\n",
    "for i in range(9):\n",
    "    augmented_img = data_augmentation(imgs)\n",
    "    plt.imshow(imgs[0])\n",
    "    plt.show()\n",
    "    plt.imshow(augmented_img[0])\n",
    "    plt.show()"
   ]
  },
  {
   "cell_type": "markdown",
   "id": "approved-september",
   "metadata": {},
   "source": [
    "??? 중간에 말도 안되는 회전이 껴있어서 성능이 안좋아진듯 ㅡㅡ  \n",
    "생각해보니 flip 왜 넣음?? 큰일 나려고..\n"
   ]
  },
  {
   "cell_type": "markdown",
   "id": "equipped-numbers",
   "metadata": {},
   "source": [
    "---\n",
    "## 1사이클 스케줄링"
   ]
  },
  {
   "cell_type": "code",
   "execution_count": 93,
   "id": "polished-section",
   "metadata": {},
   "outputs": [],
   "source": [
    "class OneCycleScheduler(keras.callbacks.Callback):\n",
    "    def __init__(self, iterations, max_rate, start_rate=None,\n",
    "                 last_iterations=None, last_rate=None):\n",
    "        self.iterations = iterations\n",
    "        self.max_rate = max_rate\n",
    "        self.start_rate = start_rate or max_rate / 10\n",
    "        self.last_iterations = last_iterations or iterations // 10 + 1\n",
    "        self.half_iteration = (iterations - self.last_iterations) // 2\n",
    "        self.last_rate = last_rate or self.start_rate / 1000\n",
    "        self.iteration = 0\n",
    "    def _interpolate(self, iter1, iter2, rate1, rate2):\n",
    "        return ((rate2 - rate1) * (self.iteration - iter1)\n",
    "                / (iter2 - iter1) + rate1)\n",
    "    def on_batch_begin(self, batch, logs):\n",
    "        if self.iteration < self.half_iteration:\n",
    "            rate = self._interpolate(0, self.half_iteration, self.start_rate, self.max_rate)\n",
    "        elif self.iteration < 2 * self.half_iteration:\n",
    "            rate = self._interpolate(self.half_iteration, 2 * self.half_iteration,\n",
    "                                     self.max_rate, self.start_rate)\n",
    "        else:\n",
    "            rate = self._interpolate(2 * self.half_iteration, self.iterations,\n",
    "                                     self.start_rate, self.last_rate)\n",
    "        self.iteration += 1\n",
    "        K.set_value(self.model.optimizer.lr, rate)"
   ]
  },
  {
   "cell_type": "code",
   "execution_count": 96,
   "id": "certified-laundry",
   "metadata": {
    "scrolled": false
   },
   "outputs": [
    {
     "name": "stdout",
     "output_type": "stream",
     "text": [
      "Epoch 1/20\n",
      "215/215 [==============================] - 4s 16ms/step - loss: 0.8411 - accuracy: 0.7259 - val_loss: 0.0599 - val_accuracy: 0.9846\n",
      "Epoch 2/20\n",
      "215/215 [==============================] - 3s 15ms/step - loss: 0.1740 - accuracy: 0.9481 - val_loss: 0.0490 - val_accuracy: 0.9862\n",
      "Epoch 3/20\n",
      "215/215 [==============================] - 3s 15ms/step - loss: 0.1281 - accuracy: 0.9609 - val_loss: 0.0459 - val_accuracy: 0.9872\n",
      "Epoch 4/20\n",
      "215/215 [==============================] - 3s 15ms/step - loss: 0.1210 - accuracy: 0.9647 - val_loss: 0.0383 - val_accuracy: 0.9900\n",
      "Epoch 5/20\n",
      "215/215 [==============================] - 3s 15ms/step - loss: 0.1052 - accuracy: 0.9676 - val_loss: 0.0407 - val_accuracy: 0.9882\n",
      "Epoch 6/20\n",
      "215/215 [==============================] - 3s 15ms/step - loss: 0.1007 - accuracy: 0.9694 - val_loss: 0.0418 - val_accuracy: 0.9892\n",
      "Epoch 7/20\n",
      "215/215 [==============================] - 3s 15ms/step - loss: 0.0943 - accuracy: 0.9708 - val_loss: 0.0466 - val_accuracy: 0.9888\n",
      "Epoch 8/20\n",
      "215/215 [==============================] - 3s 15ms/step - loss: 0.0953 - accuracy: 0.9706 - val_loss: 0.0401 - val_accuracy: 0.9894\n",
      "Epoch 9/20\n",
      "215/215 [==============================] - 3s 15ms/step - loss: 0.0926 - accuracy: 0.9720 - val_loss: 0.0393 - val_accuracy: 0.9910\n",
      "Epoch 10/20\n",
      "215/215 [==============================] - 3s 15ms/step - loss: 0.0946 - accuracy: 0.9725 - val_loss: 0.0443 - val_accuracy: 0.9910\n",
      "Epoch 11/20\n",
      "215/215 [==============================] - 3s 15ms/step - loss: 0.0824 - accuracy: 0.9754 - val_loss: 0.0364 - val_accuracy: 0.9918\n",
      "Epoch 12/20\n",
      "215/215 [==============================] - 3s 15ms/step - loss: 0.0729 - accuracy: 0.9787 - val_loss: 0.0328 - val_accuracy: 0.9932\n",
      "Epoch 13/20\n",
      "215/215 [==============================] - 3s 15ms/step - loss: 0.0680 - accuracy: 0.9797 - val_loss: 0.0442 - val_accuracy: 0.9904\n",
      "Epoch 14/20\n",
      "215/215 [==============================] - 3s 15ms/step - loss: 0.0614 - accuracy: 0.9809 - val_loss: 0.0305 - val_accuracy: 0.9940\n",
      "Epoch 15/20\n",
      "215/215 [==============================] - 3s 15ms/step - loss: 0.0557 - accuracy: 0.9830 - val_loss: 0.0293 - val_accuracy: 0.9942\n",
      "Epoch 16/20\n",
      "215/215 [==============================] - 3s 15ms/step - loss: 0.0509 - accuracy: 0.9841 - val_loss: 0.0285 - val_accuracy: 0.9936\n",
      "Epoch 17/20\n",
      "215/215 [==============================] - 3s 15ms/step - loss: 0.0461 - accuracy: 0.9861 - val_loss: 0.0301 - val_accuracy: 0.9940\n",
      "Epoch 18/20\n",
      "215/215 [==============================] - 3s 15ms/step - loss: 0.0379 - accuracy: 0.9874 - val_loss: 0.0324 - val_accuracy: 0.9926\n",
      "Epoch 19/20\n",
      "215/215 [==============================] - 3s 15ms/step - loss: 0.0371 - accuracy: 0.9883 - val_loss: 0.0288 - val_accuracy: 0.9940\n",
      "Epoch 20/20\n",
      "215/215 [==============================] - 3s 15ms/step - loss: 0.0341 - accuracy: 0.9892 - val_loss: 0.0281 - val_accuracy: 0.9944\n"
     ]
    },
    {
     "data": {
      "text/plain": [
       "<tensorflow.python.keras.callbacks.History at 0x1115857b9d0>"
      ]
     },
     "execution_count": 96,
     "metadata": {},
     "output_type": "execute_result"
    }
   ],
   "source": [
    "import math \n",
    "K = keras.backend\n",
    "\n",
    "n_epochs = 20\n",
    "onecycle = OneCycleScheduler(math.ceil(len(X_train) / batch_size) * n_epochs, max_rate=0.01)\n",
    "\n",
    "one_model = keras.models.Sequential([\n",
    "    keras.layers.Conv2D(32, kernel_size=3, padding=\"same\", activation=\"relu\", input_shape=[28, 28, 1]),\n",
    "    keras.layers.Conv2D(32, kernel_size=3, padding=\"same\", activation=\"relu\"),\n",
    "    keras.layers.MaxPool2D(),\n",
    "    keras.layers.Flatten(),\n",
    "    keras.layers.Dropout(0.25),\n",
    "    keras.layers.Dense(128, activation=\"relu\"),\n",
    "    keras.layers.Dropout(0.5),\n",
    "    keras.layers.Dense(10, activation=\"softmax\")\n",
    "])\n",
    "\n",
    "one_model.compile(loss=\"sparse_categorical_crossentropy\", optimizer=\"nadam\", metrics=[\"accuracy\"])\n",
    "one_model.fit(train_ds, epochs=20, validation_data=valid_ds, callbacks=[onecycle])"
   ]
  },
  {
   "cell_type": "code",
   "execution_count": 97,
   "id": "behind-culture",
   "metadata": {},
   "outputs": [
    {
     "data": {
      "text/plain": [
       "0.994"
      ]
     },
     "execution_count": 97,
     "metadata": {},
     "output_type": "execute_result"
    }
   ],
   "source": [
    "one_pred = one_model.predict(X_test)\n",
    "one_y = np.argmax(one_pred, axis=-1)\n",
    "accuracy_score(one_y, y_test)"
   ]
  },
  {
   "cell_type": "markdown",
   "id": "ranging-administration",
   "metadata": {},
   "source": [
    "아직 원리는 잘 모르지만 **1사이클 스케줄링**을 사용했더니  \n",
    "> 더 빨리 좋은 솔루션에 수렴함을 확인함"
   ]
  },
  {
   "cell_type": "code",
   "execution_count": 98,
   "id": "french-nature",
   "metadata": {},
   "outputs": [],
   "source": [
    "K = keras.backend\n",
    "\n",
    "class ExponentialLearningRate(keras.callbacks.Callback):\n",
    "    def __init__(self, factor):\n",
    "        self.factor = factor\n",
    "        self.rates = []\n",
    "        self.losses = []\n",
    "    def on_batch_end(self, batch, logs):\n",
    "        self.rates.append(K.get_value(self.model.optimizer.lr))\n",
    "        self.losses.append(logs[\"loss\"])\n",
    "        K.set_value(self.model.optimizer.lr, self.model.optimizer.lr * self.factor)\n",
    "\n",
    "def find_learning_rate(model, X, y, epochs=1, batch_size=32, min_rate=10**-5, max_rate=10):\n",
    "    init_weights = model.get_weights()\n",
    "    iterations = math.ceil(len(X) / batch_size) * epochs\n",
    "    factor = np.exp(np.log(max_rate / min_rate) / iterations)\n",
    "    init_lr = K.get_value(model.optimizer.lr)\n",
    "    K.set_value(model.optimizer.lr, min_rate)\n",
    "    exp_lr = ExponentialLearningRate(factor)\n",
    "    history = model.fit(X, y, epochs=epochs, batch_size=batch_size,\n",
    "                        callbacks=[exp_lr])\n",
    "    K.set_value(model.optimizer.lr, init_lr)\n",
    "    model.set_weights(init_weights)\n",
    "    return exp_lr.rates, exp_lr.losses\n",
    "\n",
    "def plot_lr_vs_loss(rates, losses):\n",
    "    plt.plot(rates, losses)\n",
    "    plt.gca().set_xscale('log')\n",
    "    plt.hlines(min(losses), min(rates), max(rates))\n",
    "    plt.axis([min(rates), max(rates), min(losses), (losses[0] + min(losses)) / 2])\n",
    "    plt.xlabel(\"Learning rate\")\n",
    "    plt.ylabel(\"Loss\")"
   ]
  },
  {
   "cell_type": "code",
   "execution_count": 99,
   "id": "unusual-adrian",
   "metadata": {},
   "outputs": [],
   "source": [
    "one_model = keras.models.Sequential([\n",
    "    keras.layers.Conv2D(32, kernel_size=3, padding=\"same\", activation=\"relu\", input_shape=[28, 28, 1]),\n",
    "    keras.layers.Conv2D(32, kernel_size=3, padding=\"same\", activation=\"relu\"),\n",
    "    keras.layers.MaxPool2D(),\n",
    "    keras.layers.Flatten(),\n",
    "    keras.layers.Dropout(0.25),\n",
    "    keras.layers.Dense(128, activation=\"relu\"),\n",
    "    keras.layers.Dropout(0.5),\n",
    "    keras.layers.Dense(10, activation=\"softmax\")\n",
    "])\n",
    "\n",
    "one_model.compile(loss=\"sparse_categorical_crossentropy\", optimizer=\"nadam\", metrics=[\"accuracy\"])"
   ]
  },
  {
   "cell_type": "code",
   "execution_count": 102,
   "id": "protective-oxford",
   "metadata": {},
   "outputs": [
    {
     "name": "stdout",
     "output_type": "stream",
     "text": [
      "430/430 [==============================] - 6s 12ms/step - loss: 1.9550 - accuracy: 0.4396\n"
     ]
    },
    {
     "data": {
      "image/png": "[encoded data removed]",
      "text/plain": [
       "<Figure size 432x288 with 1 Axes>"
      ]
     },
     "metadata": {
      "needs_background": "light"
     },
     "output_type": "display_data"
    }
   ],
   "source": [
    "batch_size = 128\n",
    "rates, losses = find_learning_rate(one_model, X_train, y_train, epochs=1, batch_size=batch_size)\n",
    "plot_lr_vs_loss(rates, losses)"
   ]
  },
  {
   "cell_type": "code",
   "execution_count": null,
   "id": "romance-federal",
   "metadata": {},
   "outputs": [],
   "source": []
  }
 ],
 "metadata": {
  "kernelspec": {
   "display_name": "Python 3",
   "language": "python",
   "name": "python3"
  },
  "language_info": {
   "codemirror_mode": {
    "name": "ipython",
    "version": 3
   },
   "file_extension": ".py",
   "mimetype": "text/x-python",
   "name": "python",
   "nbconvert_exporter": "python",
   "pygments_lexer": "ipython3",
   "version": "3.8.8"
  }
 },
 "nbformat": 4,
 "nbformat_minor": 5
}
