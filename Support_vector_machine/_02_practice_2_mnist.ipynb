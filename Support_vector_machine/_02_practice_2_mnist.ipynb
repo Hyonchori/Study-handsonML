{
 "cells": [
  {
   "cell_type": "markdown",
   "metadata": {},
   "source": [
    "# 2. MNIST데이터셋에 대하여 SVM학습하기\n",
    "svm은 이진 분류기라서 OvR전략을 사용해 10개의 숫자를 분류함  \n",
    "처리속도를 높이기 위해 작은 검증 세트로 하이퍼파라미터를 조절하는 것이 좋다고 함  \n",
    "가능한 높은 정확도를 달성할 것"
   ]
  },
  {
   "cell_type": "code",
   "execution_count": 1,
   "metadata": {},
   "outputs": [],
   "source": [
    "from sklearn.datasets import fetch_openml\n",
    "mnist = fetch_openml(\"mnist_784\", version=1)\n",
    "x, y = mnist[\"data\"], mnist[\"target\"]\n",
    "x_train, x_test = x[: 60000], x[60000: ]\n",
    "y_train, y_test = y[: 60000], y[60000: ]"
   ]
  },
  {
   "cell_type": "code",
   "execution_count": 2,
   "metadata": {},
   "outputs": [
    {
     "name": "stdout",
     "output_type": "stream",
     "text": [
      "\n",
      "---\n",
      "12000 48000\n"
     ]
    }
   ],
   "source": [
    "from sklearn.model_selection import StratifiedShuffleSplit\n",
    "\n",
    "split = StratifiedShuffleSplit(n_splits=1, test_size=0.8, random_state=42)\n",
    "for mini_train_index, mini_test_index in split.split(x_train, y_train):\n",
    "    print(\"\\n---\")\n",
    "    print(len(mini_train_index), len(mini_test_index))\n",
    "    mini_x_train = x_train.iloc[mini_train_index]\n",
    "    mini_y_train = y_train.iloc[mini_train_index]\n",
    "    mini_x_test = x_train.iloc[mini_test_index]\n",
    "    mini_y_test = y_train.iloc[mini_test_index]"
   ]
  },
  {
   "cell_type": "markdown",
   "metadata": {},
   "source": [
    "mnist데이터셋은 이미 잘 섞여 있으니 단순 인덱스로 나누어 작은 검증 세트를 뽑아낼 수 있겠지만  \n",
    "일반화를 위해 **계층적 분리 스플릿** 을 이용"
   ]
  },
  {
   "cell_type": "code",
   "execution_count": 39,
   "metadata": {},
   "outputs": [],
   "source": [
    "from sklearn.svm import SVC\n",
    "from sklearn.preprocessing import StandardScaler\n",
    "from sklearn.pipeline import Pipeline\n",
    "\n",
    "svm_clf = Pipeline([\n",
    "    (\"scaler\", StandardScaler()),\n",
    "    (\"svm_clf\", SVC())\n",
    "])"
   ]
  },
  {
   "cell_type": "code",
   "execution_count": 33,
   "metadata": {},
   "outputs": [],
   "source": [
    "from scipy.ndimage.interpolation import shift\n",
    "from sklearn.base import BaseEstimator, TransformerMixin\n",
    "import numpy as np\n",
    "\n",
    "def shift_img(flatted_img):\n",
    "    img = flatted_img.reshape((28, 28))\n",
    "    dx, dy = np.random.randint(0, 3, size=2)\n",
    "    shifted_img = shift(img, [dy, dx], cval=0, mode=\"constant\")\n",
    "    return shifted_img.reshape([-1])\n",
    "\n",
    "class ImgShifter(BaseEstimator, TransformerMixin):\n",
    "    def __init__(self):\n",
    "        pass\n",
    "    def fit(self, X, y=None):\n",
    "        return self\n",
    "    def transform(self, X):\n",
    "        X = np.apply_along_axis(shift_img, -1, X)\n",
    "        return X"
   ]
  },
  {
   "cell_type": "code",
   "execution_count": 34,
   "metadata": {},
   "outputs": [
    {
     "name": "stdout",
     "output_type": "stream",
     "text": [
      "(12000, 784)\n"
     ]
    },
    {
     "data": {
      "text/plain": [
       "array([[ 0.00000000e+00,  0.00000000e+00,  0.00000000e+00, ...,\n",
       "        -3.31284797e-02, -1.37977840e-02, -9.12908968e-03],\n",
       "       [ 0.00000000e+00,  7.02995108e-21, -9.46818715e-21, ...,\n",
       "        -9.27533742e-19, -8.47884556e-19, -9.89933632e-19],\n",
       "       [ 2.53212601e-22, -2.69015966e-21, -1.11546898e-19, ...,\n",
       "        -8.20683076e-19, -7.73286048e-19,  2.47295715e-19],\n",
       "       ...,\n",
       "       [ 0.00000000e+00,  0.00000000e+00,  0.00000000e+00, ...,\n",
       "        -3.31284797e-02, -1.37977840e-02, -9.12908968e-03],\n",
       "       [ 0.00000000e+00,  0.00000000e+00,  0.00000000e+00, ...,\n",
       "        -9.12908968e-03, -9.12908968e-03, -2.49681380e-18],\n",
       "       [ 0.00000000e+00,  0.00000000e+00,  0.00000000e+00, ...,\n",
       "        -9.12908968e-03, -4.84343112e-19,  1.30292847e-19]])"
      ]
     },
     "execution_count": 34,
     "metadata": {},
     "output_type": "execute_result"
    }
   ],
   "source": [
    "preprocessing_pipeline = Pipeline([\n",
    "    (\"scaler\", StandardScaler()),\n",
    "    (\"shfter\", ImgShifter())\n",
    "])\n",
    "\n",
    "preprocessing_pipeline.fit_transform(mini_x_train)"
   ]
  },
  {
   "cell_type": "markdown",
   "metadata": {},
   "source": [
    "mnist 이미지를 **쉬프트한 데이터로 증강하면** 더 좋은 정확도를 얻을 수 있기 때문에 전처리 파이프라인으로 생성"
   ]
  },
  {
   "cell_type": "code",
   "execution_count": 36,
   "metadata": {},
   "outputs": [],
   "source": [
    "'''svm_clf = Pipeline([\n",
    "    (\"scaler\", StandardScaler()),\n",
    "    (\"shifter\", ImgShifter()),\n",
    "    (\"svm_clf\", SVC())\n",
    "])'''"
   ]
  },
  {
   "cell_type": "code",
   "execution_count": 37,
   "metadata": {},
   "outputs": [
    {
     "name": "stdout",
     "output_type": "stream",
     "text": [
      "(12000, 784)\n"
     ]
    },
    {
     "data": {
      "text/plain": [
       "Pipeline(steps=[('scaler', StandardScaler()), ('shifter', ImgShifter()),\n",
       "                ('svm_clf', SVC())])"
      ]
     },
     "execution_count": 37,
     "metadata": {},
     "output_type": "execute_result"
    }
   ],
   "source": [
    "svm_clf.fit(mini_x_train, mini_y_train)"
   ]
  },
  {
   "cell_type": "code",
   "execution_count": 38,
   "metadata": {},
   "outputs": [
    {
     "name": "stdout",
     "output_type": "stream",
     "text": [
      "(48000, 784)\n"
     ]
    },
    {
     "data": {
      "text/plain": [
       "0.914125"
      ]
     },
     "execution_count": 38,
     "metadata": {},
     "output_type": "execute_result"
    }
   ],
   "source": [
    "from sklearn.metrics import accuracy_score\n",
    "svm_predict = svm_clf.predict(mini_x_test)\n",
    "accuracy_score(mini_y_test, svm_predict)"
   ]
  },
  {
   "cell_type": "markdown",
   "metadata": {},
   "source": [
    "???? shifter를 추가하기 전에는 94%였는데 더 떨어짐(????)  \n",
    "대체 뭐지...  \n",
    "그래서 아래 그리드탐색은 std 스케일링만 한걸로 진행함"
   ]
  },
  {
   "cell_type": "code",
   "execution_count": 40,
   "metadata": {},
   "outputs": [],
   "source": [
    "from sklearn.model_selection import GridSearchCV\n",
    "\n",
    "param_grid = [\n",
    "    {\"svm_clf__C\": [0.01, 0.1, 1, 10, 100], \n",
    "    \"svm_clf__kernel\": [\"linear\", \"poly\", \"rbf\"],\n",
    "    \"svm_clf__gamma\": [\"scale\", \"auto\"]}\n",
    "]\n",
    "\n",
    "grid_search = GridSearchCV(svm_clf, param_grid, cv=5, \n",
    "                          scoring=\"accuracy\",\n",
    "                          return_train_score=True)"
   ]
  },
  {
   "cell_type": "code",
   "execution_count": 41,
   "metadata": {},
   "outputs": [
    {
     "data": {
      "text/plain": [
       "GridSearchCV(cv=5,\n",
       "             estimator=Pipeline(steps=[('scaler', StandardScaler()),\n",
       "                                       ('svm_clf', SVC())]),\n",
       "             param_grid=[{'svm_clf__C': [0.01, 0.1, 1, 10, 100],\n",
       "                          'svm_clf__gamma': ['scale', 'auto'],\n",
       "                          'svm_clf__kernel': ['linear', 'poly', 'rbf']}],\n",
       "             return_train_score=True, scoring='accuracy')"
      ]
     },
     "execution_count": 41,
     "metadata": {},
     "output_type": "execute_result"
    }
   ],
   "source": [
    "grid_search.fit(mini_x_train, mini_y_train)"
   ]
  },
  {
   "cell_type": "code",
   "execution_count": 42,
   "metadata": {},
   "outputs": [
    {
     "data": {
      "text/plain": [
       "{'svm_clf__C': 100, 'svm_clf__gamma': 'scale', 'svm_clf__kernel': 'poly'}"
      ]
     },
     "execution_count": 42,
     "metadata": {},
     "output_type": "execute_result"
    }
   ],
   "source": [
    "grid_search.best_params_"
   ]
  },
  {
   "cell_type": "code",
   "execution_count": 43,
   "metadata": {},
   "outputs": [],
   "source": [
    "best_svm = grid_search.best_estimator_"
   ]
  },
  {
   "cell_type": "code",
   "execution_count": 44,
   "metadata": {},
   "outputs": [
    {
     "data": {
      "text/plain": [
       "0.964"
      ]
     },
     "execution_count": 44,
     "metadata": {},
     "output_type": "execute_result"
    }
   ],
   "source": [
    "best_predict = best_svm.predict(mini_x_test)\n",
    "accuracy_score(mini_y_test, best_predict)"
   ]
  },
  {
   "cell_type": "markdown",
   "metadata": {},
   "source": [
    "확실히 그리드 탐색을 하고 파라미터를 수정하니 성능이 올라감  \n",
    "학습데이터를 증가시키면 성능이 더 좋을듯  \n",
    "> 일단 결과를 보면 이전에 **KNN**분류기를 사용했을 때보다 걸린 시간, 성능 둘 다 떨어짐...  \n",
    "데이터셋에 따라 다른건가??"
   ]
  }
 ],
 "metadata": {
  "kernelspec": {
   "display_name": "Python 3",
   "language": "python",
   "name": "python3"
  },
  "language_info": {
   "codemirror_mode": {
    "name": "ipython",
    "version": 3
   },
   "file_extension": ".py",
   "mimetype": "text/x-python",
   "name": "python",
   "nbconvert_exporter": "python",
   "pygments_lexer": "ipython3",
   "version": "3.9.1"
  }
 },
 "nbformat": 4,
 "nbformat_minor": 4
}
