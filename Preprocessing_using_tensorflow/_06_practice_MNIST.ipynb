{
 "cells": [
  {
   "cell_type": "markdown",
   "id": "light-grammar",
   "metadata": {},
   "source": [
    "# 패션 MNIST\n",
    "1. 패션 MNIST 데이터셋을 적재하고 학습셋, 검증셋, 테스트셋으로 나누기\n",
    "2. 학습셋을 섞은 다음 각 데이터셋을 TFRecord 파일로 저장하기. 각 레코드는 두 개의 특성을 가진 Example 프로토콜 버퍼, 즉 직렬화된 이미지(tf.io.serialize_tensor()를 사용)와 레이블임.\n",
    "3. tf.data API를 사용해서 각 세트를 위한 효율적인 데이터셋을 만들기\n",
    "4. 이 데이터셋으로 입력 특성을 표준화하는 전처리층을 포함한 케라스 모델을 학습하기\n",
    "5. 텐서보드로 프로파일 데이터를 시각화하여 가능한 한 입력 파이트라인을 효율적으로 만들기"
   ]
  },
  {
   "cell_type": "markdown",
   "id": "looking-clear",
   "metadata": {},
   "source": [
    "---\n",
    "## 1. 학습셋, 검증셋, 테스트셋으로 나누기"
   ]
  },
  {
   "cell_type": "code",
   "execution_count": 1,
   "id": "italic-outreach",
   "metadata": {},
   "outputs": [],
   "source": [
    "import tensorflow as tf\n",
    "from tensorflow import keras"
   ]
  },
  {
   "cell_type": "code",
   "execution_count": 2,
   "id": "double-indonesia",
   "metadata": {},
   "outputs": [],
   "source": [
    "mnist = keras.datasets.fashion_mnist.load_data()"
   ]
  },
  {
   "cell_type": "code",
   "execution_count": 3,
   "id": "integrated-housing",
   "metadata": {},
   "outputs": [],
   "source": [
    "from sklearn.model_selection import train_test_split\n",
    "\n",
    "(x_train_full, y_train_full), (x_test, y_test) = mnist\n",
    "x_train, y_train = x_train_full[: 50000], y_train_full[: 50000]\n",
    "x_val, y_val = x_train_full[50000: ], y_train_full[50000: ]"
   ]
  },
  {
   "cell_type": "code",
   "execution_count": 4,
   "id": "determined-adoption",
   "metadata": {},
   "outputs": [],
   "source": [
    "train_set = tf.data.Dataset.from_tensor_slices((x_train, y_train)).shuffle(len(x_train))\n",
    "valid_set = tf.data.Dataset.from_tensor_slices((x_val, y_val))\n",
    "test_set = tf.data.Dataset.from_tensor_slices((x_test, y_test))"
   ]
  },
  {
   "cell_type": "markdown",
   "id": "chicken-release",
   "metadata": {},
   "source": [
    "---\n",
    "## 2. 학습셋을 섞은 후 각 데이터셋을 TFRecord 파일로 저장하기"
   ]
  },
  {
   "cell_type": "code",
   "execution_count": 25,
   "id": "later-phenomenon",
   "metadata": {},
   "outputs": [
    {
     "data": {
      "text/plain": [
       "'for id, (img, label) in train_set.enumerate():\\n    img_example = get_img_example_serial(img, label)\\n    file_name = \"train_{:05d}.tfrecord\".format(id)\\n    file_path = os.path.join(target_dir, file_name)\\n    \\n    with tf.io.TFRecordWriter(file_path) as f:\\n        f.write(img_example)'"
      ]
     },
     "execution_count": 25,
     "metadata": {},
     "output_type": "execute_result"
    }
   ],
   "source": [
    "import os\n",
    "from tensorflow.train import Example, Features, Feature\n",
    "from tensorflow.train import BytesList, Int64List\n",
    "\n",
    "target_dir = \"./mnist_tfrecords\"\n",
    "if not os.path.exists(target_dir):\n",
    "    os.mkdir(target_dir)\n",
    "else:\n",
    "    pass\n",
    "\n",
    "\n",
    "def get_img_example_serial(img, label):\n",
    "    img_data = tf.io.serialize_tensor(img)\n",
    "    img_example = Example(\n",
    "    features = Features(\n",
    "        feature={\n",
    "            \"label\": Feature(int64_list = Int64List(value=[label.numpy()])),\n",
    "            \"img\": Feature(bytes_list = BytesList(value=[img_data.numpy()]))\n",
    "        }))\n",
    "    serialized_example = img_example.SerializeToString()\n",
    "    return serialized_example\n",
    "\n",
    "def get_tfrecord_paths(data_set):\n",
    "    paths = []\n",
    "    for id, (img, label) in train_set.enumerate():\n",
    "        file_name = \"train_{:05d}.tfrecord\".format(id)\n",
    "        file_path = os.path.join(target_dir, file_name)\n",
    "        paths.append(file_path)\n",
    "    return paths\n",
    "\n",
    "train_paths = get_tfrecord_paths(train_set)\n",
    "valid_path = get_tfrecord_paths(valid_set)\n",
    "test_path = get_tfrecord_paths(test_set)\n",
    "'''for id, (img, label) in train_set.enumerate():\n",
    "    img_example = get_img_example_serial(img, label)\n",
    "    file_name = \"train_{:05d}.tfrecord\".format(id)\n",
    "    file_path = os.path.join(target_dir, file_name)\n",
    "    \n",
    "    with tf.io.TFRecordWriter(file_path) as f:\n",
    "        f.write(img_example)'''"
   ]
  },
  {
   "cell_type": "code",
   "execution_count": 6,
   "id": "rolled-seafood",
   "metadata": {},
   "outputs": [
    {
     "data": {
      "text/plain": [
       "'for id, (img, label) in valid_set.enumerate():\\n    img_example = get_img_example_serial(img, label)\\n    file_name = \"valid_{:05d}.tfrecord\".format(id)\\n    file_path = os.path.join(target_dir, file_name)\\n    \\n    with tf.io.TFRecordWriter(file_path) as f:\\n        f.write(img_example)'"
      ]
     },
     "execution_count": 6,
     "metadata": {},
     "output_type": "execute_result"
    }
   ],
   "source": [
    "'''for id, (img, label) in valid_set.enumerate():\n",
    "    img_example = get_img_example_serial(img, label)\n",
    "    file_name = \"valid_{:05d}.tfrecord\".format(id)\n",
    "    file_path = os.path.join(target_dir, file_name)\n",
    "    \n",
    "    with tf.io.TFRecordWriter(file_path) as f:\n",
    "        f.write(img_example)'''"
   ]
  },
  {
   "cell_type": "code",
   "execution_count": 7,
   "id": "lasting-immune",
   "metadata": {},
   "outputs": [
    {
     "data": {
      "text/plain": [
       "'for id, (img, label) in test_set.enumerate():\\n    img_example = get_img_example_serial(img, label)\\n    file_name = \"test_{:05d}.tfrecord\".format(id)\\n    file_path = os.path.join(target_dir, file_name)\\n    \\n    with tf.io.TFRecordWriter(file_path) as f:\\n        f.write(img_example)'"
      ]
     },
     "execution_count": 7,
     "metadata": {},
     "output_type": "execute_result"
    }
   ],
   "source": [
    "'''for id, (img, label) in test_set.enumerate():\n",
    "    img_example = get_img_example_serial(img, label)\n",
    "    file_name = \"test_{:05d}.tfrecord\".format(id)\n",
    "    file_path = os.path.join(target_dir, file_name)\n",
    "    \n",
    "    with tf.io.TFRecordWriter(file_path) as f:\n",
    "        f.write(img_example)'''"
   ]
  },
  {
   "cell_type": "markdown",
   "id": "basic-milwaukee",
   "metadata": {},
   "source": [
    "---\n",
    "## 3. tf.data API로 효율적인 데이터셋 만들기"
   ]
  },
  {
   "cell_type": "code",
   "execution_count": 29,
   "id": "under-westminster",
   "metadata": {},
   "outputs": [],
   "source": [
    "feature_description = {\n",
    "    \"img\": tf.io.FixedLenFeature([], tf.string, default_value=\"\"),\n",
    "    \"label\": tf.io.FixedLenFeature([], tf.int64, default_value=0)\n",
    "}\n",
    "\n",
    "def preprocess(tfrecord):\n",
    "    example = tf.io.parse_single_example(tfrecord, feature_description)\n",
    "    img = tf.io.parse_tensor(example[\"img\"], out_type=tf.uint8)\n",
    "    img = tf.reshape(img, shape=[28, 28])\n",
    "    return img, example[\"label\"]"
   ]
  },
  {
   "cell_type": "code",
   "execution_count": 68,
   "id": "established-hammer",
   "metadata": {},
   "outputs": [],
   "source": [
    "def get_dataset_from_paths(filepaths, n_read_threads=5, shuffle_buffer_size=None,\n",
    "                          n_parse_threads=5, batch_size=256, cache=True):\n",
    "    dataset = tf.data.TFRecordDataset(filepaths, \n",
    "                                     num_parallel_reads=n_read_threads)\n",
    "    if cache:\n",
    "        dataset = dataset.cache()\n",
    "    if shuffle_buffer_size:\n",
    "        dataset = dataset.shuffle(shuffle_buffer_size)\n",
    "    \n",
    "    dataset = dataset.map(preprocess, num_parallel_calls=n_parse_threads)\n",
    "    dataset = dataset.batch(batch_size)\n",
    "    return dataset"
   ]
  },
  {
   "cell_type": "code",
   "execution_count": 69,
   "id": "hungry-geography",
   "metadata": {},
   "outputs": [],
   "source": [
    "train_set = get_dataset_from_paths(train_paths, shuffle_buffer_size=60000)\n",
    "valid_set = get_dataset_from_paths(valid_path)\n",
    "test_set = get_dataset_from_paths(test_path)"
   ]
  },
  {
   "cell_type": "markdown",
   "id": "fossil-jacket",
   "metadata": {},
   "source": [
    "---\n",
    "## 4. 전처리층을 포함한 케라스 모델 학습하기"
   ]
  },
  {
   "cell_type": "code",
   "execution_count": 70,
   "id": "polyphonic-cuisine",
   "metadata": {},
   "outputs": [
    {
     "name": "stdout",
     "output_type": "stream",
     "text": [
      "(50000, 28, 28)\n"
     ]
    }
   ],
   "source": [
    "import numpy as np\n",
    "\n",
    "std_layer = keras.layers.experimental.preprocessing.Normalization()\n",
    "sample_features = train_set.map(lambda img, label: img)\n",
    "sample_features = np.concatenate(list(sample_features.as_numpy_iterator()), axis=0).astype(np.float32)\n",
    "print(sample_features.shape)\n",
    "std_layer.adapt(sample_features)"
   ]
  },
  {
   "cell_type": "code",
   "execution_count": 71,
   "id": "blocked-register",
   "metadata": {},
   "outputs": [],
   "source": [
    "model = keras.models.Sequential([\n",
    "    keras.layers.Input(shape=[28, 28]),\n",
    "    std_layer,\n",
    "    keras.layers.Flatten(),\n",
    "    keras.layers.Dense(100, activation=\"elu\", kernel_initializer=\"he_normal\"),\n",
    "    keras.layers.Dense(10, activation=\"softmax\")\n",
    "])"
   ]
  },
  {
   "cell_type": "code",
   "execution_count": 72,
   "id": "fluid-package",
   "metadata": {},
   "outputs": [],
   "source": [
    "model.compile(loss=\"sparse_categorical_crossentropy\", optimizer=\"nadam\", metrics=[\"accuracy\"])"
   ]
  },
  {
   "cell_type": "code",
   "execution_count": 73,
   "id": "cubic-attribute",
   "metadata": {},
   "outputs": [
    {
     "name": "stdout",
     "output_type": "stream",
     "text": [
      "Epoch 1/100\n",
      "196/196 [==============================] - 3s 16ms/step - loss: 0.7606 - accuracy: 0.7416 - val_loss: 0.4324 - val_accuracy: 0.8436\n",
      "Epoch 2/100\n",
      "196/196 [==============================] - 1s 5ms/step - loss: 0.3935 - accuracy: 0.8605 - val_loss: 0.4387 - val_accuracy: 0.8346\n",
      "Epoch 3/100\n",
      "196/196 [==============================] - 1s 5ms/step - loss: 0.3515 - accuracy: 0.8734 - val_loss: 0.3461 - val_accuracy: 0.8734\n",
      "Epoch 4/100\n",
      "196/196 [==============================] - 1s 5ms/step - loss: 0.3170 - accuracy: 0.8867 - val_loss: 0.3117 - val_accuracy: 0.8872\n",
      "Epoch 5/100\n",
      "196/196 [==============================] - 1s 4ms/step - loss: 0.2959 - accuracy: 0.8918 - val_loss: 0.3155 - val_accuracy: 0.8797\n",
      "Epoch 6/100\n",
      "196/196 [==============================] - 1s 4ms/step - loss: 0.2829 - accuracy: 0.8962 - val_loss: 0.2784 - val_accuracy: 0.8972\n",
      "Epoch 7/100\n",
      "196/196 [==============================] - 1s 4ms/step - loss: 0.2600 - accuracy: 0.9044 - val_loss: 0.3017 - val_accuracy: 0.8867\n",
      "Epoch 8/100\n",
      "196/196 [==============================] - 1s 4ms/step - loss: 0.2512 - accuracy: 0.9091 - val_loss: 0.2349 - val_accuracy: 0.9147\n",
      "Epoch 9/100\n",
      "196/196 [==============================] - 1s 4ms/step - loss: 0.2368 - accuracy: 0.9140 - val_loss: 0.2465 - val_accuracy: 0.9086\n",
      "Epoch 10/100\n",
      "196/196 [==============================] - 1s 4ms/step - loss: 0.2257 - accuracy: 0.9183 - val_loss: 0.2322 - val_accuracy: 0.9142\n",
      "Epoch 11/100\n",
      "196/196 [==============================] - 1s 4ms/step - loss: 0.2184 - accuracy: 0.9207 - val_loss: 0.2088 - val_accuracy: 0.9241\n",
      "Epoch 12/100\n",
      "196/196 [==============================] - 1s 5ms/step - loss: 0.2067 - accuracy: 0.9258 - val_loss: 0.1996 - val_accuracy: 0.9282\n",
      "Epoch 13/100\n",
      "196/196 [==============================] - 1s 4ms/step - loss: 0.2015 - accuracy: 0.9269 - val_loss: 0.2003 - val_accuracy: 0.9275\n",
      "Epoch 14/100\n",
      "196/196 [==============================] - 1s 4ms/step - loss: 0.1933 - accuracy: 0.9312 - val_loss: 0.1836 - val_accuracy: 0.9335\n",
      "Epoch 15/100\n",
      "196/196 [==============================] - 1s 4ms/step - loss: 0.1866 - accuracy: 0.9328 - val_loss: 0.1812 - val_accuracy: 0.9334\n",
      "Epoch 16/100\n",
      "196/196 [==============================] - 1s 4ms/step - loss: 0.1776 - accuracy: 0.9360 - val_loss: 0.1711 - val_accuracy: 0.9400\n",
      "Epoch 17/100\n",
      "196/196 [==============================] - 1s 4ms/step - loss: 0.1709 - accuracy: 0.9391 - val_loss: 0.1584 - val_accuracy: 0.9432\n",
      "Epoch 18/100\n",
      "196/196 [==============================] - 1s 4ms/step - loss: 0.1629 - accuracy: 0.9404 - val_loss: 0.1586 - val_accuracy: 0.9432\n",
      "Epoch 19/100\n",
      "196/196 [==============================] - 1s 4ms/step - loss: 0.1584 - accuracy: 0.9440 - val_loss: 0.1468 - val_accuracy: 0.9494\n",
      "Epoch 20/100\n",
      "196/196 [==============================] - 1s 4ms/step - loss: 0.1488 - accuracy: 0.9490 - val_loss: 0.1705 - val_accuracy: 0.9355\n",
      "Epoch 21/100\n",
      "196/196 [==============================] - 1s 4ms/step - loss: 0.1456 - accuracy: 0.9488 - val_loss: 0.1430 - val_accuracy: 0.9490\n",
      "Epoch 22/100\n",
      "196/196 [==============================] - 1s 4ms/step - loss: 0.1391 - accuracy: 0.9516 - val_loss: 0.1380 - val_accuracy: 0.9508\n",
      "Epoch 23/100\n",
      "196/196 [==============================] - 1s 4ms/step - loss: 0.1392 - accuracy: 0.9516 - val_loss: 0.1483 - val_accuracy: 0.9457\n",
      "Epoch 24/100\n",
      "196/196 [==============================] - 1s 4ms/step - loss: 0.1319 - accuracy: 0.9557 - val_loss: 0.1519 - val_accuracy: 0.9442\n",
      "Epoch 25/100\n",
      "196/196 [==============================] - 1s 4ms/step - loss: 0.1242 - accuracy: 0.9571 - val_loss: 0.1277 - val_accuracy: 0.9555\n",
      "Epoch 26/100\n",
      "196/196 [==============================] - 1s 5ms/step - loss: 0.1200 - accuracy: 0.9582 - val_loss: 0.1333 - val_accuracy: 0.9523\n",
      "Epoch 27/100\n",
      "196/196 [==============================] - 1s 4ms/step - loss: 0.1203 - accuracy: 0.9582 - val_loss: 0.1155 - val_accuracy: 0.9593\n",
      "Epoch 28/100\n",
      "196/196 [==============================] - 1s 4ms/step - loss: 0.1096 - accuracy: 0.9629 - val_loss: 0.1174 - val_accuracy: 0.9581\n",
      "Epoch 29/100\n",
      "196/196 [==============================] - 1s 4ms/step - loss: 0.1076 - accuracy: 0.9640 - val_loss: 0.1126 - val_accuracy: 0.9599\n",
      "Epoch 30/100\n",
      "196/196 [==============================] - 1s 4ms/step - loss: 0.1044 - accuracy: 0.9640 - val_loss: 0.1015 - val_accuracy: 0.9650\n",
      "Epoch 31/100\n",
      "196/196 [==============================] - 1s 4ms/step - loss: 0.0983 - accuracy: 0.9668 - val_loss: 0.1058 - val_accuracy: 0.9621\n",
      "Epoch 32/100\n",
      "196/196 [==============================] - 1s 4ms/step - loss: 0.0983 - accuracy: 0.9668 - val_loss: 0.1173 - val_accuracy: 0.9589\n",
      "Epoch 33/100\n",
      "196/196 [==============================] - 1s 4ms/step - loss: 0.0985 - accuracy: 0.9662 - val_loss: 0.1029 - val_accuracy: 0.9649\n",
      "Epoch 34/100\n",
      "196/196 [==============================] - 1s 4ms/step - loss: 0.0940 - accuracy: 0.9687 - val_loss: 0.0833 - val_accuracy: 0.9731\n",
      "Epoch 35/100\n",
      "196/196 [==============================] - 1s 4ms/step - loss: 0.0844 - accuracy: 0.9715 - val_loss: 0.0761 - val_accuracy: 0.9763\n",
      "Epoch 36/100\n",
      "196/196 [==============================] - 1s 4ms/step - loss: 0.0845 - accuracy: 0.9722 - val_loss: 0.0801 - val_accuracy: 0.9733\n",
      "Epoch 37/100\n",
      "196/196 [==============================] - 1s 4ms/step - loss: 0.0819 - accuracy: 0.9726 - val_loss: 0.0753 - val_accuracy: 0.9753\n",
      "Epoch 38/100\n",
      "196/196 [==============================] - 1s 4ms/step - loss: 0.0776 - accuracy: 0.9745 - val_loss: 0.0840 - val_accuracy: 0.9710\n",
      "Epoch 39/100\n",
      "196/196 [==============================] - 1s 4ms/step - loss: 0.0785 - accuracy: 0.9747 - val_loss: 0.0675 - val_accuracy: 0.9797\n",
      "Epoch 40/100\n",
      "196/196 [==============================] - 1s 4ms/step - loss: 0.0716 - accuracy: 0.9773 - val_loss: 0.0771 - val_accuracy: 0.9749\n",
      "Epoch 41/100\n",
      "196/196 [==============================] - 1s 4ms/step - loss: 0.0679 - accuracy: 0.9780 - val_loss: 0.0942 - val_accuracy: 0.9645\n",
      "Epoch 42/100\n",
      "196/196 [==============================] - 1s 4ms/step - loss: 0.0675 - accuracy: 0.9785 - val_loss: 0.0872 - val_accuracy: 0.9683\n",
      "Epoch 43/100\n",
      "196/196 [==============================] - 1s 4ms/step - loss: 0.0685 - accuracy: 0.9772 - val_loss: 0.0635 - val_accuracy: 0.9796\n",
      "Epoch 44/100\n",
      "196/196 [==============================] - 1s 4ms/step - loss: 0.0617 - accuracy: 0.9807 - val_loss: 0.0816 - val_accuracy: 0.9704\n",
      "Epoch 45/100\n",
      "196/196 [==============================] - 1s 4ms/step - loss: 0.0616 - accuracy: 0.9795 - val_loss: 0.0590 - val_accuracy: 0.9806\n",
      "Epoch 46/100\n",
      "196/196 [==============================] - 1s 4ms/step - loss: 0.0572 - accuracy: 0.9817 - val_loss: 0.0557 - val_accuracy: 0.9823\n",
      "Epoch 47/100\n",
      "196/196 [==============================] - 1s 4ms/step - loss: 0.0543 - accuracy: 0.9831 - val_loss: 0.0529 - val_accuracy: 0.9835\n",
      "Epoch 48/100\n",
      "196/196 [==============================] - 1s 5ms/step - loss: 0.0546 - accuracy: 0.9830 - val_loss: 0.0614 - val_accuracy: 0.9795\n",
      "Epoch 49/100\n",
      "196/196 [==============================] - 1s 4ms/step - loss: 0.0529 - accuracy: 0.9832 - val_loss: 0.0488 - val_accuracy: 0.9851\n",
      "Epoch 50/100\n",
      "196/196 [==============================] - 1s 4ms/step - loss: 0.0521 - accuracy: 0.9842 - val_loss: 0.0568 - val_accuracy: 0.9808\n",
      "Epoch 51/100\n",
      "196/196 [==============================] - 1s 4ms/step - loss: 0.0498 - accuracy: 0.9841 - val_loss: 0.0458 - val_accuracy: 0.9870\n",
      "Epoch 52/100\n",
      "196/196 [==============================] - 1s 4ms/step - loss: 0.0476 - accuracy: 0.9862 - val_loss: 0.0642 - val_accuracy: 0.9764\n",
      "Epoch 53/100\n",
      "196/196 [==============================] - 1s 4ms/step - loss: 0.0492 - accuracy: 0.9845 - val_loss: 0.0522 - val_accuracy: 0.9829\n",
      "Epoch 54/100\n",
      "196/196 [==============================] - 1s 4ms/step - loss: 0.0428 - accuracy: 0.9870 - val_loss: 0.0415 - val_accuracy: 0.9874\n",
      "Epoch 55/100\n",
      "196/196 [==============================] - 1s 4ms/step - loss: 0.0421 - accuracy: 0.9872 - val_loss: 0.0402 - val_accuracy: 0.9882\n",
      "Epoch 56/100\n",
      "196/196 [==============================] - 1s 5ms/step - loss: 0.0407 - accuracy: 0.9878 - val_loss: 0.0504 - val_accuracy: 0.9829\n",
      "Epoch 57/100\n",
      "196/196 [==============================] - 1s 4ms/step - loss: 0.0414 - accuracy: 0.9882 - val_loss: 0.0350 - val_accuracy: 0.9903\n"
     ]
    },
    {
     "name": "stdout",
     "output_type": "stream",
     "text": [
      "Epoch 58/100\n",
      "196/196 [==============================] - 1s 4ms/step - loss: 0.0358 - accuracy: 0.9897 - val_loss: 0.0370 - val_accuracy: 0.9890\n",
      "Epoch 59/100\n",
      "196/196 [==============================] - 1s 4ms/step - loss: 0.0377 - accuracy: 0.9895 - val_loss: 0.0370 - val_accuracy: 0.9883\n",
      "Epoch 60/100\n",
      "196/196 [==============================] - 1s 4ms/step - loss: 0.0370 - accuracy: 0.9888 - val_loss: 0.0396 - val_accuracy: 0.9877\n",
      "Epoch 61/100\n",
      "196/196 [==============================] - 1s 4ms/step - loss: 0.0372 - accuracy: 0.9893 - val_loss: 0.0380 - val_accuracy: 0.9886\n",
      "Epoch 62/100\n",
      "196/196 [==============================] - 1s 4ms/step - loss: 0.0352 - accuracy: 0.9901 - val_loss: 0.0378 - val_accuracy: 0.9878\n",
      "Epoch 63/100\n",
      "196/196 [==============================] - 1s 4ms/step - loss: 0.0339 - accuracy: 0.9900 - val_loss: 0.0285 - val_accuracy: 0.9919\n",
      "Epoch 64/100\n",
      "196/196 [==============================] - 1s 4ms/step - loss: 0.0329 - accuracy: 0.9907 - val_loss: 0.0287 - val_accuracy: 0.9921\n",
      "Epoch 65/100\n",
      "196/196 [==============================] - 1s 4ms/step - loss: 0.0294 - accuracy: 0.9922 - val_loss: 0.0340 - val_accuracy: 0.9896\n",
      "Epoch 66/100\n",
      "196/196 [==============================] - 1s 5ms/step - loss: 0.0319 - accuracy: 0.9901 - val_loss: 0.0490 - val_accuracy: 0.9822\n",
      "Epoch 67/100\n",
      "196/196 [==============================] - 1s 5ms/step - loss: 0.0301 - accuracy: 0.9909 - val_loss: 0.0215 - val_accuracy: 0.9953\n",
      "Epoch 68/100\n",
      "196/196 [==============================] - 1s 5ms/step - loss: 0.0252 - accuracy: 0.9932 - val_loss: 0.0349 - val_accuracy: 0.9882\n",
      "Epoch 69/100\n",
      "196/196 [==============================] - 1s 5ms/step - loss: 0.0262 - accuracy: 0.9928 - val_loss: 0.0283 - val_accuracy: 0.9918\n",
      "Epoch 70/100\n",
      "196/196 [==============================] - 1s 5ms/step - loss: 0.0249 - accuracy: 0.9935 - val_loss: 0.0266 - val_accuracy: 0.9924\n",
      "Epoch 71/100\n",
      "196/196 [==============================] - 1s 5ms/step - loss: 0.0269 - accuracy: 0.9928 - val_loss: 0.0291 - val_accuracy: 0.9907\n",
      "Epoch 72/100\n",
      "196/196 [==============================] - 1s 5ms/step - loss: 0.0257 - accuracy: 0.9922 - val_loss: 0.0401 - val_accuracy: 0.9872\n",
      "Epoch 73/100\n",
      "196/196 [==============================] - 1s 5ms/step - loss: 0.0267 - accuracy: 0.9926 - val_loss: 0.0488 - val_accuracy: 0.9832\n",
      "Epoch 74/100\n",
      "196/196 [==============================] - 1s 5ms/step - loss: 0.0249 - accuracy: 0.9928 - val_loss: 0.0207 - val_accuracy: 0.9947\n",
      "Epoch 75/100\n",
      "196/196 [==============================] - 1s 5ms/step - loss: 0.0199 - accuracy: 0.9950 - val_loss: 0.0204 - val_accuracy: 0.9945\n",
      "Epoch 76/100\n",
      "196/196 [==============================] - 1s 5ms/step - loss: 0.0195 - accuracy: 0.9950 - val_loss: 0.0209 - val_accuracy: 0.9948\n",
      "Epoch 77/100\n",
      "196/196 [==============================] - 1s 5ms/step - loss: 0.0223 - accuracy: 0.9941 - val_loss: 0.0308 - val_accuracy: 0.9898\n",
      "Epoch 78/100\n",
      "196/196 [==============================] - 1s 5ms/step - loss: 0.0196 - accuracy: 0.9945 - val_loss: 0.0245 - val_accuracy: 0.9920\n",
      "Epoch 79/100\n",
      "196/196 [==============================] - 1s 5ms/step - loss: 0.0192 - accuracy: 0.9949 - val_loss: 0.0167 - val_accuracy: 0.9960\n",
      "Epoch 80/100\n",
      "196/196 [==============================] - 1s 5ms/step - loss: 0.0186 - accuracy: 0.9950 - val_loss: 0.0228 - val_accuracy: 0.9928\n",
      "Epoch 81/100\n",
      "196/196 [==============================] - 1s 5ms/step - loss: 0.0171 - accuracy: 0.9958 - val_loss: 0.0183 - val_accuracy: 0.9952\n",
      "Epoch 82/100\n",
      "196/196 [==============================] - 1s 4ms/step - loss: 0.0203 - accuracy: 0.9942 - val_loss: 0.0420 - val_accuracy: 0.9858\n",
      "Epoch 83/100\n",
      "196/196 [==============================] - 1s 4ms/step - loss: 0.0326 - accuracy: 0.9892 - val_loss: 0.0347 - val_accuracy: 0.9877\n",
      "Epoch 84/100\n",
      "196/196 [==============================] - 1s 5ms/step - loss: 0.0279 - accuracy: 0.9917 - val_loss: 0.0229 - val_accuracy: 0.9926\n",
      "Epoch 85/100\n",
      "196/196 [==============================] - 1s 5ms/step - loss: 0.0192 - accuracy: 0.9952 - val_loss: 0.0184 - val_accuracy: 0.9945\n",
      "Epoch 86/100\n",
      "196/196 [==============================] - 1s 5ms/step - loss: 0.0157 - accuracy: 0.9958 - val_loss: 0.0133 - val_accuracy: 0.9967\n",
      "Epoch 87/100\n",
      "196/196 [==============================] - 1s 5ms/step - loss: 0.0119 - accuracy: 0.9975 - val_loss: 0.0178 - val_accuracy: 0.9947\n",
      "Epoch 88/100\n",
      "196/196 [==============================] - 1s 5ms/step - loss: 0.0138 - accuracy: 0.9967 - val_loss: 0.0186 - val_accuracy: 0.9936\n",
      "Epoch 89/100\n",
      "196/196 [==============================] - 1s 5ms/step - loss: 0.0147 - accuracy: 0.9965 - val_loss: 0.0159 - val_accuracy: 0.9956\n",
      "Epoch 90/100\n",
      "196/196 [==============================] - 1s 5ms/step - loss: 0.0154 - accuracy: 0.9958 - val_loss: 0.0117 - val_accuracy: 0.9973\n",
      "Epoch 91/100\n",
      "196/196 [==============================] - 1s 5ms/step - loss: 0.0121 - accuracy: 0.9974 - val_loss: 0.0163 - val_accuracy: 0.9952\n",
      "Epoch 92/100\n",
      "196/196 [==============================] - 1s 5ms/step - loss: 0.0136 - accuracy: 0.9962 - val_loss: 0.0269 - val_accuracy: 0.9908\n",
      "Epoch 93/100\n",
      "196/196 [==============================] - 1s 5ms/step - loss: 0.0183 - accuracy: 0.9945 - val_loss: 0.0217 - val_accuracy: 0.9932\n",
      "Epoch 94/100\n",
      "196/196 [==============================] - 1s 5ms/step - loss: 0.0269 - accuracy: 0.9918 - val_loss: 0.0458 - val_accuracy: 0.9813\n",
      "Epoch 95/100\n",
      "196/196 [==============================] - 1s 5ms/step - loss: 0.0255 - accuracy: 0.9915 - val_loss: 0.0146 - val_accuracy: 0.9956\n",
      "Epoch 96/100\n",
      "196/196 [==============================] - 1s 5ms/step - loss: 0.0132 - accuracy: 0.9967 - val_loss: 0.0088 - val_accuracy: 0.9983\n",
      "Epoch 97/100\n",
      "196/196 [==============================] - 1s 5ms/step - loss: 0.0081 - accuracy: 0.9988 - val_loss: 0.0071 - val_accuracy: 0.9992\n",
      "Epoch 98/100\n",
      "196/196 [==============================] - 1s 5ms/step - loss: 0.0094 - accuracy: 0.9981 - val_loss: 0.0092 - val_accuracy: 0.9982\n",
      "Epoch 99/100\n",
      "196/196 [==============================] - 1s 5ms/step - loss: 0.0097 - accuracy: 0.9980 - val_loss: 0.0079 - val_accuracy: 0.9984\n",
      "Epoch 100/100\n",
      "196/196 [==============================] - 1s 5ms/step - loss: 0.0092 - accuracy: 0.9983 - val_loss: 0.0147 - val_accuracy: 0.9962\n"
     ]
    },
    {
     "data": {
      "text/plain": [
       "<tensorflow.python.keras.callbacks.History at 0x22b1171e640>"
      ]
     },
     "execution_count": 73,
     "metadata": {},
     "output_type": "execute_result"
    }
   ],
   "source": [
    "from datetime import datetime\n",
    "logs = os.path.join(os.curdir, \"my_logs\",\n",
    "                    \"run_\" + datetime.now().strftime(\"%Y%m%d_%H%M%S\"))\n",
    "\n",
    "tensorboard_cb = tf.keras.callbacks.TensorBoard(\n",
    "    log_dir = logs)\n",
    "early_cb = tf.keras.callbacks.EarlyStopping(patience=10)\n",
    "\n",
    "model.fit(train_set, epochs=100, validation_data=valid_set, callbacks=[tensorboard_cb, early_cb])"
   ]
  },
  {
   "cell_type": "code",
   "execution_count": null,
   "id": "secure-communication",
   "metadata": {},
   "outputs": [],
   "source": []
  }
 ],
 "metadata": {
  "kernelspec": {
   "display_name": "Python 3",
   "language": "python",
   "name": "python3"
  },
  "language_info": {
   "codemirror_mode": {
    "name": "ipython",
    "version": 3
   },
   "file_extension": ".py",
   "mimetype": "text/x-python",
   "name": "python",
   "nbconvert_exporter": "python",
   "pygments_lexer": "ipython3",
   "version": "3.8.8"
  }
 },
 "nbformat": 4,
 "nbformat_minor": 5
}
