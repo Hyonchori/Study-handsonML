{
 "cells": [
  {
   "cell_type": "markdown",
   "id": "imported-moral",
   "metadata": {},
   "source": [
    "# TF 변환\n",
    "전처리는 계산 비용이 크기 때문에 학습과 동시에 진행하는 것 보다는 사전에 처리하는 것이 속도를 크게 높일 수 있음.  \n",
    "즉 데이터가 학습하는 동안 에포크마다 진행되는 것이 아니라 **학습하기 전에 샘플마다 한 번씩** 전처리하는 것이 좋음.  \n",
    "- 데이터가 RAM에 다 들어갈 수 있을 만큼 작다면 **cache()** 메서드를 사용할 수 있음\n",
    "- 데이터가 아주 크면 **아파치 빔, 스파크** 같은 도구가 도움이 됨.\n",
    "\n",
    "이런 도구로 대규모 데이터셋에서 효율적인 데이터 처리 파이프라인을 수행할 수 있으므로 학습 전에 학습 데이터를 전처리할 수 있음.  \n",
    "하지만 도구를 쓰면 나중에 모델을 배포할 때 귀찮아진다고 함.  \n",
    "> 전처리 연산을 딱 한번만 정의하려면 **TF 변환** 을 사용하면 된다고 함.  \n",
    "TF 변환은 텐서플로 모델 상품화를 위한 엔드-투-엔드 플랫폼 TFX(tensorflow extended)의 일부분임."
   ]
  },
  {
   "cell_type": "code",
   "execution_count": 24,
   "id": "metropolitan-native",
   "metadata": {},
   "outputs": [],
   "source": [
    "import tensorflow as tf\n",
    "import tensorflow_transform as tft"
   ]
  },
  {
   "cell_type": "code",
   "execution_count": 48,
   "id": "functioning-nigeria",
   "metadata": {},
   "outputs": [],
   "source": [
    "tf.compat.v1.disable_eager_execution()\n",
    "def preprocess(inputs):\n",
    "    median_age = inputs[\"housing_median_age\"]\n",
    "    ocean_proximity = inputs[\"ocean_proximity\"]\n",
    "    \n",
    "    median_age_tensor = tf.constant(median_age, dtype=tf.int64)\n",
    "    ocean_poximity_tensor = tf.constant(ocean_proximity)\n",
    "    \n",
    "    standardized_age = tft.scale_to_z_score(median_age_tensor)\n",
    "    ocean_proximity_id = tft.compute_and_apply_vocabulary(ocean_poximity_tensor)\n",
    "    return {\n",
    "        \"standardized_median_age\": standardized_age,\n",
    "        \"ocean_proximity_id\": ocean_proximity_id\n",
    "    }"
   ]
  },
  {
   "cell_type": "code",
   "execution_count": 9,
   "id": "exposed-reference",
   "metadata": {},
   "outputs": [],
   "source": [
    "import os\n",
    "import tarfile\n",
    "import urllib.request\n",
    "\n",
    "DOWNLOAD_ROOT = \"https://raw.githubusercontent.com/ageron/handson-ml2/master/\"\n",
    "HOUSING_PATH = os.path.join(\"datasets\", \"housing\")\n",
    "HOUSING_URL = DOWNLOAD_ROOT + \"datasets/housing/housing.tgz\"\n",
    "\n",
    "def fetch_housing_data(housing_url=HOUSING_URL, housing_path=HOUSING_PATH):\n",
    "    os.makedirs(housing_path, exist_ok=True)\n",
    "    tgz_path = os.path.join(housing_path, \"housing.tgz\")\n",
    "    urllib.request.urlretrieve(housing_url, tgz_path)\n",
    "    housing_tgz = tarfile.open(tgz_path)\n",
    "    housing_tgz.extractall(path=housing_path)\n",
    "    housing_tgz.close()"
   ]
  },
  {
   "cell_type": "code",
   "execution_count": 10,
   "id": "maritime-congo",
   "metadata": {},
   "outputs": [],
   "source": [
    "import pandas as pd\n",
    "\n",
    "def load_housing_data(housing_path=HOUSING_PATH):\n",
    "    csv_path = os.path.join(housing_path, \"housing.csv\")\n",
    "    return pd.read_csv(csv_path)"
   ]
  },
  {
   "cell_type": "code",
   "execution_count": 19,
   "id": "quiet-receptor",
   "metadata": {},
   "outputs": [
    {
     "name": "stdout",
     "output_type": "stream",
     "text": [
      "<class 'pandas.core.frame.DataFrame'>\n",
      "RangeIndex: 20640 entries, 0 to 20639\n",
      "Data columns (total 10 columns):\n",
      " #   Column              Non-Null Count  Dtype  \n",
      "---  ------              --------------  -----  \n",
      " 0   longitude           20640 non-null  float64\n",
      " 1   latitude            20640 non-null  float64\n",
      " 2   housing_median_age  20640 non-null  float64\n",
      " 3   total_rooms         20640 non-null  float64\n",
      " 4   total_bedrooms      20433 non-null  float64\n",
      " 5   population          20640 non-null  float64\n",
      " 6   households          20640 non-null  float64\n",
      " 7   median_income       20640 non-null  float64\n",
      " 8   median_house_value  20640 non-null  float64\n",
      " 9   ocean_proximity     20640 non-null  object \n",
      "dtypes: float64(9), object(1)\n",
      "memory usage: 1.6+ MB\n"
     ]
    }
   ],
   "source": [
    "housing = load_housing_data()\n",
    "housing.info()\n"
   ]
  },
  {
   "cell_type": "code",
   "execution_count": 57,
   "id": "delayed-heather",
   "metadata": {},
   "outputs": [
    {
     "data": {
      "text/plain": [
       "<tf.Tensor 'scale_to_z_score_11/SelectV2:0' shape=(20640,) dtype=float32>"
      ]
     },
     "execution_count": 57,
     "metadata": {},
     "output_type": "execute_result"
    }
   ],
   "source": [
    "preprocessed_housing = preprocess(housing)\n",
    "preprocessed_housing[\"standardized_median_age\"]"
   ]
  },
  {
   "cell_type": "markdown",
   "id": "working-integral",
   "metadata": {},
   "source": [
    "?????????????????????????  \n",
    "이걸 어떻게 사용하라는 거지??"
   ]
  },
  {
   "cell_type": "code",
   "execution_count": null,
   "id": "sonic-recruitment",
   "metadata": {},
   "outputs": [],
   "source": []
  }
 ],
 "metadata": {
  "kernelspec": {
   "display_name": "Python 3",
   "language": "python",
   "name": "python3"
  },
  "language_info": {
   "codemirror_mode": {
    "name": "ipython",
    "version": 3
   },
   "file_extension": ".py",
   "mimetype": "text/x-python",
   "name": "python",
   "nbconvert_exporter": "python",
   "pygments_lexer": "ipython3",
   "version": "3.8.8"
  }
 },
 "nbformat": 4,
 "nbformat_minor": 5
}
