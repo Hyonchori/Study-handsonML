{
 "cells": [
  {
   "cell_type": "code",
   "execution_count": 1,
   "metadata": {},
   "outputs": [],
   "source": [
    "import tensorflow as tf\n",
    "from tensorflow import keras as K"
   ]
  },
  {
   "cell_type": "code",
   "execution_count": 2,
   "metadata": {},
   "outputs": [
    {
     "data": {
      "text/plain": [
       "('2.4.0', '2.4.1')"
      ]
     },
     "execution_count": 2,
     "metadata": {},
     "output_type": "execute_result"
    }
   ],
   "source": [
    "K.__version__, tf.__version__"
   ]
  },
  {
   "cell_type": "code",
   "execution_count": 3,
   "metadata": {},
   "outputs": [],
   "source": [
    "fashion_mnist = K.datasets.fashion_mnist\n",
    "(x_train_full, y_train_full), (x_test, y_test) = fashion_mnist.load_data()"
   ]
  },
  {
   "cell_type": "code",
   "execution_count": 4,
   "metadata": {},
   "outputs": [
    {
     "data": {
      "text/plain": [
       "((60000, 28, 28), dtype('uint8'))"
      ]
     },
     "execution_count": 4,
     "metadata": {},
     "output_type": "execute_result"
    }
   ],
   "source": [
    "x_train_full.shape, x_train_full.dtype"
   ]
  },
  {
   "cell_type": "code",
   "execution_count": 5,
   "metadata": {},
   "outputs": [],
   "source": [
    "x_val, x_train = x_train_full[: 5000]/255.0, x_train_full[5000: ]/255.0\n",
    "y_val, y_train = y_train_full[: 5000], y_train_full[5000: ]\n",
    "x_test = x_test/255.0"
   ]
  },
  {
   "cell_type": "code",
   "execution_count": 6,
   "metadata": {},
   "outputs": [],
   "source": [
    "class_names = [\"T-shirt\", \"Trouser\", \"Pullover\", \"Dress\", \"Coat\",\n",
    "              \"Sandal\", \"Shirt\", \"Sneaker\", \"Bag\", \"Ankle boot\"]"
   ]
  },
  {
   "cell_type": "code",
   "execution_count": 7,
   "metadata": {},
   "outputs": [
    {
     "data": {
      "text/plain": [
       "(array([4, 0, 7, 9, 9, 9, 4, 4, 3, 4], dtype=uint8), 'Coat')"
      ]
     },
     "execution_count": 7,
     "metadata": {},
     "output_type": "execute_result"
    }
   ],
   "source": [
    "y_train[: 10], class_names[y_train[0]]"
   ]
  },
  {
   "cell_type": "code",
   "execution_count": 8,
   "metadata": {},
   "outputs": [],
   "source": [
    "model = K.models.Sequential()\n",
    "model.add(K.layers.Flatten(input_shape=[28, 28]))\n",
    "model.add(K.layers.Dense(300, activation=\"relu\"))\n",
    "model.add(K.layers.Dense(100, activation=\"relu\"))\n",
    "model.add(K.layers.Dense(10, activation=\"softmax\"))"
   ]
  },
  {
   "cell_type": "code",
   "execution_count": 9,
   "metadata": {},
   "outputs": [],
   "source": [
    "model = K.models.Sequential([\n",
    "    K.layers.Flatten(input_shape=[28, 28]),\n",
    "    K.layers.Dense(300, activation=\"relu\"),\n",
    "    K.layers.Dense(100, activation=\"relu\"),\n",
    "    K.layers.Dense(10, activation=\"softmax\"),\n",
    "])"
   ]
  },
  {
   "cell_type": "code",
   "execution_count": 10,
   "metadata": {},
   "outputs": [
    {
     "name": "stdout",
     "output_type": "stream",
     "text": [
      "Model: \"sequential_1\"\n",
      "_________________________________________________________________\n",
      "Layer (type)                 Output Shape              Param #   \n",
      "=================================================================\n",
      "flatten_1 (Flatten)          (None, 784)               0         \n",
      "_________________________________________________________________\n",
      "dense_3 (Dense)              (None, 300)               235500    \n",
      "_________________________________________________________________\n",
      "dense_4 (Dense)              (None, 100)               30100     \n",
      "_________________________________________________________________\n",
      "dense_5 (Dense)              (None, 10)                1010      \n",
      "=================================================================\n",
      "Total params: 266,610\n",
      "Trainable params: 266,610\n",
      "Non-trainable params: 0\n",
      "_________________________________________________________________\n"
     ]
    }
   ],
   "source": [
    "model.summary()"
   ]
  },
  {
   "cell_type": "markdown",
   "metadata": {},
   "source": [
    "**Dense** 층은 보통 많은 파라미터를 가짐. 이런 모델은 학습 데이터를 학습하기 충분한 유연성을 가짐.  \n",
    "하지만 과대적합의 위험을 갖는다는 의미이기도 함. 특히 학습 데이터가 많지 않을 경우 그럼."
   ]
  },
  {
   "cell_type": "code",
   "execution_count": 11,
   "metadata": {},
   "outputs": [
    {
     "data": {
      "text/plain": [
       "[<tensorflow.python.keras.layers.core.Flatten at 0x2b583fe4bb0>,\n",
       " <tensorflow.python.keras.layers.core.Dense at 0x2b583fe4730>,\n",
       " <tensorflow.python.keras.layers.core.Dense at 0x2b583fe4d30>,\n",
       " <tensorflow.python.keras.layers.core.Dense at 0x2b589e09d00>]"
      ]
     },
     "execution_count": 11,
     "metadata": {},
     "output_type": "execute_result"
    }
   ],
   "source": [
    "model.layers"
   ]
  },
  {
   "cell_type": "code",
   "execution_count": 12,
   "metadata": {},
   "outputs": [
    {
     "data": {
      "text/plain": [
       "'dense_3'"
      ]
     },
     "execution_count": 12,
     "metadata": {},
     "output_type": "execute_result"
    }
   ],
   "source": [
    "hidden1 = model.layers[1]\n",
    "hidden1.name"
   ]
  },
  {
   "cell_type": "code",
   "execution_count": 13,
   "metadata": {},
   "outputs": [
    {
     "data": {
      "text/plain": [
       "True"
      ]
     },
     "execution_count": 13,
     "metadata": {},
     "output_type": "execute_result"
    }
   ],
   "source": [
    "model.get_layer(\"dense_3\") is hidden1"
   ]
  },
  {
   "cell_type": "code",
   "execution_count": 14,
   "metadata": {},
   "outputs": [
    {
     "data": {
      "text/plain": [
       "array([[ 0.00507998, -0.0172832 , -0.01421513, ..., -0.02415837,\n",
       "        -0.05362556,  0.06917812],\n",
       "       [ 0.05174185,  0.01856454,  0.01513926, ..., -0.03275179,\n",
       "        -0.06312246, -0.0339331 ],\n",
       "       [-0.06389727,  0.05131353,  0.03327258, ..., -0.03818387,\n",
       "        -0.01569896,  0.04575983],\n",
       "       ...,\n",
       "       [-0.02310992,  0.02415276,  0.00404581, ..., -0.00604156,\n",
       "        -0.05874261, -0.06982646],\n",
       "       [-0.02531566, -0.00474527,  0.00914269, ...,  0.04932997,\n",
       "         0.0477524 , -0.03310689],\n",
       "       [-0.07368131, -0.02665125, -0.01355319, ...,  0.01144794,\n",
       "         0.04115019,  0.00829829]], dtype=float32)"
      ]
     },
     "execution_count": 14,
     "metadata": {},
     "output_type": "execute_result"
    }
   ],
   "source": [
    "w, b = hidden1.get_weights()\n",
    "w"
   ]
  },
  {
   "cell_type": "code",
   "execution_count": 15,
   "metadata": {},
   "outputs": [
    {
     "data": {
      "text/plain": [
       "(784, 300)"
      ]
     },
     "execution_count": 15,
     "metadata": {},
     "output_type": "execute_result"
    }
   ],
   "source": [
    "w.shape"
   ]
  },
  {
   "cell_type": "code",
   "execution_count": 16,
   "metadata": {},
   "outputs": [
    {
     "data": {
      "text/plain": [
       "array([0., 0., 0., 0., 0., 0., 0., 0., 0., 0., 0., 0., 0., 0., 0., 0., 0.,\n",
       "       0., 0., 0., 0., 0., 0., 0., 0., 0., 0., 0., 0., 0., 0., 0., 0., 0.,\n",
       "       0., 0., 0., 0., 0., 0., 0., 0., 0., 0., 0., 0., 0., 0., 0., 0., 0.,\n",
       "       0., 0., 0., 0., 0., 0., 0., 0., 0., 0., 0., 0., 0., 0., 0., 0., 0.,\n",
       "       0., 0., 0., 0., 0., 0., 0., 0., 0., 0., 0., 0., 0., 0., 0., 0., 0.,\n",
       "       0., 0., 0., 0., 0., 0., 0., 0., 0., 0., 0., 0., 0., 0., 0., 0., 0.,\n",
       "       0., 0., 0., 0., 0., 0., 0., 0., 0., 0., 0., 0., 0., 0., 0., 0., 0.,\n",
       "       0., 0., 0., 0., 0., 0., 0., 0., 0., 0., 0., 0., 0., 0., 0., 0., 0.,\n",
       "       0., 0., 0., 0., 0., 0., 0., 0., 0., 0., 0., 0., 0., 0., 0., 0., 0.,\n",
       "       0., 0., 0., 0., 0., 0., 0., 0., 0., 0., 0., 0., 0., 0., 0., 0., 0.,\n",
       "       0., 0., 0., 0., 0., 0., 0., 0., 0., 0., 0., 0., 0., 0., 0., 0., 0.,\n",
       "       0., 0., 0., 0., 0., 0., 0., 0., 0., 0., 0., 0., 0., 0., 0., 0., 0.,\n",
       "       0., 0., 0., 0., 0., 0., 0., 0., 0., 0., 0., 0., 0., 0., 0., 0., 0.,\n",
       "       0., 0., 0., 0., 0., 0., 0., 0., 0., 0., 0., 0., 0., 0., 0., 0., 0.,\n",
       "       0., 0., 0., 0., 0., 0., 0., 0., 0., 0., 0., 0., 0., 0., 0., 0., 0.,\n",
       "       0., 0., 0., 0., 0., 0., 0., 0., 0., 0., 0., 0., 0., 0., 0., 0., 0.,\n",
       "       0., 0., 0., 0., 0., 0., 0., 0., 0., 0., 0., 0., 0., 0., 0., 0., 0.,\n",
       "       0., 0., 0., 0., 0., 0., 0., 0., 0., 0., 0.], dtype=float32)"
      ]
     },
     "execution_count": 16,
     "metadata": {},
     "output_type": "execute_result"
    }
   ],
   "source": [
    "b"
   ]
  },
  {
   "cell_type": "code",
   "execution_count": 17,
   "metadata": {},
   "outputs": [
    {
     "data": {
      "text/plain": [
       "(300,)"
      ]
     },
     "execution_count": 17,
     "metadata": {},
     "output_type": "execute_result"
    }
   ],
   "source": [
    "b.shape"
   ]
  },
  {
   "cell_type": "markdown",
   "metadata": {},
   "source": [
    "Dense층은 보다시치 연결 가중치를 무작위로 초기화하고 편향은 0으로 초기화함.  \n",
    "다른 초기화 방법을 사용하고 싶다면 층을 만들 때 **kernel_initializer(커널은 연결 가중치의 또다른 이름)** 와 **bias_initializer** 매개변수를 설정하면 됨."
   ]
  },
  {
   "cell_type": "code",
   "execution_count": 18,
   "metadata": {},
   "outputs": [],
   "source": [
    "model.compile(loss=\"sparse_categorical_crossentropy\",\n",
    "             optimizer=\"sgd\",\n",
    "             metrics=[\"accuracy\"])"
   ]
  },
  {
   "cell_type": "markdown",
   "metadata": {},
   "source": [
    "**loss** 를 그냥 categorical_crossentropy가 아닌 sparse_categorical_crossentropy를 사용한 이유는  \n",
    "샘플마다 클래스별 타겟 확률을 갖고 있는게 아니기 때문. 즉 원-핫 인코딩 된 상태라면 그냥 categorical_crossentropy 사용."
   ]
  },
  {
   "cell_type": "code",
   "execution_count": 19,
   "metadata": {
    "scrolled": true
   },
   "outputs": [
    {
     "name": "stdout",
     "output_type": "stream",
     "text": [
      "Epoch 1/30\n",
      "1719/1719 [==============================] - 3s 1ms/step - loss: 1.0031 - accuracy: 0.6837 - val_loss: 0.5771 - val_accuracy: 0.7796\n",
      "Epoch 2/30\n",
      "1719/1719 [==============================] - 1s 824us/step - loss: 0.5060 - accuracy: 0.8242 - val_loss: 0.4389 - val_accuracy: 0.8566\n",
      "Epoch 3/30\n",
      "1719/1719 [==============================] - 1s 796us/step - loss: 0.4449 - accuracy: 0.8459 - val_loss: 0.4114 - val_accuracy: 0.8588\n",
      "Epoch 4/30\n",
      "1719/1719 [==============================] - 1s 787us/step - loss: 0.4189 - accuracy: 0.8563 - val_loss: 0.4109 - val_accuracy: 0.8580\n",
      "Epoch 5/30\n",
      "1719/1719 [==============================] - 1s 794us/step - loss: 0.3896 - accuracy: 0.8620 - val_loss: 0.3926 - val_accuracy: 0.8636\n",
      "Epoch 6/30\n",
      "1719/1719 [==============================] - 1s 803us/step - loss: 0.3728 - accuracy: 0.8675 - val_loss: 0.3889 - val_accuracy: 0.8636\n",
      "Epoch 7/30\n",
      "1719/1719 [==============================] - 1s 800us/step - loss: 0.3610 - accuracy: 0.8745 - val_loss: 0.3841 - val_accuracy: 0.8670\n",
      "Epoch 8/30\n",
      "1719/1719 [==============================] - 1s 836us/step - loss: 0.3509 - accuracy: 0.8755 - val_loss: 0.3481 - val_accuracy: 0.8764\n",
      "Epoch 9/30\n",
      "1719/1719 [==============================] - 1s 831us/step - loss: 0.3407 - accuracy: 0.8780 - val_loss: 0.3448 - val_accuracy: 0.8780\n",
      "Epoch 10/30\n",
      "1719/1719 [==============================] - 1s 826us/step - loss: 0.3309 - accuracy: 0.8825 - val_loss: 0.3541 - val_accuracy: 0.8770\n",
      "Epoch 11/30\n",
      "1719/1719 [==============================] - 1s 796us/step - loss: 0.3277 - accuracy: 0.8848 - val_loss: 0.3647 - val_accuracy: 0.8746\n",
      "Epoch 12/30\n",
      "1719/1719 [==============================] - 1s 779us/step - loss: 0.3084 - accuracy: 0.8900 - val_loss: 0.3418 - val_accuracy: 0.8744\n",
      "Epoch 13/30\n",
      "1719/1719 [==============================] - 1s 775us/step - loss: 0.3161 - accuracy: 0.8882 - val_loss: 0.3263 - val_accuracy: 0.8866\n",
      "Epoch 14/30\n",
      "1719/1719 [==============================] - 1s 786us/step - loss: 0.3043 - accuracy: 0.8923 - val_loss: 0.3176 - val_accuracy: 0.8874\n",
      "Epoch 15/30\n",
      "1719/1719 [==============================] - 1s 798us/step - loss: 0.2954 - accuracy: 0.8946 - val_loss: 0.3196 - val_accuracy: 0.8856\n",
      "Epoch 16/30\n",
      "1719/1719 [==============================] - 1s 791us/step - loss: 0.2861 - accuracy: 0.8985 - val_loss: 0.3414 - val_accuracy: 0.8828\n",
      "Epoch 17/30\n",
      "1719/1719 [==============================] - 1s 813us/step - loss: 0.2769 - accuracy: 0.9005 - val_loss: 0.3167 - val_accuracy: 0.8862\n",
      "Epoch 18/30\n",
      "1719/1719 [==============================] - 1s 812us/step - loss: 0.2749 - accuracy: 0.8997 - val_loss: 0.3124 - val_accuracy: 0.8844\n",
      "Epoch 19/30\n",
      "1719/1719 [==============================] - 1s 815us/step - loss: 0.2768 - accuracy: 0.9009 - val_loss: 0.3017 - val_accuracy: 0.8918\n",
      "Epoch 20/30\n",
      "1719/1719 [==============================] - 1s 804us/step - loss: 0.2717 - accuracy: 0.9028 - val_loss: 0.3040 - val_accuracy: 0.8894\n",
      "Epoch 21/30\n",
      "1719/1719 [==============================] - 1s 826us/step - loss: 0.2658 - accuracy: 0.9033 - val_loss: 0.3017 - val_accuracy: 0.8908\n",
      "Epoch 22/30\n",
      "1719/1719 [==============================] - 1s 793us/step - loss: 0.2564 - accuracy: 0.9090 - val_loss: 0.3108 - val_accuracy: 0.8892\n",
      "Epoch 23/30\n",
      "1719/1719 [==============================] - 1s 786us/step - loss: 0.2499 - accuracy: 0.9120 - val_loss: 0.3042 - val_accuracy: 0.8912\n",
      "Epoch 24/30\n",
      "1719/1719 [==============================] - 1s 825us/step - loss: 0.2484 - accuracy: 0.9114 - val_loss: 0.3147 - val_accuracy: 0.8880\n",
      "Epoch 25/30\n",
      "1719/1719 [==============================] - 1s 843us/step - loss: 0.2480 - accuracy: 0.9110 - val_loss: 0.3087 - val_accuracy: 0.8908\n",
      "Epoch 26/30\n",
      "1719/1719 [==============================] - 1s 821us/step - loss: 0.2406 - accuracy: 0.9132 - val_loss: 0.2986 - val_accuracy: 0.8900\n",
      "Epoch 27/30\n",
      "1719/1719 [==============================] - 1s 830us/step - loss: 0.2370 - accuracy: 0.9146 - val_loss: 0.3048 - val_accuracy: 0.8926\n",
      "Epoch 28/30\n",
      "1719/1719 [==============================] - 1s 800us/step - loss: 0.2306 - accuracy: 0.9181 - val_loss: 0.3005 - val_accuracy: 0.8922\n",
      "Epoch 29/30\n",
      "1719/1719 [==============================] - 1s 809us/step - loss: 0.2279 - accuracy: 0.9179 - val_loss: 0.2983 - val_accuracy: 0.8924\n",
      "Epoch 30/30\n",
      "1719/1719 [==============================] - 1s 791us/step - loss: 0.2234 - accuracy: 0.9207 - val_loss: 0.2942 - val_accuracy: 0.8886\n"
     ]
    }
   ],
   "source": [
    "hist = model.fit(x_train, y_train, epochs=30,\n",
    "                validation_data=(x_val, y_val))"
   ]
  },
  {
   "cell_type": "markdown",
   "metadata": {},
   "source": [
    "어떤 클래스는 많이 등장하고 다른 클래스는 조금 등장하는 등 학습데이터셋이 편중되어 있다면 fit()메서드를 호출할 때  \n",
    "**class_weight** 매개변수를 지정하는 것이 좋음. 적게 등장하는 클래스에 높은 가중치를 부여하고 많이 등장하는 클래스는 낮은 가중치를 부여함.  \n",
    "샘플별로 가중치를 부여하고 싶다면 **sample_weight** 매개변수를 지정하면 됨.  \n",
    "class_weight와 sample_weight 모두 지정하면 케라스는 손실함수를 계싼할 때 두 값을 곱하여 사용함.  \n",
    ">어떤 샘플은 전문가에 의해 레이블링되고 어떤 샘플은 대충 레이블링되었다면 sample_weight가 도움이 될 수 있음"
   ]
  },
  {
   "cell_type": "code",
   "execution_count": 20,
   "metadata": {},
   "outputs": [
    {
     "data": {
      "image/png": "[encoded data removed]",
      "text/plain": [
       "<Figure size 576x360 with 1 Axes>"
      ]
     },
     "metadata": {
      "needs_background": "light"
     },
     "output_type": "display_data"
    }
   ],
   "source": [
    "import pandas as pd\n",
    "import matplotlib.pyplot as plt\n",
    "\n",
    "pd.DataFrame(hist.history).plot(figsize=(8, 5))\n",
    "plt.grid()\n",
    "plt.gca().set_ylim(0, 1)\n",
    "plt.show()"
   ]
  },
  {
   "cell_type": "code",
   "execution_count": 21,
   "metadata": {},
   "outputs": [
    {
     "data": {
      "text/plain": [
       "{'loss': [0.7220292091369629,\n",
       "  0.48489436507225037,\n",
       "  0.43857184052467346,\n",
       "  0.411621630191803,\n",
       "  0.391204833984375,\n",
       "  0.3755856156349182,\n",
       "  0.3635728061199188,\n",
       "  0.3505435585975647,\n",
       "  0.3403894603252411,\n",
       "  0.3317984640598297,\n",
       "  0.3233390748500824,\n",
       "  0.314893513917923,\n",
       "  0.3075959384441376,\n",
       "  0.30128079652786255,\n",
       "  0.2951340973377228,\n",
       "  0.28863394260406494,\n",
       "  0.28316861391067505,\n",
       "  0.27692848443984985,\n",
       "  0.2729053199291229,\n",
       "  0.2671005129814148,\n",
       "  0.26166802644729614,\n",
       "  0.2567269206047058,\n",
       "  0.2533577084541321,\n",
       "  0.24899037182331085,\n",
       "  0.2445341944694519,\n",
       "  0.2411579191684723,\n",
       "  0.23707140982151031,\n",
       "  0.23279312252998352,\n",
       "  0.22882847487926483,\n",
       "  0.22502018511295319],\n",
       " 'accuracy': [0.7643818259239197,\n",
       "  0.8312363624572754,\n",
       "  0.846927285194397,\n",
       "  0.8574363589286804,\n",
       "  0.8622000217437744,\n",
       "  0.8670363426208496,\n",
       "  0.8719090819358826,\n",
       "  0.8758181929588318,\n",
       "  0.8789818286895752,\n",
       "  0.8822727203369141,\n",
       "  0.8847454786300659,\n",
       "  0.8883636593818665,\n",
       "  0.8899818062782288,\n",
       "  0.8921636343002319,\n",
       "  0.8936908841133118,\n",
       "  0.8973454833030701,\n",
       "  0.8981454372406006,\n",
       "  0.8998545408248901,\n",
       "  0.9022181630134583,\n",
       "  0.9040181636810303,\n",
       "  0.9059090614318848,\n",
       "  0.9084545373916626,\n",
       "  0.9097272753715515,\n",
       "  0.9101999998092651,\n",
       "  0.9120908975601196,\n",
       "  0.9139090776443481,\n",
       "  0.9149818420410156,\n",
       "  0.9168727397918701,\n",
       "  0.9180908799171448,\n",
       "  0.9194727540016174],\n",
       " 'val_loss': [0.5770818591117859,\n",
       "  0.43885889649391174,\n",
       "  0.4113883376121521,\n",
       "  0.4108571410179138,\n",
       "  0.3926396071910858,\n",
       "  0.38885748386383057,\n",
       "  0.38412049412727356,\n",
       "  0.3480577766895294,\n",
       "  0.3448306620121002,\n",
       "  0.35410284996032715,\n",
       "  0.36472710967063904,\n",
       "  0.34183573722839355,\n",
       "  0.3262871205806732,\n",
       "  0.31762468814849854,\n",
       "  0.31963521242141724,\n",
       "  0.341378390789032,\n",
       "  0.31671735644340515,\n",
       "  0.31236210465431213,\n",
       "  0.30171912908554077,\n",
       "  0.3039667308330536,\n",
       "  0.3016919195652008,\n",
       "  0.3108235001564026,\n",
       "  0.30417296290397644,\n",
       "  0.31472495198249817,\n",
       "  0.30874142050743103,\n",
       "  0.29858726263046265,\n",
       "  0.3047696352005005,\n",
       "  0.3005475103855133,\n",
       "  0.2982918620109558,\n",
       "  0.2942025661468506],\n",
       " 'val_accuracy': [0.7796000242233276,\n",
       "  0.8565999865531921,\n",
       "  0.8587999939918518,\n",
       "  0.8579999804496765,\n",
       "  0.8636000156402588,\n",
       "  0.8636000156402588,\n",
       "  0.8669999837875366,\n",
       "  0.8763999938964844,\n",
       "  0.878000020980835,\n",
       "  0.8769999742507935,\n",
       "  0.8745999932289124,\n",
       "  0.8744000196456909,\n",
       "  0.8866000175476074,\n",
       "  0.8873999714851379,\n",
       "  0.8855999708175659,\n",
       "  0.8827999830245972,\n",
       "  0.8862000107765198,\n",
       "  0.8844000101089478,\n",
       "  0.8917999863624573,\n",
       "  0.8894000053405762,\n",
       "  0.8907999992370605,\n",
       "  0.88919997215271,\n",
       "  0.8912000060081482,\n",
       "  0.8880000114440918,\n",
       "  0.8907999992370605,\n",
       "  0.8899999856948853,\n",
       "  0.8925999999046326,\n",
       "  0.8921999931335449,\n",
       "  0.8924000263214111,\n",
       "  0.8885999917984009]}"
      ]
     },
     "execution_count": 21,
     "metadata": {},
     "output_type": "execute_result"
    }
   ],
   "source": [
    "hist.history"
   ]
  },
  {
   "cell_type": "markdown",
   "metadata": {},
   "source": [
    "**hist.history** 특성에는 학습셋과 검증셋에 대한 손실과 측정지표가 담겨있음.  \n",
    "그래프를 보면 검증곡선이 훈련곡선과 거의 비슷함. 크게 과대적합되지 않았다는 증거임."
   ]
  },
  {
   "cell_type": "code",
   "execution_count": 25,
   "metadata": {
    "scrolled": true
   },
   "outputs": [
    {
     "data": {
      "text/plain": [
       "{'verbose': 1, 'epochs': 30, 'steps': 1719}"
      ]
     },
     "execution_count": 25,
     "metadata": {},
     "output_type": "execute_result"
    }
   ],
   "source": [
    "hist.params"
   ]
  },
  {
   "cell_type": "markdown",
   "metadata": {},
   "source": [
    "---\n",
    "모델 하이퍼파라미터 튜닝  \n",
    "> 1. 학습률 튜닝  \n",
    "2. 학습률이 도움이 되지 않으면 다른 옵티마이저 테스트(학습률도 다시 튜닝)   \n",
    "3. 모델의 층 개수, 층에 있는 뉴런 개수, 은닉층이 사용하는 활성함수 튜닝  \n"
   ]
  },
  {
   "cell_type": "code",
   "execution_count": 26,
   "metadata": {},
   "outputs": [
    {
     "name": "stdout",
     "output_type": "stream",
     "text": [
      "313/313 [==============================] - 0s 472us/step - loss: 0.3300 - accuracy: 0.8815\n"
     ]
    },
    {
     "data": {
      "text/plain": [
       "[0.3300413191318512, 0.8815000057220459]"
      ]
     },
     "execution_count": 26,
     "metadata": {},
     "output_type": "execute_result"
    }
   ],
   "source": [
    "model.evaluate(x_test, y_test)"
   ]
  },
  {
   "cell_type": "code",
   "execution_count": 27,
   "metadata": {},
   "outputs": [
    {
     "data": {
      "text/plain": [
       "array([[0.  , 0.  , 0.  , 0.  , 0.  , 0.01, 0.  , 0.02, 0.  , 0.98],\n",
       "       [0.  , 0.  , 1.  , 0.  , 0.  , 0.  , 0.  , 0.  , 0.  , 0.  ],\n",
       "       [0.  , 1.  , 0.  , 0.  , 0.  , 0.  , 0.  , 0.  , 0.  , 0.  ]],\n",
       "      dtype=float32)"
      ]
     },
     "execution_count": 27,
     "metadata": {},
     "output_type": "execute_result"
    }
   ],
   "source": [
    "x_new = x_test[: 3]\n",
    "y_proba = model.predict(x_new)\n",
    "y_proba.round(2)"
   ]
  },
  {
   "cell_type": "code",
   "execution_count": 32,
   "metadata": {},
   "outputs": [
    {
     "data": {
      "text/plain": [
       "(array([9, 2, 1], dtype=int64),\n",
       " array(['Ankle boot', 'Pullover', 'Trouser'], dtype='<U10'))"
      ]
     },
     "execution_count": 32,
     "metadata": {},
     "output_type": "execute_result"
    }
   ],
   "source": [
    "import numpy as np\n",
    "\n",
    "y_pred = model.predict_classes(x_new)\n",
    "y_pred, np.array(class_names)[y_pred]"
   ]
  },
  {
   "cell_type": "code",
   "execution_count": 35,
   "metadata": {},
   "outputs": [],
   "source": [
    "import numpy as np\n",
    "import matplotlib.pyplot as plt\n",
    "\n",
    "def plot_img(img_vecs, r=10):\n",
    "    if len(img_vecs) >= r:\n",
    "        it = r\n",
    "    else:\n",
    "        it = len(img_vecs)\n",
    "    \n",
    "    if it == 0:\n",
    "        return\n",
    "    else:\n",
    "        fir_img_vec = img_vecs[0]\n",
    "        fir_img = fir_img_vec.reshape(28, 28)\n",
    "\n",
    "        for i in range(1, it):\n",
    "            temp_img_vec = img_vecs[i]\n",
    "            temp_img = temp_img_vec.reshape(28, 28)\n",
    "            fir_img = np.hstack([fir_img, temp_img])\n",
    "        print(fir_img.shape)\n",
    "        \n",
    "        plt.imshow(fir_img, cmap=\"gray\")\n",
    "        plt.show()"
   ]
  },
  {
   "cell_type": "code",
   "execution_count": 36,
   "metadata": {},
   "outputs": [
    {
     "name": "stdout",
     "output_type": "stream",
     "text": [
      "(28, 84)\n"
     ]
    },
    {
     "data": {
      "image/png": "[encoded data removed]",
      "text/plain": [
       "<Figure size 432x288 with 1 Axes>"
      ]
     },
     "metadata": {
      "needs_background": "light"
     },
     "output_type": "display_data"
    }
   ],
   "source": [
    "plot_img(x_test[: 3])"
   ]
  },
  {
   "cell_type": "markdown",
   "metadata": {},
   "source": [
    "옳게 분류된 모습"
   ]
  },
  {
   "cell_type": "code",
   "execution_count": null,
   "metadata": {},
   "outputs": [],
   "source": []
  }
 ],
 "metadata": {
  "kernelspec": {
   "display_name": "Python 3",
   "language": "python",
   "name": "python3"
  },
  "language_info": {
   "codemirror_mode": {
    "name": "ipython",
    "version": 3
   },
   "file_extension": ".py",
   "mimetype": "text/x-python",
   "name": "python",
   "nbconvert_exporter": "python",
   "pygments_lexer": "ipython3",
   "version": "3.8.8"
  }
 },
 "nbformat": 4,
 "nbformat_minor": 4
}
