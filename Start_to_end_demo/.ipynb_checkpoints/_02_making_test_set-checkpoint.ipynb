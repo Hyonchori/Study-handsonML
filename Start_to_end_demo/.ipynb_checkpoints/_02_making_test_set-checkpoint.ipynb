{
 "cells": [
  {
   "cell_type": "code",
   "execution_count": 28,
   "metadata": {},
   "outputs": [],
   "source": [
    "from _01_scoping_data import housing\n",
    "import pandas as pd"
   ]
  },
  {
   "cell_type": "markdown",
   "metadata": {},
   "source": [
    "이전 단계에서 불러온 데이터셋 가져오기"
   ]
  },
  {
   "cell_type": "code",
   "execution_count": 6,
   "metadata": {},
   "outputs": [],
   "source": [
    "import numpy as np\n",
    "\n",
    "def split_train_test(data, test_ratio):\n",
    "    shuffled_indices = np.random.permutation(len(data))\n",
    "    test_set_size = int(len(data) * test_ratio)\n",
    "    test_indices = shuffled_indices[: test_set_size]\n",
    "    train_indices = shuffled_indices[test_set_size: ]\n",
    "    return data.iloc[train_indices], data.iloc[test_indices]"
   ]
  },
  {
   "cell_type": "markdown",
   "metadata": {},
   "source": [
    "#### 가장 간단하게 랜덤으로 테스트셋을 분리하는 방법\n",
    "인덱스를 섞어주는 numpy의 **permutation** 메서드  \n",
    "pandas 데이터프레임에서 데이터를 index단위로 가져오는 **iloc** 메서드  "
   ]
  },
  {
   "cell_type": "code",
   "execution_count": 11,
   "metadata": {},
   "outputs": [
    {
     "name": "stdout",
     "output_type": "stream",
     "text": [
      "train set length: 16512 \n",
      "test set length: 4128\n"
     ]
    }
   ],
   "source": [
    "train_set, test_set = split_train_test(housing, 0.2)\n",
    "print(\"train set length: {} \\ntest set length: {}\".format(len(train_set), len(test_set)))"
   ]
  },
  {
   "cell_type": "code",
   "execution_count": 22,
   "metadata": {},
   "outputs": [],
   "source": [
    "from zlib import crc32\n",
    "\n",
    "def test_set_check(identifier, test_ratio):\n",
    "    return crc32(np.int64(identifier)) & 0xffffffff < test_ratio * 2**32\n",
    "\n",
    "def split_train_test_by_id(data, test_ratio, id_column):\n",
    "    ids = data[id_column]\n",
    "    in_test_set = ids.apply(lambda id_: test_set_check(id_, test_ratio))\n",
    "    return data.loc[~in_test_set], data.loc[in_test_set]"
   ]
  },
  {
   "cell_type": "markdown",
   "metadata": {},
   "source": [
    "#### 데이터셋에 새로운 데이터가 추가되어도 이전 테스트셋에 동일한 비율의 테스트데이터를 추가하는 방법  \n",
    "\n",
    "각 샘플마다 **해시값**을 계산하여 해시 최댓값의 20%보다 작거나 같은 값을 가진 샘플만 테스트셋으로 선정  \n",
    "pandas 데이터프레임의 axis를 따라 임의의 함수를 적용하는 **apply** 메서드  \n",
    "pandas 데이터를 column이름이나 불리안 시리즈로 불러오는 **loc** 메서드\n",
    "  \n",
    "> 파이썬 **lambda**함수 사용법  \n",
    "> lambda {입력 변수들} : {리턴값}"
   ]
  },
  {
   "cell_type": "code",
   "execution_count": 23,
   "metadata": {},
   "outputs": [],
   "source": [
    "housing_with_id = housing.reset_index()\n",
    "\n",
    "train_set, test_set = split_train_test_by_id(housing_with_id, 0.2, \"index\")"
   ]
  },
  {
   "cell_type": "markdown",
   "metadata": {},
   "source": [
    "pandas 데이터프레임에 index를 특성으로 추가해주는 **reset_index**사용  \n",
    "행의 인덱스를 고유식별자로 사용했다면 새로운 데이터는 **무조건 데이터셋의 끝에 추가**되어야 함.  \n",
    "그리고 **어떤 행도 삭제되면 안됨**  \n",
    "\n",
    "이것이 불가능할 땐 고유식별자를 만드는 데 안전한 특성을 사용해야 함  \n",
    "예들 들어 해당 데이터셋의 위도, 경도 데이터는 안정적이라고 볼 수 있음. 두 값을 연결하여 다음과 같이 ID를 만들 수 있음"
   ]
  },
  {
   "cell_type": "code",
   "execution_count": 25,
   "metadata": {},
   "outputs": [],
   "source": [
    "housing_with_id[\"id\"] = housing[\"longitude\"] * 1000 + housing[\"latitude\"]\n",
    "train_set, test_set = split_train_test_by_id(housing_with_id, 0.2, \"id\")"
   ]
  },
  {
   "cell_type": "code",
   "execution_count": 26,
   "metadata": {},
   "outputs": [],
   "source": [
    "from sklearn.model_selection import train_test_split\n",
    "\n",
    "train_set, test_set = train_test_split(housing, test_size=0.2, random_state=42)"
   ]
  },
  {
   "cell_type": "markdown",
   "metadata": {},
   "source": [
    "위 과정을 싸이킷런에서 편리하게 제공하고 있음  \n",
    "**random_state**값을 이용하여 시드를 줄 수 있음\n",
    "  \n",
    "하지만 아직까지는 무작위로 샘플링하는 방식임  \n",
    "이른 데이터셋이 충분히 클 때는 괜찮지만, 그렇지 않다면 편향이 생길 수 있음  \n",
    "따라서 전체 표본의 분포와 테스트셋 표본의 분포가 같도록 샘플링해야 함  \n",
    "이를 **계층적 샘플링**이라고 함\n",
    "  \n",
    "이 때 분포가 같도록 할 특성을 골라야 함  \n",
    "**전문가의 추천**이나 **특성 분석**을 이용하여 고를 수 밖에 없음  \n",
    "이 데이터셋에선 median_income특성이 가장 중요하다고 추천을 받았다고 가정함"
   ]
  },
  {
   "cell_type": "code",
   "execution_count": 29,
   "metadata": {},
   "outputs": [
    {
     "data": {
      "text/plain": [
       "<AxesSubplot:>"
      ]
     },
     "execution_count": 29,
     "metadata": {},
     "output_type": "execute_result"
    },
    {
     "data": {
      "image/png": "[encoded data removed]",
      "text/plain": [
       "<Figure size 432x288 with 1 Axes>"
      ]
     },
     "metadata": {
      "needs_background": "light"
     },
     "output_type": "display_data"
    }
   ],
   "source": [
    "housing[\"income_cat\"] = pd.cut(housing[\"median_income\"],\n",
    "                              bins=[0, 1.5, 3, 4.5, 6, np.inf],\n",
    "                              labels=[1, 2, 3, 4, 5])\n",
    "housing[\"income_cat\"].hist()"
   ]
  },
  {
   "cell_type": "markdown",
   "metadata": {},
   "source": [
    "숫자로 된 특성을 구간별로 나누어 라벨링해주는 pandas의 **cut** 메서드를 활용  \n",
    "해당 분포를 이용하여 테스트셋을 나눌 것"
   ]
  },
  {
   "cell_type": "code",
   "execution_count": 37,
   "metadata": {},
   "outputs": [],
   "source": [
    "from sklearn.model_selection import StratifiedShuffleSplit\n",
    "\n",
    "split = StratifiedShuffleSplit(n_splits=2, test_size=0.2, random_state=42)\n",
    "for train_index, test_index in split.split(housing, housing[\"income_cat\"]):\n",
    "    start_train_set = housing.loc[train_index]\n",
    "    start_test_set = housing.loc[test_index]"
   ]
  },
  {
   "cell_type": "markdown",
   "metadata": {},
   "source": [
    "싸이킷런에서 제공해주는 계층적 샘플링 클래스  \n",
    "**n_splits**는 몇 폴드로 나눌 것이냐라고 보면 될 듯?  \n",
    "해당 클래스의 **split** 메서드를 이용하여 주어진 데이터셋을 주어진 분포에 맞춰 샘플링함"
   ]
  },
  {
   "cell_type": "code",
   "execution_count": 38,
   "metadata": {},
   "outputs": [
    {
     "data": {
      "text/plain": [
       "3    0.350533\n",
       "2    0.318798\n",
       "4    0.176357\n",
       "5    0.114583\n",
       "1    0.039729\n",
       "Name: income_cat, dtype: float64"
      ]
     },
     "execution_count": 38,
     "metadata": {},
     "output_type": "execute_result"
    }
   ],
   "source": [
    "start_test_set[\"income_cat\"].value_counts() / len(start_test_set)"
   ]
  },
  {
   "cell_type": "code",
   "execution_count": 39,
   "metadata": {},
   "outputs": [
    {
     "data": {
      "text/plain": [
       "3    0.350594\n",
       "2    0.318859\n",
       "4    0.176296\n",
       "5    0.114402\n",
       "1    0.039850\n",
       "Name: income_cat, dtype: float64"
      ]
     },
     "execution_count": 39,
     "metadata": {},
     "output_type": "execute_result"
    }
   ],
   "source": [
    "start_train_set[\"income_cat\"].value_counts() / len(start_train_set)"
   ]
  },
  {
   "cell_type": "markdown",
   "metadata": {},
   "source": [
    ">계층적 샘플링을 이용하여 전체 데이터셋, 학습 데이터셋, 실험 데이터셋의 분포가 거의 같아짐"
   ]
  },
  {
   "cell_type": "code",
   "execution_count": 40,
   "metadata": {},
   "outputs": [],
   "source": [
    "for set_ in (start_train_set, start_test_set):\n",
    "    set_.drop(\"income_cat\", axis=1, inplace=True)"
   ]
  },
  {
   "cell_type": "markdown",
   "metadata": {},
   "source": [
    "임의로 추가했던 income_cat을 다시 삭제하는 부분  \n",
    "pandas 데이터프레임의 특정 라벨이나 열을 삭제하는 **drop** 메서드를 이용 \n",
    ">drop메서드의 입력값이 index면 axis=0  \n",
    ">drop메서드의 입력값이 column 라벨이면 axis=1  \n",
    ">inplace는 False일 경우 return값 반환, True면 return값 없음"
   ]
  }
 ],
 "metadata": {
  "kernelspec": {
   "display_name": "Python 3",
   "language": "python",
   "name": "python3"
  },
  "language_info": {
   "codemirror_mode": {
    "name": "ipython",
    "version": 3
   },
   "file_extension": ".py",
   "mimetype": "text/x-python",
   "name": "python",
   "nbconvert_exporter": "python",
   "pygments_lexer": "ipython3",
   "version": "3.9.1"
  }
 },
 "nbformat": 4,
 "nbformat_minor": 4
}
