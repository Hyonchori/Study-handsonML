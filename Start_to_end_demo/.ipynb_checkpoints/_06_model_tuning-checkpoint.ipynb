{
 "cells": [
  {
   "cell_type": "code",
   "execution_count": 1,
   "metadata": {},
   "outputs": [],
   "source": [
    "from _04_preprocessing import housing_prepared, housing_labels\n",
    "from _04_preprocessing import full_pipeline\n",
    "from _04_preprocessing import start_test_set"
   ]
  },
  {
   "cell_type": "code",
   "execution_count": 2,
   "metadata": {},
   "outputs": [
    {
     "data": {
      "text/plain": [
       "GridSearchCV(cv=5, estimator=RandomForestRegressor(),\n",
       "             param_grid=[{'max_features': [2, 4, 6, 8],\n",
       "                          'n_estimators': [3, 10, 30]},\n",
       "                         {'bootstrap': [False], 'max_features': [2, 3, 4],\n",
       "                          'n_estimators': [3, 10]}],\n",
       "             return_train_score=True, scoring='neg_mean_squared_error')"
      ]
     },
     "execution_count": 2,
     "metadata": {},
     "output_type": "execute_result"
    }
   ],
   "source": [
    "from sklearn.model_selection import GridSearchCV\n",
    "\n",
    "param_grid = [\n",
    "    {'n_estimators': [3, 10, 30], \"max_features\": [2, 4, 6, 8]},\n",
    "    {'bootstrap': [False], 'n_estimators': [3, 10], 'max_features': [2, 3, 4]},\n",
    "]\n",
    "\n",
    "from sklearn.ensemble import RandomForestRegressor\n",
    "forest_reg = RandomForestRegressor()\n",
    "\n",
    "grid_search = GridSearchCV(forest_reg, param_grid, cv=5,\n",
    "                          scoring='neg_mean_squared_error',\n",
    "                          return_train_score=True)\n",
    "grid_search.fit(housing_prepared, housing_labels)"
   ]
  },
  {
   "cell_type": "markdown",
   "metadata": {},
   "source": [
    "수동으로 하이퍼파라미터를 조정할 수 있지만 사이킷런의 **GridSearchCV** 클래스를 사용할 수도 있음  \n",
    "가능한 모든 조합에 대해 교차검증을 사용하여 평가함  \n",
    "> **시간은 좀 걸리지만 최적의 조합을 찾을 수 있음**"
   ]
  },
  {
   "cell_type": "code",
   "execution_count": 3,
   "metadata": {},
   "outputs": [
    {
     "data": {
      "text/plain": [
       "{'max_features': 6, 'n_estimators': 30}"
      ]
     },
     "execution_count": 3,
     "metadata": {},
     "output_type": "execute_result"
    }
   ],
   "source": [
    "grid_search.best_params_"
   ]
  },
  {
   "cell_type": "code",
   "execution_count": 6,
   "metadata": {},
   "outputs": [
    {
     "name": "stdout",
     "output_type": "stream",
     "text": [
      "64452.557101401326 {'max_features': 2, 'n_estimators': 3}\n",
      "55671.5991067315 {'max_features': 2, 'n_estimators': 10}\n",
      "53139.07831104272 {'max_features': 2, 'n_estimators': 30}\n",
      "61187.1007911414 {'max_features': 4, 'n_estimators': 3}\n",
      "52425.780087676474 {'max_features': 4, 'n_estimators': 10}\n",
      "50329.42359308412 {'max_features': 4, 'n_estimators': 30}\n",
      "59186.79775493874 {'max_features': 6, 'n_estimators': 3}\n",
      "52219.94852409528 {'max_features': 6, 'n_estimators': 10}\n",
      "50053.77558253738 {'max_features': 6, 'n_estimators': 30}\n",
      "59105.427696618885 {'max_features': 8, 'n_estimators': 3}\n",
      "52201.993594673855 {'max_features': 8, 'n_estimators': 10}\n",
      "50267.38072101483 {'max_features': 8, 'n_estimators': 30}\n",
      "64073.06199783314 {'bootstrap': False, 'max_features': 2, 'n_estimators': 3}\n",
      "54474.05579952185 {'bootstrap': False, 'max_features': 2, 'n_estimators': 10}\n",
      "59751.71044365391 {'bootstrap': False, 'max_features': 3, 'n_estimators': 3}\n",
      "52851.51185491938 {'bootstrap': False, 'max_features': 3, 'n_estimators': 10}\n",
      "59504.667712552335 {'bootstrap': False, 'max_features': 4, 'n_estimators': 3}\n",
      "52164.82472539306 {'bootstrap': False, 'max_features': 4, 'n_estimators': 10}\n"
     ]
    }
   ],
   "source": [
    "import numpy as np\n",
    "\n",
    "cvres = grid_search.cv_results_\n",
    "for mean_score, params in zip(cvres[\"mean_test_score\"], cvres[\"params\"]):\n",
    "    print(np.sqrt(-mean_score), params)"
   ]
  },
  {
   "cell_type": "markdown",
   "metadata": {},
   "source": [
    "파라미터에 따른 점수와 최적의 파라미터를 추출할 수 있음  \n",
    "  \n",
    "> 더 나아가서 **데이터의 준비단계** 또한 하이퍼파라미터처럼 다룰 수 있음  \n",
    "> - 예를 들어 이상치나 값이 빈 특성을 다룰 때 특성 선택을 자동으로 처리하는 데 사용할 수 있음"
   ]
  },
  {
   "cell_type": "code",
   "execution_count": 7,
   "metadata": {},
   "outputs": [],
   "source": [
    "best_model = grid_search.best_estimator_"
   ]
  },
  {
   "cell_type": "markdown",
   "metadata": {},
   "source": [
    "이런식으로 **가장 좋은 경우의 모델**을 가져올 수 있음"
   ]
  },
  {
   "cell_type": "code",
   "execution_count": 8,
   "metadata": {},
   "outputs": [],
   "source": [
    "feature_importances = best_model.feature_importances_"
   ]
  },
  {
   "cell_type": "code",
   "execution_count": 9,
   "metadata": {},
   "outputs": [
    {
     "data": {
      "text/plain": [
       "array([8.92028199e-02, 6.99859320e-02, 4.01409065e-02, 1.85489183e-02,\n",
       "       1.62099566e-02, 1.81138491e-02, 1.59920313e-02, 3.12416197e-01,\n",
       "       7.28043991e-02, 1.03457261e-01, 7.05093063e-02, 1.60790946e-02,\n",
       "       1.46553283e-01, 5.98995462e-05, 3.12985367e-03, 6.79629291e-03])"
      ]
     },
     "execution_count": 9,
     "metadata": {},
     "output_type": "execute_result"
    }
   ],
   "source": [
    "feature_importances"
   ]
  },
  {
   "cell_type": "markdown",
   "metadata": {},
   "source": [
    "그리고 그 모델에 대해 학습에 사용된 **각 특성의 상대적인 중요도**를 알 수 있음"
   ]
  },
  {
   "cell_type": "code",
   "execution_count": 13,
   "metadata": {},
   "outputs": [
    {
     "name": "stdout",
     "output_type": "stream",
     "text": [
      "[(0.3124161965575886, 'median_income'),\n",
      " (0.14655328269760712, 'INLAND'),\n",
      " (0.1034572609147763, 'pop_per_house'),\n",
      " (0.08920281987588922, 'longitude'),\n",
      " (0.07280439906846915, 'rooms_per_house'),\n",
      " (0.07050930630460514, 'bedrooms_per_room'),\n",
      " (0.06998593204718519, 'latitude'),\n",
      " (0.040140906518167596, 'housing_median_age'),\n",
      " (0.01854891825647091, 'total_rooms'),\n",
      " (0.01811384908845668, 'population'),\n",
      " (0.016209956639456607, 'total_bedrooms'),\n",
      " (0.01607909464419893, '<1H OCEAN'),\n",
      " (0.01599203126017584, 'households'),\n",
      " (0.006796292911805352, 'NEAR OCEAN'),\n",
      " (0.0031298536689226635, 'NEAR BAY'),\n",
      " (5.98995462246774e-05, 'ISLAND')]\n"
     ]
    }
   ],
   "source": [
    "from _04_preprocessing import num_attribs\n",
    "from pprint import pprint\n",
    "\n",
    "extra_attribs = [\"rooms_per_house\", \"pop_per_house\", \"bedrooms_per_room\"]\n",
    "cat_encoder = full_pipeline.named_transformers_[\"tf_cat\"]\n",
    "cat_one_hot_attribs = list(cat_encoder.categories_[0])\n",
    "attribs = num_attribs + extra_attribs + cat_one_hot_attribs\n",
    "pprint(sorted(zip(feature_importances, attribs), reverse=True))"
   ]
  },
  {
   "cell_type": "markdown",
   "metadata": {},
   "source": [
    "각 중요도와 특성 이름을 같이 나타내는 예시  \n",
    "> 이 중요도를 보고 **너무 낮은 중요도의 특성은 빼는 식으로** 튜닝할 수 있음"
   ]
  }
 ],
 "metadata": {
  "kernelspec": {
   "display_name": "Python 3",
   "language": "python",
   "name": "python3"
  },
  "language_info": {
   "codemirror_mode": {
    "name": "ipython",
    "version": 3
   },
   "file_extension": ".py",
   "mimetype": "text/x-python",
   "name": "python",
   "nbconvert_exporter": "python",
   "pygments_lexer": "ipython3",
   "version": "3.9.1"
  }
 },
 "nbformat": 4,
 "nbformat_minor": 4
}
