{
 "cells": [
  {
   "cell_type": "code",
   "execution_count": 2,
   "metadata": {},
   "outputs": [],
   "source": [
    "from _02_making_test_set import start_train_set, start_test_set\n",
    "\n",
    "housing = start_train_set.drop(\"median_house_value\", axis=1)\n",
    "housing_labels = start_train_set[\"median_house_value\"].copy"
   ]
  },
  {
   "cell_type": "markdown",
   "metadata": {},
   "source": [
    "본격적으로 사용할 feature와 label 분리"
   ]
  },
  {
   "cell_type": "code",
   "execution_count": 3,
   "metadata": {},
   "outputs": [],
   "source": [
    "from sklearn.impute import SimpleImputer\n",
    "\n",
    "imputer = SimpleImputer(strategy=\"median\")"
   ]
  },
  {
   "cell_type": "markdown",
   "metadata": {},
   "source": [
    "싸이킷런이 제공하는 **SimpleImputer** 클래스를 사용하여 nan값을 대체하는 법 설명"
   ]
  },
  {
   "cell_type": "code",
   "execution_count": 4,
   "metadata": {},
   "outputs": [],
   "source": [
    "housing_num = housing.drop(\"ocean_proximity\", axis=1)"
   ]
  },
  {
   "cell_type": "markdown",
   "metadata": {},
   "source": [
    "imputer가 숫자형 데이터만 다룰 수 있기 때문에 카테고리값인 특성은 잠시 제외"
   ]
  },
  {
   "cell_type": "code",
   "execution_count": 5,
   "metadata": {},
   "outputs": [
    {
     "data": {
      "text/plain": [
       "SimpleImputer(strategy='median')"
      ]
     },
     "execution_count": 5,
     "metadata": {},
     "output_type": "execute_result"
    }
   ],
   "source": [
    "imputer.fit(housing_num)"
   ]
  },
  {
   "cell_type": "code",
   "execution_count": 6,
   "metadata": {},
   "outputs": [
    {
     "data": {
      "text/plain": [
       "array([-118.49  ,   34.26  ,   29.    , 2123.5   ,  434.    , 1166.    ,\n",
       "        409.    ,    3.5341])"
      ]
     },
     "execution_count": 6,
     "metadata": {},
     "output_type": "execute_result"
    }
   ],
   "source": [
    "imputer.statistics_"
   ]
  },
  {
   "cell_type": "code",
   "execution_count": 7,
   "metadata": {},
   "outputs": [
    {
     "data": {
      "text/plain": [
       "array([-118.49  ,   34.26  ,   29.    , 2123.5   ,  434.    , 1166.    ,\n",
       "        409.    ,    3.5341])"
      ]
     },
     "execution_count": 7,
     "metadata": {},
     "output_type": "execute_result"
    }
   ],
   "source": [
    "housing_num.median().values"
   ]
  },
  {
   "cell_type": "code",
   "execution_count": 8,
   "metadata": {},
   "outputs": [],
   "source": [
    "X = imputer.transform(housing_num)"
   ]
  },
  {
   "cell_type": "markdown",
   "metadata": {},
   "source": [
    "각 특성의 median값으로 설정된 imputer를 이용해 각 특성의 nan값을 대체"
   ]
  },
  {
   "cell_type": "code",
   "execution_count": 9,
   "metadata": {},
   "outputs": [],
   "source": [
    "import pandas as pd\n",
    "housing_tr = pd.DataFrame(X, columns=housing_num.columns, index=housing_num.index)"
   ]
  },
  {
   "cell_type": "markdown",
   "metadata": {},
   "source": [
    "치환된 데이터셋을 다시 pandas 데이터프레임으로 변환"
   ]
  },
  {
   "cell_type": "code",
   "execution_count": 10,
   "metadata": {},
   "outputs": [
    {
     "data": {
      "text/html": [
       "<div>\n",
       "<style scoped>\n",
       "    .dataframe tbody tr th:only-of-type {\n",
       "        vertical-align: middle;\n",
       "    }\n",
       "\n",
       "    .dataframe tbody tr th {\n",
       "        vertical-align: top;\n",
       "    }\n",
       "\n",
       "    .dataframe thead th {\n",
       "        text-align: right;\n",
       "    }\n",
       "</style>\n",
       "<table border=\"1\" class=\"dataframe\">\n",
       "  <thead>\n",
       "    <tr style=\"text-align: right;\">\n",
       "      <th></th>\n",
       "      <th>ocean_proximity</th>\n",
       "    </tr>\n",
       "  </thead>\n",
       "  <tbody>\n",
       "    <tr>\n",
       "      <th>5288</th>\n",
       "      <td>&lt;1H OCEAN</td>\n",
       "    </tr>\n",
       "    <tr>\n",
       "      <th>12865</th>\n",
       "      <td>INLAND</td>\n",
       "    </tr>\n",
       "    <tr>\n",
       "      <th>9174</th>\n",
       "      <td>&lt;1H OCEAN</td>\n",
       "    </tr>\n",
       "    <tr>\n",
       "      <th>17247</th>\n",
       "      <td>&lt;1H OCEAN</td>\n",
       "    </tr>\n",
       "    <tr>\n",
       "      <th>14138</th>\n",
       "      <td>NEAR OCEAN</td>\n",
       "    </tr>\n",
       "    <tr>\n",
       "      <th>5722</th>\n",
       "      <td>&lt;1H OCEAN</td>\n",
       "    </tr>\n",
       "    <tr>\n",
       "      <th>18559</th>\n",
       "      <td>NEAR OCEAN</td>\n",
       "    </tr>\n",
       "    <tr>\n",
       "      <th>18488</th>\n",
       "      <td>INLAND</td>\n",
       "    </tr>\n",
       "    <tr>\n",
       "      <th>9796</th>\n",
       "      <td>NEAR OCEAN</td>\n",
       "    </tr>\n",
       "    <tr>\n",
       "      <th>19705</th>\n",
       "      <td>INLAND</td>\n",
       "    </tr>\n",
       "  </tbody>\n",
       "</table>\n",
       "</div>"
      ],
      "text/plain": [
       "      ocean_proximity\n",
       "5288        <1H OCEAN\n",
       "12865          INLAND\n",
       "9174        <1H OCEAN\n",
       "17247       <1H OCEAN\n",
       "14138      NEAR OCEAN\n",
       "5722        <1H OCEAN\n",
       "18559      NEAR OCEAN\n",
       "18488          INLAND\n",
       "9796       NEAR OCEAN\n",
       "19705          INLAND"
      ]
     },
     "execution_count": 10,
     "metadata": {},
     "output_type": "execute_result"
    }
   ],
   "source": [
    "housing_cat = housing[[\"ocean_proximity\"]]\n",
    "housing_cat.head(10)"
   ]
  },
  {
   "cell_type": "markdown",
   "metadata": {},
   "source": [
    "해당 데이터셋에서 카테고리 데이터는 'ocean_proximity' 1개 뿐.  \n",
    "그래서 column이름을 적을 때, 기존 차원을 유지하기 위해서 **리스트에 담아서 가져오는 것** 주목.  "
   ]
  },
  {
   "cell_type": "code",
   "execution_count": 11,
   "metadata": {},
   "outputs": [
    {
     "data": {
      "text/plain": [
       "array([[0.],\n",
       "       [1.],\n",
       "       [0.],\n",
       "       [0.],\n",
       "       [4.],\n",
       "       [0.],\n",
       "       [4.],\n",
       "       [1.],\n",
       "       [4.],\n",
       "       [1.]])"
      ]
     },
     "execution_count": 11,
     "metadata": {},
     "output_type": "execute_result"
    }
   ],
   "source": [
    "from sklearn.preprocessing import OrdinalEncoder\n",
    "ordinal_encoder = OrdinalEncoder()\n",
    "housing_cat_encoded = ordinal_encoder.fit_transform(housing_cat)\n",
    "housing_cat_encoded[:10]"
   ]
  },
  {
   "cell_type": "markdown",
   "metadata": {},
   "source": [
    "범주형 데이터를 숫자에 매핑하여 변환해주는 **OrdinalEncoder** 클래스 사용  \n",
    "해당 클래스의 **fit_transform** 메서드를 이용하여 해당 데이터에 대해 fit과 transform을 동시에 진행"
   ]
  },
  {
   "cell_type": "code",
   "execution_count": 12,
   "metadata": {},
   "outputs": [
    {
     "data": {
      "text/plain": [
       "[array(['<1H OCEAN', 'INLAND', 'ISLAND', 'NEAR BAY', 'NEAR OCEAN'],\n",
       "       dtype=object)]"
      ]
     },
     "execution_count": 12,
     "metadata": {},
     "output_type": "execute_result"
    }
   ],
   "source": [
    "ordinal_encoder.categories_"
   ]
  },
  {
   "cell_type": "markdown",
   "metadata": {},
   "source": [
    "이 방법은 가까이 있는 두 값을 떨어져 있는 두 값보다 더 비슷하다고 학습하게 됨.   \n",
    "만약 카테고리가 'bad', 'average', 'good', 'excellent' 와 같이 순서가 있다면 괜찮음.  \n",
    "하지만 'ocean_proximity'는 그것에 해당하지 않음. 이때는 **one-hot encoding** 방식이 더 좋음"
   ]
  },
  {
   "cell_type": "code",
   "execution_count": 13,
   "metadata": {},
   "outputs": [
    {
     "data": {
      "text/plain": [
       "<16512x5 sparse matrix of type '<class 'numpy.float64'>'\n",
       "\twith 16512 stored elements in Compressed Sparse Row format>"
      ]
     },
     "execution_count": 13,
     "metadata": {},
     "output_type": "execute_result"
    }
   ],
   "source": [
    "from sklearn.preprocessing import OneHotEncoder\n",
    "cat_encoder = OneHotEncoder()\n",
    "housing_cat_1hot = cat_encoder.fit_transform(housing_cat)\n",
    "housing_cat_1hot"
   ]
  },
  {
   "cell_type": "code",
   "execution_count": 14,
   "metadata": {},
   "outputs": [
    {
     "data": {
      "text/plain": [
       "array([[1., 0., 0., 0., 0.],\n",
       "       [0., 1., 0., 0., 0.],\n",
       "       [1., 0., 0., 0., 0.],\n",
       "       ...,\n",
       "       [1., 0., 0., 0., 0.],\n",
       "       [0., 0., 0., 1., 0.],\n",
       "       [1., 0., 0., 0., 0.]])"
      ]
     },
     "execution_count": 14,
     "metadata": {},
     "output_type": "execute_result"
    }
   ],
   "source": [
    "housing_cat_1hot.toarray()"
   ]
  },
  {
   "cell_type": "code",
   "execution_count": 16,
   "metadata": {},
   "outputs": [
    {
     "data": {
      "text/plain": [
       "[array(['<1H OCEAN', 'INLAND', 'ISLAND', 'NEAR BAY', 'NEAR OCEAN'],\n",
       "       dtype=object)]"
      ]
     },
     "execution_count": 16,
     "metadata": {},
     "output_type": "execute_result"
    }
   ],
   "source": [
    "cat_encoder.categories_"
   ]
  },
  {
   "cell_type": "markdown",
   "metadata": {},
   "source": [
    "---  \n",
    "\n",
    "사이킷런이 제공하는 기본 베이스를 활용하여 자신만의 변환기를 만들 수도 있음  \n",
    "**fit(), transform(), fit_transform()** 메서드를 구현한 파이썬 클래스를 만들면 됨  \n",
    "**fit_transform** 메서드는 **TransformerMixin**을 상속하면 자동으로 생성됨  \n",
    "또한 **BaseEstimator**를 상속하면 하이퍼파라미터 튜닝에 필요한 **get_params()와 set_params()** 메서드를 추가로 얻음"
   ]
  },
  {
   "cell_type": "code",
   "execution_count": 26,
   "metadata": {},
   "outputs": [],
   "source": [
    "from sklearn.base import BaseEstimator, TransformerMixin\n",
    "import numpy as np\n",
    "\n",
    "rooms_ix, bedrooms_ix, pop_ix, house_ix = 3, 4, 5, 6\n",
    "\n",
    "class CombinedAttribsAdder(BaseEstimator, TransformerMixin):\n",
    "    def __init__(self, add_bedrooms_per_room=True):\n",
    "        self.add_bedrooms_per_room = add_bedrooms_per_room\n",
    "    def fit(self, X, y=None):\n",
    "        return self\n",
    "    def transform(self, X):\n",
    "        rooms_per_house = X[:, rooms_ix] / X[:, house_ix]\n",
    "        pop_per_house = X[:, pop_ix] / X[:, house_ix]\n",
    "        if self.add_bedrooms_per_room:\n",
    "            bedrooms_per_room = X[:, bedrooms_ix] / X[:, rooms_ix]\n",
    "            return np.c_[X, rooms_per_house, pop_per_house, bedrooms_per_room]\n",
    "        else:\n",
    "            return np.c_[X, rooms_per_house, pop_per_house]\n",
    "attr_adder = CombinedAttribsAdder(add_bedrooms_per_room=False)\n",
    "housing_extra_attribs = attr_adder.transform(housing.values)"
   ]
  },
  {
   "cell_type": "code",
   "execution_count": 27,
   "metadata": {},
   "outputs": [
    {
     "data": {
      "text/plain": [
       "array([[0, 0, 1, 2, 2, 2],\n",
       "       [1, 0, 0, 3, 3, 3]])"
      ]
     },
     "execution_count": 27,
     "metadata": {},
     "output_type": "execute_result"
    }
   ],
   "source": [
    "np.c_[np.array([[0, 0, 1], [1, 0, 0]]), np.array([[2, 2, 2], [3, 3, 3]])]"
   ]
  },
  {
   "cell_type": "code",
   "execution_count": 28,
   "metadata": {},
   "outputs": [
    {
     "data": {
      "text/plain": [
       "array([[1, 2, 3, 0, 0, 4, 5, 6]])"
      ]
     },
     "execution_count": 28,
     "metadata": {},
     "output_type": "execute_result"
    }
   ],
   "source": [
    "np.c_[np.array([[1,2,3]]), 0, 0, np.array([[4,5,6]])]"
   ]
  },
  {
   "cell_type": "markdown",
   "metadata": {},
   "source": [
    "시간을 절약할 수 있도록 다향한 기능을 가진 변환기를 만들어 놓으면 좋음  \n",
    "**np.c_**는 concatenate 기능이라고 보면 됨"
   ]
  },
  {
   "cell_type": "markdown",
   "metadata": {},
   "source": [
    "이 밖에 데이터에 적용할 가장 중요한 변환 중 하나가 **특성 스케일링**임  \n",
    "거의 모든 머신러닝 알고리즘은 입력 숫자 특성들의 스케일이 많이 다르면 잘 작동하지 않음  \n",
    "대표적인 간단한 스케일링 방법 두 가지가 있음  \n",
    "> **min_max 스케일링**(정규화)  \n",
    "> **표준화**  \n",
    "  \n",
    "**min_max 스케일링은 이상치에 영향을 많이 받음  \n",
    "표준화는 이상치에 영향을 덜 받지만 범위의 상한과 하한이 없어서 어떤 알고리즘에 문제가 될 수도 있음**  \n",
    "  \n",
    "> 또한 모든 변환기에서 스케일링은 전체 데이터에 대해서가 아닌 훈련 데이터에 대해서만 적용해야 함  \n",
    "> 훈련 데이터에 대해 fit한 변환기로 테스트 데이터를 transform해야 함  \n",
    "  \n",
    "아래 예시는 표준화를 위한 사이킷런 클래스를 활용함"
   ]
  },
  {
   "cell_type": "code",
   "execution_count": 29,
   "metadata": {},
   "outputs": [],
   "source": [
    "from sklearn.pipeline import Pipeline\n",
    "from sklearn.preprocessing import StandardScaler\n",
    "\n",
    "num_pipeline = Pipeline([\n",
    "    (\"imputer\", SimpleImputer(strategy=\"median\")),\n",
    "    (\"attribs_adder\", CombinedAttribsAdder()),\n",
    "    (\"std_scaler\", StandardScaler()),\n",
    "])\n",
    "\n",
    "housing_num_tr = num_pipeline.fit_transform(housing_num)"
   ]
  },
  {
   "cell_type": "markdown",
   "metadata": {},
   "source": [
    "연속된 변환기를 순서대로 연결해주는 **Pipeline**클래스가 있음  \n",
    "이름/추정기 쌍의 목록을 입력으로 받음. 이름은 뭐가 돼도 상관없음  \n",
    "\n",
    "> **가장 마지막 단계에는 변환기와 추정기 모두 사용 가능**  \n",
    "> 그 외의 단계에는 **변환기만** 사용가능: 즉 fit_transform 메서드를 갖고 있어야 함  \n",
    "  \n",
    "Pipeline의 fit()메서드를 호출하면 모든 변환기의 fit_transform()메서드를 순서대로 호출하면서 다음 단계의 입력으로 전달함  \n"
   ]
  },
  {
   "cell_type": "code",
   "execution_count": 30,
   "metadata": {},
   "outputs": [],
   "source": [
    "from sklearn.compose import ColumnTransformer\n",
    "\n",
    "num_attribs = list(housing_num) # names of num_columns\n",
    "cat_attribs = [\"ocean_proximity\"]\n",
    "\n",
    "full_pipeline = ColumnTransformer([\n",
    "    (\"tf_num\", num_pipeline, num_attribs),\n",
    "    (\"tf_cat\", OneHotEncoder(), cat_attribs),\n",
    "])\n",
    "\n",
    "housing_prepared = full_pipeline.fit_transform(housing)"
   ]
  },
  {
   "cell_type": "markdown",
   "metadata": {},
   "source": [
    "pandas 데이터프레임의 각 columns마다 다른 변환을 적용하고 싶을 때를 위해 **ColumnTransformer** 클래스 사용  \n",
    "> **(변환기이름/ 변환기/ 적용할 columns이름)** 쌍을 입력 받음\n",
    "  \n",
    "기본적으로 나열되지 않은 column은 삭제됨;;  \n",
    "  \n",
    "위 예시에서 OneHotEncoder클래스는 희소행렬을 반환하고 num_pipeline은 밀집행렬을 반환함  \n",
    "이 경우 ColumnsTransformer는 최종 행렬의 밀집 정도를 추정하여 밀집도가 0.3 이하면 희소행렬을 반환하고 그 이상이면 밀집 행렬을 반환함  \n",
    "지금은 밀집 행렬을 반환한다고 함  \n",
    "\n",
    "최종 출력된 데이터의 타입은 **np.array**임"
   ]
  },
  {
   "cell_type": "code",
   "execution_count": null,
   "metadata": {},
   "outputs": [],
   "source": []
  }
 ],
 "metadata": {
  "kernelspec": {
   "display_name": "Python 3",
   "language": "python",
   "name": "python3"
  },
  "language_info": {
   "codemirror_mode": {
    "name": "ipython",
    "version": 3
   },
   "file_extension": ".py",
   "mimetype": "text/x-python",
   "name": "python",
   "nbconvert_exporter": "python",
   "pygments_lexer": "ipython3",
   "version": "3.9.1"
  }
 },
 "nbformat": 4,
 "nbformat_minor": 4
}
