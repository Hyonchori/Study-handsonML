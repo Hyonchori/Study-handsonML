{
 "cells": [
  {
   "cell_type": "code",
   "execution_count": 21,
   "metadata": {},
   "outputs": [],
   "source": [
    "from _04_preprocessing import housing_prepared, housing_labels\n",
    "from _04_preprocessing import full_pipeline\n",
    "from _04_preprocessing import start_test_set"
   ]
  },
  {
   "cell_type": "code",
   "execution_count": 25,
   "metadata": {},
   "outputs": [],
   "source": [
    "from sklearn import svm\n",
    "\n",
    "from sklearn.model_selection import GridSearchCV\n",
    "\n",
    "param_grid = [\n",
    "    {'kernel': [\"linear\"], \"C\": [10, 100, 1000]},\n",
    "    {'kernel': [\"rbf\"], \"C\": [10, 100, 1000], 'gamma': [\"scale\", \"auto\"]},\n",
    "]\n",
    "\n",
    "svm_reg = svm.SVR()\n",
    "\n",
    "grid_search = GridSearchCV(svm_reg, param_grid, cv=5,\n",
    "                          scoring='neg_mean_squared_error',\n",
    "                          return_train_score=True)"
   ]
  },
  {
   "cell_type": "code",
   "execution_count": 23,
   "metadata": {},
   "outputs": [
    {
     "ename": "KeyboardInterrupt",
     "evalue": "",
     "output_type": "error",
     "traceback": [
      "\u001b[1;31m---------------------------------------------------------------------------\u001b[0m",
      "\u001b[1;31mKeyboardInterrupt\u001b[0m                         Traceback (most recent call last)",
      "\u001b[1;32m<ipython-input-23-eebf2e7e749c>\u001b[0m in \u001b[0;36m<module>\u001b[1;34m\u001b[0m\n\u001b[1;32m----> 1\u001b[1;33m \u001b[0mgrid_search\u001b[0m\u001b[1;33m.\u001b[0m\u001b[0mfit\u001b[0m\u001b[1;33m(\u001b[0m\u001b[0mhousing_prepared\u001b[0m\u001b[1;33m,\u001b[0m \u001b[0mhousing_labels\u001b[0m\u001b[1;33m)\u001b[0m\u001b[1;33m\u001b[0m\u001b[1;33m\u001b[0m\u001b[0m\n\u001b[0m",
      "\u001b[1;32mc:\\users\\gus8c\\appdata\\local\\programs\\python\\python39\\lib\\site-packages\\sklearn\\utils\\validation.py\u001b[0m in \u001b[0;36minner_f\u001b[1;34m(*args, **kwargs)\u001b[0m\n\u001b[0;32m     61\u001b[0m             \u001b[0mextra_args\u001b[0m \u001b[1;33m=\u001b[0m \u001b[0mlen\u001b[0m\u001b[1;33m(\u001b[0m\u001b[0margs\u001b[0m\u001b[1;33m)\u001b[0m \u001b[1;33m-\u001b[0m \u001b[0mlen\u001b[0m\u001b[1;33m(\u001b[0m\u001b[0mall_args\u001b[0m\u001b[1;33m)\u001b[0m\u001b[1;33m\u001b[0m\u001b[1;33m\u001b[0m\u001b[0m\n\u001b[0;32m     62\u001b[0m             \u001b[1;32mif\u001b[0m \u001b[0mextra_args\u001b[0m \u001b[1;33m<=\u001b[0m \u001b[1;36m0\u001b[0m\u001b[1;33m:\u001b[0m\u001b[1;33m\u001b[0m\u001b[1;33m\u001b[0m\u001b[0m\n\u001b[1;32m---> 63\u001b[1;33m                 \u001b[1;32mreturn\u001b[0m \u001b[0mf\u001b[0m\u001b[1;33m(\u001b[0m\u001b[1;33m*\u001b[0m\u001b[0margs\u001b[0m\u001b[1;33m,\u001b[0m \u001b[1;33m**\u001b[0m\u001b[0mkwargs\u001b[0m\u001b[1;33m)\u001b[0m\u001b[1;33m\u001b[0m\u001b[1;33m\u001b[0m\u001b[0m\n\u001b[0m\u001b[0;32m     64\u001b[0m \u001b[1;33m\u001b[0m\u001b[0m\n\u001b[0;32m     65\u001b[0m             \u001b[1;31m# extra_args > 0\u001b[0m\u001b[1;33m\u001b[0m\u001b[1;33m\u001b[0m\u001b[1;33m\u001b[0m\u001b[0m\n",
      "\u001b[1;32mc:\\users\\gus8c\\appdata\\local\\programs\\python\\python39\\lib\\site-packages\\sklearn\\model_selection\\_search.py\u001b[0m in \u001b[0;36mfit\u001b[1;34m(self, X, y, groups, **fit_params)\u001b[0m\n\u001b[0;32m    839\u001b[0m                 \u001b[1;32mreturn\u001b[0m \u001b[0mresults\u001b[0m\u001b[1;33m\u001b[0m\u001b[1;33m\u001b[0m\u001b[0m\n\u001b[0;32m    840\u001b[0m \u001b[1;33m\u001b[0m\u001b[0m\n\u001b[1;32m--> 841\u001b[1;33m             \u001b[0mself\u001b[0m\u001b[1;33m.\u001b[0m\u001b[0m_run_search\u001b[0m\u001b[1;33m(\u001b[0m\u001b[0mevaluate_candidates\u001b[0m\u001b[1;33m)\u001b[0m\u001b[1;33m\u001b[0m\u001b[1;33m\u001b[0m\u001b[0m\n\u001b[0m\u001b[0;32m    842\u001b[0m \u001b[1;33m\u001b[0m\u001b[0m\n\u001b[0;32m    843\u001b[0m             \u001b[1;31m# multimetric is determined here because in the case of a callable\u001b[0m\u001b[1;33m\u001b[0m\u001b[1;33m\u001b[0m\u001b[1;33m\u001b[0m\u001b[0m\n",
      "\u001b[1;32mc:\\users\\gus8c\\appdata\\local\\programs\\python\\python39\\lib\\site-packages\\sklearn\\model_selection\\_search.py\u001b[0m in \u001b[0;36m_run_search\u001b[1;34m(self, evaluate_candidates)\u001b[0m\n\u001b[0;32m   1286\u001b[0m     \u001b[1;32mdef\u001b[0m \u001b[0m_run_search\u001b[0m\u001b[1;33m(\u001b[0m\u001b[0mself\u001b[0m\u001b[1;33m,\u001b[0m \u001b[0mevaluate_candidates\u001b[0m\u001b[1;33m)\u001b[0m\u001b[1;33m:\u001b[0m\u001b[1;33m\u001b[0m\u001b[1;33m\u001b[0m\u001b[0m\n\u001b[0;32m   1287\u001b[0m         \u001b[1;34m\"\"\"Search all candidates in param_grid\"\"\"\u001b[0m\u001b[1;33m\u001b[0m\u001b[1;33m\u001b[0m\u001b[0m\n\u001b[1;32m-> 1288\u001b[1;33m         \u001b[0mevaluate_candidates\u001b[0m\u001b[1;33m(\u001b[0m\u001b[0mParameterGrid\u001b[0m\u001b[1;33m(\u001b[0m\u001b[0mself\u001b[0m\u001b[1;33m.\u001b[0m\u001b[0mparam_grid\u001b[0m\u001b[1;33m)\u001b[0m\u001b[1;33m)\u001b[0m\u001b[1;33m\u001b[0m\u001b[1;33m\u001b[0m\u001b[0m\n\u001b[0m\u001b[0;32m   1289\u001b[0m \u001b[1;33m\u001b[0m\u001b[0m\n\u001b[0;32m   1290\u001b[0m \u001b[1;33m\u001b[0m\u001b[0m\n",
      "\u001b[1;32mc:\\users\\gus8c\\appdata\\local\\programs\\python\\python39\\lib\\site-packages\\sklearn\\model_selection\\_search.py\u001b[0m in \u001b[0;36mevaluate_candidates\u001b[1;34m(candidate_params, cv, more_results)\u001b[0m\n\u001b[0;32m    793\u001b[0m                               n_splits, n_candidates, n_candidates * n_splits))\n\u001b[0;32m    794\u001b[0m \u001b[1;33m\u001b[0m\u001b[0m\n\u001b[1;32m--> 795\u001b[1;33m                 out = parallel(delayed(_fit_and_score)(clone(base_estimator),\n\u001b[0m\u001b[0;32m    796\u001b[0m                                                        \u001b[0mX\u001b[0m\u001b[1;33m,\u001b[0m \u001b[0my\u001b[0m\u001b[1;33m,\u001b[0m\u001b[1;33m\u001b[0m\u001b[1;33m\u001b[0m\u001b[0m\n\u001b[0;32m    797\u001b[0m                                                        \u001b[0mtrain\u001b[0m\u001b[1;33m=\u001b[0m\u001b[0mtrain\u001b[0m\u001b[1;33m,\u001b[0m \u001b[0mtest\u001b[0m\u001b[1;33m=\u001b[0m\u001b[0mtest\u001b[0m\u001b[1;33m,\u001b[0m\u001b[1;33m\u001b[0m\u001b[1;33m\u001b[0m\u001b[0m\n",
      "\u001b[1;32mc:\\users\\gus8c\\appdata\\local\\programs\\python\\python39\\lib\\site-packages\\joblib\\parallel.py\u001b[0m in \u001b[0;36m__call__\u001b[1;34m(self, iterable)\u001b[0m\n\u001b[0;32m   1042\u001b[0m                 \u001b[0mself\u001b[0m\u001b[1;33m.\u001b[0m\u001b[0m_iterating\u001b[0m \u001b[1;33m=\u001b[0m \u001b[0mself\u001b[0m\u001b[1;33m.\u001b[0m\u001b[0m_original_iterator\u001b[0m \u001b[1;32mis\u001b[0m \u001b[1;32mnot\u001b[0m \u001b[1;32mNone\u001b[0m\u001b[1;33m\u001b[0m\u001b[1;33m\u001b[0m\u001b[0m\n\u001b[0;32m   1043\u001b[0m \u001b[1;33m\u001b[0m\u001b[0m\n\u001b[1;32m-> 1044\u001b[1;33m             \u001b[1;32mwhile\u001b[0m \u001b[0mself\u001b[0m\u001b[1;33m.\u001b[0m\u001b[0mdispatch_one_batch\u001b[0m\u001b[1;33m(\u001b[0m\u001b[0miterator\u001b[0m\u001b[1;33m)\u001b[0m\u001b[1;33m:\u001b[0m\u001b[1;33m\u001b[0m\u001b[1;33m\u001b[0m\u001b[0m\n\u001b[0m\u001b[0;32m   1045\u001b[0m                 \u001b[1;32mpass\u001b[0m\u001b[1;33m\u001b[0m\u001b[1;33m\u001b[0m\u001b[0m\n\u001b[0;32m   1046\u001b[0m \u001b[1;33m\u001b[0m\u001b[0m\n",
      "\u001b[1;32mc:\\users\\gus8c\\appdata\\local\\programs\\python\\python39\\lib\\site-packages\\joblib\\parallel.py\u001b[0m in \u001b[0;36mdispatch_one_batch\u001b[1;34m(self, iterator)\u001b[0m\n\u001b[0;32m    857\u001b[0m                 \u001b[1;32mreturn\u001b[0m \u001b[1;32mFalse\u001b[0m\u001b[1;33m\u001b[0m\u001b[1;33m\u001b[0m\u001b[0m\n\u001b[0;32m    858\u001b[0m             \u001b[1;32melse\u001b[0m\u001b[1;33m:\u001b[0m\u001b[1;33m\u001b[0m\u001b[1;33m\u001b[0m\u001b[0m\n\u001b[1;32m--> 859\u001b[1;33m                 \u001b[0mself\u001b[0m\u001b[1;33m.\u001b[0m\u001b[0m_dispatch\u001b[0m\u001b[1;33m(\u001b[0m\u001b[0mtasks\u001b[0m\u001b[1;33m)\u001b[0m\u001b[1;33m\u001b[0m\u001b[1;33m\u001b[0m\u001b[0m\n\u001b[0m\u001b[0;32m    860\u001b[0m                 \u001b[1;32mreturn\u001b[0m \u001b[1;32mTrue\u001b[0m\u001b[1;33m\u001b[0m\u001b[1;33m\u001b[0m\u001b[0m\n\u001b[0;32m    861\u001b[0m \u001b[1;33m\u001b[0m\u001b[0m\n",
      "\u001b[1;32mc:\\users\\gus8c\\appdata\\local\\programs\\python\\python39\\lib\\site-packages\\joblib\\parallel.py\u001b[0m in \u001b[0;36m_dispatch\u001b[1;34m(self, batch)\u001b[0m\n\u001b[0;32m    775\u001b[0m         \u001b[1;32mwith\u001b[0m \u001b[0mself\u001b[0m\u001b[1;33m.\u001b[0m\u001b[0m_lock\u001b[0m\u001b[1;33m:\u001b[0m\u001b[1;33m\u001b[0m\u001b[1;33m\u001b[0m\u001b[0m\n\u001b[0;32m    776\u001b[0m             \u001b[0mjob_idx\u001b[0m \u001b[1;33m=\u001b[0m \u001b[0mlen\u001b[0m\u001b[1;33m(\u001b[0m\u001b[0mself\u001b[0m\u001b[1;33m.\u001b[0m\u001b[0m_jobs\u001b[0m\u001b[1;33m)\u001b[0m\u001b[1;33m\u001b[0m\u001b[1;33m\u001b[0m\u001b[0m\n\u001b[1;32m--> 777\u001b[1;33m             \u001b[0mjob\u001b[0m \u001b[1;33m=\u001b[0m \u001b[0mself\u001b[0m\u001b[1;33m.\u001b[0m\u001b[0m_backend\u001b[0m\u001b[1;33m.\u001b[0m\u001b[0mapply_async\u001b[0m\u001b[1;33m(\u001b[0m\u001b[0mbatch\u001b[0m\u001b[1;33m,\u001b[0m \u001b[0mcallback\u001b[0m\u001b[1;33m=\u001b[0m\u001b[0mcb\u001b[0m\u001b[1;33m)\u001b[0m\u001b[1;33m\u001b[0m\u001b[1;33m\u001b[0m\u001b[0m\n\u001b[0m\u001b[0;32m    778\u001b[0m             \u001b[1;31m# A job can complete so quickly than its callback is\u001b[0m\u001b[1;33m\u001b[0m\u001b[1;33m\u001b[0m\u001b[1;33m\u001b[0m\u001b[0m\n\u001b[0;32m    779\u001b[0m             \u001b[1;31m# called before we get here, causing self._jobs to\u001b[0m\u001b[1;33m\u001b[0m\u001b[1;33m\u001b[0m\u001b[1;33m\u001b[0m\u001b[0m\n",
      "\u001b[1;32mc:\\users\\gus8c\\appdata\\local\\programs\\python\\python39\\lib\\site-packages\\joblib\\_parallel_backends.py\u001b[0m in \u001b[0;36mapply_async\u001b[1;34m(self, func, callback)\u001b[0m\n\u001b[0;32m    206\u001b[0m     \u001b[1;32mdef\u001b[0m \u001b[0mapply_async\u001b[0m\u001b[1;33m(\u001b[0m\u001b[0mself\u001b[0m\u001b[1;33m,\u001b[0m \u001b[0mfunc\u001b[0m\u001b[1;33m,\u001b[0m \u001b[0mcallback\u001b[0m\u001b[1;33m=\u001b[0m\u001b[1;32mNone\u001b[0m\u001b[1;33m)\u001b[0m\u001b[1;33m:\u001b[0m\u001b[1;33m\u001b[0m\u001b[1;33m\u001b[0m\u001b[0m\n\u001b[0;32m    207\u001b[0m         \u001b[1;34m\"\"\"Schedule a func to be run\"\"\"\u001b[0m\u001b[1;33m\u001b[0m\u001b[1;33m\u001b[0m\u001b[0m\n\u001b[1;32m--> 208\u001b[1;33m         \u001b[0mresult\u001b[0m \u001b[1;33m=\u001b[0m \u001b[0mImmediateResult\u001b[0m\u001b[1;33m(\u001b[0m\u001b[0mfunc\u001b[0m\u001b[1;33m)\u001b[0m\u001b[1;33m\u001b[0m\u001b[1;33m\u001b[0m\u001b[0m\n\u001b[0m\u001b[0;32m    209\u001b[0m         \u001b[1;32mif\u001b[0m \u001b[0mcallback\u001b[0m\u001b[1;33m:\u001b[0m\u001b[1;33m\u001b[0m\u001b[1;33m\u001b[0m\u001b[0m\n\u001b[0;32m    210\u001b[0m             \u001b[0mcallback\u001b[0m\u001b[1;33m(\u001b[0m\u001b[0mresult\u001b[0m\u001b[1;33m)\u001b[0m\u001b[1;33m\u001b[0m\u001b[1;33m\u001b[0m\u001b[0m\n",
      "\u001b[1;32mc:\\users\\gus8c\\appdata\\local\\programs\\python\\python39\\lib\\site-packages\\joblib\\_parallel_backends.py\u001b[0m in \u001b[0;36m__init__\u001b[1;34m(self, batch)\u001b[0m\n\u001b[0;32m    570\u001b[0m         \u001b[1;31m# Don't delay the application, to avoid keeping the input\u001b[0m\u001b[1;33m\u001b[0m\u001b[1;33m\u001b[0m\u001b[1;33m\u001b[0m\u001b[0m\n\u001b[0;32m    571\u001b[0m         \u001b[1;31m# arguments in memory\u001b[0m\u001b[1;33m\u001b[0m\u001b[1;33m\u001b[0m\u001b[1;33m\u001b[0m\u001b[0m\n\u001b[1;32m--> 572\u001b[1;33m         \u001b[0mself\u001b[0m\u001b[1;33m.\u001b[0m\u001b[0mresults\u001b[0m \u001b[1;33m=\u001b[0m \u001b[0mbatch\u001b[0m\u001b[1;33m(\u001b[0m\u001b[1;33m)\u001b[0m\u001b[1;33m\u001b[0m\u001b[1;33m\u001b[0m\u001b[0m\n\u001b[0m\u001b[0;32m    573\u001b[0m \u001b[1;33m\u001b[0m\u001b[0m\n\u001b[0;32m    574\u001b[0m     \u001b[1;32mdef\u001b[0m \u001b[0mget\u001b[0m\u001b[1;33m(\u001b[0m\u001b[0mself\u001b[0m\u001b[1;33m)\u001b[0m\u001b[1;33m:\u001b[0m\u001b[1;33m\u001b[0m\u001b[1;33m\u001b[0m\u001b[0m\n",
      "\u001b[1;32mc:\\users\\gus8c\\appdata\\local\\programs\\python\\python39\\lib\\site-packages\\joblib\\parallel.py\u001b[0m in \u001b[0;36m__call__\u001b[1;34m(self)\u001b[0m\n\u001b[0;32m    260\u001b[0m         \u001b[1;31m# change the default number of processes to -1\u001b[0m\u001b[1;33m\u001b[0m\u001b[1;33m\u001b[0m\u001b[1;33m\u001b[0m\u001b[0m\n\u001b[0;32m    261\u001b[0m         \u001b[1;32mwith\u001b[0m \u001b[0mparallel_backend\u001b[0m\u001b[1;33m(\u001b[0m\u001b[0mself\u001b[0m\u001b[1;33m.\u001b[0m\u001b[0m_backend\u001b[0m\u001b[1;33m,\u001b[0m \u001b[0mn_jobs\u001b[0m\u001b[1;33m=\u001b[0m\u001b[0mself\u001b[0m\u001b[1;33m.\u001b[0m\u001b[0m_n_jobs\u001b[0m\u001b[1;33m)\u001b[0m\u001b[1;33m:\u001b[0m\u001b[1;33m\u001b[0m\u001b[1;33m\u001b[0m\u001b[0m\n\u001b[1;32m--> 262\u001b[1;33m             return [func(*args, **kwargs)\n\u001b[0m\u001b[0;32m    263\u001b[0m                     for func, args, kwargs in self.items]\n\u001b[0;32m    264\u001b[0m \u001b[1;33m\u001b[0m\u001b[0m\n",
      "\u001b[1;32mc:\\users\\gus8c\\appdata\\local\\programs\\python\\python39\\lib\\site-packages\\joblib\\parallel.py\u001b[0m in \u001b[0;36m<listcomp>\u001b[1;34m(.0)\u001b[0m\n\u001b[0;32m    260\u001b[0m         \u001b[1;31m# change the default number of processes to -1\u001b[0m\u001b[1;33m\u001b[0m\u001b[1;33m\u001b[0m\u001b[1;33m\u001b[0m\u001b[0m\n\u001b[0;32m    261\u001b[0m         \u001b[1;32mwith\u001b[0m \u001b[0mparallel_backend\u001b[0m\u001b[1;33m(\u001b[0m\u001b[0mself\u001b[0m\u001b[1;33m.\u001b[0m\u001b[0m_backend\u001b[0m\u001b[1;33m,\u001b[0m \u001b[0mn_jobs\u001b[0m\u001b[1;33m=\u001b[0m\u001b[0mself\u001b[0m\u001b[1;33m.\u001b[0m\u001b[0m_n_jobs\u001b[0m\u001b[1;33m)\u001b[0m\u001b[1;33m:\u001b[0m\u001b[1;33m\u001b[0m\u001b[1;33m\u001b[0m\u001b[0m\n\u001b[1;32m--> 262\u001b[1;33m             return [func(*args, **kwargs)\n\u001b[0m\u001b[0;32m    263\u001b[0m                     for func, args, kwargs in self.items]\n\u001b[0;32m    264\u001b[0m \u001b[1;33m\u001b[0m\u001b[0m\n",
      "\u001b[1;32mc:\\users\\gus8c\\appdata\\local\\programs\\python\\python39\\lib\\site-packages\\sklearn\\utils\\fixes.py\u001b[0m in \u001b[0;36m__call__\u001b[1;34m(self, *args, **kwargs)\u001b[0m\n\u001b[0;32m    220\u001b[0m     \u001b[1;32mdef\u001b[0m \u001b[0m__call__\u001b[0m\u001b[1;33m(\u001b[0m\u001b[0mself\u001b[0m\u001b[1;33m,\u001b[0m \u001b[1;33m*\u001b[0m\u001b[0margs\u001b[0m\u001b[1;33m,\u001b[0m \u001b[1;33m**\u001b[0m\u001b[0mkwargs\u001b[0m\u001b[1;33m)\u001b[0m\u001b[1;33m:\u001b[0m\u001b[1;33m\u001b[0m\u001b[1;33m\u001b[0m\u001b[0m\n\u001b[0;32m    221\u001b[0m         \u001b[1;32mwith\u001b[0m \u001b[0mconfig_context\u001b[0m\u001b[1;33m(\u001b[0m\u001b[1;33m**\u001b[0m\u001b[0mself\u001b[0m\u001b[1;33m.\u001b[0m\u001b[0mconfig\u001b[0m\u001b[1;33m)\u001b[0m\u001b[1;33m:\u001b[0m\u001b[1;33m\u001b[0m\u001b[1;33m\u001b[0m\u001b[0m\n\u001b[1;32m--> 222\u001b[1;33m             \u001b[1;32mreturn\u001b[0m \u001b[0mself\u001b[0m\u001b[1;33m.\u001b[0m\u001b[0mfunction\u001b[0m\u001b[1;33m(\u001b[0m\u001b[1;33m*\u001b[0m\u001b[0margs\u001b[0m\u001b[1;33m,\u001b[0m \u001b[1;33m**\u001b[0m\u001b[0mkwargs\u001b[0m\u001b[1;33m)\u001b[0m\u001b[1;33m\u001b[0m\u001b[1;33m\u001b[0m\u001b[0m\n\u001b[0m",
      "\u001b[1;32mc:\\users\\gus8c\\appdata\\local\\programs\\python\\python39\\lib\\site-packages\\sklearn\\model_selection\\_validation.py\u001b[0m in \u001b[0;36m_fit_and_score\u001b[1;34m(estimator, X, y, scorer, train, test, verbose, parameters, fit_params, return_train_score, return_parameters, return_n_test_samples, return_times, return_estimator, split_progress, candidate_progress, error_score)\u001b[0m\n\u001b[0;32m    591\u001b[0m             \u001b[0mestimator\u001b[0m\u001b[1;33m.\u001b[0m\u001b[0mfit\u001b[0m\u001b[1;33m(\u001b[0m\u001b[0mX_train\u001b[0m\u001b[1;33m,\u001b[0m \u001b[1;33m**\u001b[0m\u001b[0mfit_params\u001b[0m\u001b[1;33m)\u001b[0m\u001b[1;33m\u001b[0m\u001b[1;33m\u001b[0m\u001b[0m\n\u001b[0;32m    592\u001b[0m         \u001b[1;32melse\u001b[0m\u001b[1;33m:\u001b[0m\u001b[1;33m\u001b[0m\u001b[1;33m\u001b[0m\u001b[0m\n\u001b[1;32m--> 593\u001b[1;33m             \u001b[0mestimator\u001b[0m\u001b[1;33m.\u001b[0m\u001b[0mfit\u001b[0m\u001b[1;33m(\u001b[0m\u001b[0mX_train\u001b[0m\u001b[1;33m,\u001b[0m \u001b[0my_train\u001b[0m\u001b[1;33m,\u001b[0m \u001b[1;33m**\u001b[0m\u001b[0mfit_params\u001b[0m\u001b[1;33m)\u001b[0m\u001b[1;33m\u001b[0m\u001b[1;33m\u001b[0m\u001b[0m\n\u001b[0m\u001b[0;32m    594\u001b[0m \u001b[1;33m\u001b[0m\u001b[0m\n\u001b[0;32m    595\u001b[0m     \u001b[1;32mexcept\u001b[0m \u001b[0mException\u001b[0m \u001b[1;32mas\u001b[0m \u001b[0me\u001b[0m\u001b[1;33m:\u001b[0m\u001b[1;33m\u001b[0m\u001b[1;33m\u001b[0m\u001b[0m\n",
      "\u001b[1;32mc:\\users\\gus8c\\appdata\\local\\programs\\python\\python39\\lib\\site-packages\\sklearn\\svm\\_base.py\u001b[0m in \u001b[0;36mfit\u001b[1;34m(self, X, y, sample_weight)\u001b[0m\n\u001b[0;32m    224\u001b[0m \u001b[1;33m\u001b[0m\u001b[0m\n\u001b[0;32m    225\u001b[0m         \u001b[0mseed\u001b[0m \u001b[1;33m=\u001b[0m \u001b[0mrnd\u001b[0m\u001b[1;33m.\u001b[0m\u001b[0mrandint\u001b[0m\u001b[1;33m(\u001b[0m\u001b[0mnp\u001b[0m\u001b[1;33m.\u001b[0m\u001b[0miinfo\u001b[0m\u001b[1;33m(\u001b[0m\u001b[1;34m'i'\u001b[0m\u001b[1;33m)\u001b[0m\u001b[1;33m.\u001b[0m\u001b[0mmax\u001b[0m\u001b[1;33m)\u001b[0m\u001b[1;33m\u001b[0m\u001b[1;33m\u001b[0m\u001b[0m\n\u001b[1;32m--> 226\u001b[1;33m         \u001b[0mfit\u001b[0m\u001b[1;33m(\u001b[0m\u001b[0mX\u001b[0m\u001b[1;33m,\u001b[0m \u001b[0my\u001b[0m\u001b[1;33m,\u001b[0m \u001b[0msample_weight\u001b[0m\u001b[1;33m,\u001b[0m \u001b[0msolver_type\u001b[0m\u001b[1;33m,\u001b[0m \u001b[0mkernel\u001b[0m\u001b[1;33m,\u001b[0m \u001b[0mrandom_seed\u001b[0m\u001b[1;33m=\u001b[0m\u001b[0mseed\u001b[0m\u001b[1;33m)\u001b[0m\u001b[1;33m\u001b[0m\u001b[1;33m\u001b[0m\u001b[0m\n\u001b[0m\u001b[0;32m    227\u001b[0m         \u001b[1;31m# see comment on the other call to np.iinfo in this file\u001b[0m\u001b[1;33m\u001b[0m\u001b[1;33m\u001b[0m\u001b[1;33m\u001b[0m\u001b[0m\n\u001b[0;32m    228\u001b[0m \u001b[1;33m\u001b[0m\u001b[0m\n",
      "\u001b[1;32mc:\\users\\gus8c\\appdata\\local\\programs\\python\\python39\\lib\\site-packages\\sklearn\\svm\\_base.py\u001b[0m in \u001b[0;36m_dense_fit\u001b[1;34m(self, X, y, sample_weight, solver_type, kernel, random_seed)\u001b[0m\n\u001b[0;32m    275\u001b[0m         \u001b[0mself\u001b[0m\u001b[1;33m.\u001b[0m\u001b[0msupport_\u001b[0m\u001b[1;33m,\u001b[0m \u001b[0mself\u001b[0m\u001b[1;33m.\u001b[0m\u001b[0msupport_vectors_\u001b[0m\u001b[1;33m,\u001b[0m \u001b[0mself\u001b[0m\u001b[1;33m.\u001b[0m\u001b[0m_n_support\u001b[0m\u001b[1;33m,\u001b[0m\u001b[0;31m \u001b[0m\u001b[0;31m\\\u001b[0m\u001b[1;33m\u001b[0m\u001b[1;33m\u001b[0m\u001b[0m\n\u001b[0;32m    276\u001b[0m             \u001b[0mself\u001b[0m\u001b[1;33m.\u001b[0m\u001b[0mdual_coef_\u001b[0m\u001b[1;33m,\u001b[0m \u001b[0mself\u001b[0m\u001b[1;33m.\u001b[0m\u001b[0mintercept_\u001b[0m\u001b[1;33m,\u001b[0m \u001b[0mself\u001b[0m\u001b[1;33m.\u001b[0m\u001b[0m_probA\u001b[0m\u001b[1;33m,\u001b[0m\u001b[0;31m \u001b[0m\u001b[0;31m\\\u001b[0m\u001b[1;33m\u001b[0m\u001b[1;33m\u001b[0m\u001b[0m\n\u001b[1;32m--> 277\u001b[1;33m             self._probB, self.fit_status_ = libsvm.fit(\n\u001b[0m\u001b[0;32m    278\u001b[0m                 \u001b[0mX\u001b[0m\u001b[1;33m,\u001b[0m \u001b[0my\u001b[0m\u001b[1;33m,\u001b[0m\u001b[1;33m\u001b[0m\u001b[1;33m\u001b[0m\u001b[0m\n\u001b[0;32m    279\u001b[0m                 \u001b[0msvm_type\u001b[0m\u001b[1;33m=\u001b[0m\u001b[0msolver_type\u001b[0m\u001b[1;33m,\u001b[0m \u001b[0msample_weight\u001b[0m\u001b[1;33m=\u001b[0m\u001b[0msample_weight\u001b[0m\u001b[1;33m,\u001b[0m\u001b[1;33m\u001b[0m\u001b[1;33m\u001b[0m\u001b[0m\n",
      "\u001b[1;31mKeyboardInterrupt\u001b[0m: "
     ]
    }
   ],
   "source": [
    "grid_search.fit(housing_prepared, housing_labels)"
   ]
  },
  {
   "cell_type": "code",
   "execution_count": 6,
   "metadata": {},
   "outputs": [
    {
     "data": {
      "text/plain": [
       "{'C': 1000, 'kernel': 'linear'}"
      ]
     },
     "execution_count": 6,
     "metadata": {},
     "output_type": "execute_result"
    }
   ],
   "source": [
    "grid_search.best_params_"
   ]
  },
  {
   "cell_type": "markdown",
   "metadata": {},
   "source": [
    "# SVM(Support Vector Machine)모델 이용\n",
    "\n",
    "svm의 주요 파라미터인 **커널**, **C**와 **gamma**(커널이 rbf일 경우)를 그리드서치를 통해 튜닝하는 예시"
   ]
  },
  {
   "cell_type": "code",
   "execution_count": 27,
   "metadata": {},
   "outputs": [],
   "source": [
    "from sklearn.model_selection import RandomizedSearchCV\n",
    "from scipy.stats import expon, reciprocal"
   ]
  },
  {
   "cell_type": "code",
   "execution_count": 29,
   "metadata": {},
   "outputs": [],
   "source": [
    "param_distribs = {\n",
    "    \"kernel\": [\"linear\", \"rbf\"],\n",
    "    \"C\": reciprocal(20, 20000),\n",
    "    \"gamma\": expon(scale=1.0)\n",
    "}\n",
    "rnd_search = RandomizedSearchCV(svm_reg, param_distribs,\n",
    "                               n_iter=30, cv=5, scoring=\"neg_mean_squared_error\",\n",
    "                               verbose=2, random_state=42)"
   ]
  },
  {
   "cell_type": "code",
   "execution_count": 30,
   "metadata": {
    "scrolled": true
   },
   "outputs": [
    {
     "name": "stdout",
     "output_type": "stream",
     "text": [
      "Fitting 5 folds for each of 30 candidates, totalling 150 fits\n",
      "[CV] END C=265.8583788632432, gamma=3.010121430917521, kernel=linear; total time=   4.9s\n",
      "[CV] END C=265.8583788632432, gamma=3.010121430917521, kernel=linear; total time=   5.0s\n",
      "[CV] END C=265.8583788632432, gamma=3.010121430917521, kernel=linear; total time=   5.0s\n",
      "[CV] END C=265.8583788632432, gamma=3.010121430917521, kernel=linear; total time=   5.1s\n",
      "[CV] END C=265.8583788632432, gamma=3.010121430917521, kernel=linear; total time=   4.9s\n",
      "[CV] END C=4366.193678104918, gamma=0.9084469696321253, kernel=rbf; total time=   9.3s\n",
      "[CV] END C=4366.193678104918, gamma=0.9084469696321253, kernel=rbf; total time=   9.3s\n",
      "[CV] END C=4366.193678104918, gamma=0.9084469696321253, kernel=rbf; total time=   9.2s\n",
      "[CV] END C=4366.193678104918, gamma=0.9084469696321253, kernel=rbf; total time=   9.3s\n",
      "[CV] END C=4366.193678104918, gamma=0.9084469696321253, kernel=rbf; total time=   9.2s\n",
      "[CV] END C=58.750769152656574, gamma=0.059838768608680676, kernel=rbf; total time=   9.7s\n",
      "[CV] END C=58.750769152656574, gamma=0.059838768608680676, kernel=rbf; total time=   9.7s\n",
      "[CV] END C=58.750769152656574, gamma=0.059838768608680676, kernel=rbf; total time=   9.7s\n",
      "[CV] END C=58.750769152656574, gamma=0.059838768608680676, kernel=rbf; total time=   9.7s\n",
      "[CV] END C=58.750769152656574, gamma=0.059838768608680676, kernel=rbf; total time=   9.7s\n",
      "[CV] END C=200.5191380457913, gamma=0.15416196746656105, kernel=linear; total time=   4.9s\n",
      "[CV] END C=200.5191380457913, gamma=0.15416196746656105, kernel=linear; total time=   4.9s\n",
      "[CV] END C=200.5191380457913, gamma=0.15416196746656105, kernel=linear; total time=   5.0s\n",
      "[CV] END C=200.5191380457913, gamma=0.15416196746656105, kernel=linear; total time=   5.0s\n",
      "[CV] END C=200.5191380457913, gamma=0.15416196746656105, kernel=linear; total time=   4.9s\n",
      "[CV] END C=23.055974256464793, gamma=3.503557475158312, kernel=rbf; total time=   9.2s\n",
      "[CV] END C=23.055974256464793, gamma=3.503557475158312, kernel=rbf; total time=   9.2s\n",
      "[CV] END C=23.055974256464793, gamma=3.503557475158312, kernel=rbf; total time=   9.3s\n",
      "[CV] END C=23.055974256464793, gamma=3.503557475158312, kernel=rbf; total time=   9.2s\n",
      "[CV] END C=23.055974256464793, gamma=3.503557475158312, kernel=rbf; total time=   9.2s\n",
      "[CV] END C=13082.421055385465, gamma=0.0007790692366582295, kernel=rbf; total time=   9.6s\n",
      "[CV] END C=13082.421055385465, gamma=0.0007790692366582295, kernel=rbf; total time=   9.5s\n",
      "[CV] END C=13082.421055385465, gamma=0.0007790692366582295, kernel=rbf; total time=   9.5s\n",
      "[CV] END C=13082.421055385465, gamma=0.0007790692366582295, kernel=rbf; total time=   9.5s\n",
      "[CV] END C=13082.421055385465, gamma=0.0007790692366582295, kernel=rbf; total time=   9.5s\n",
      "[CV] END C=70.99757664393003, gamma=0.3627537294604771, kernel=rbf; total time=   9.4s\n",
      "[CV] END C=70.99757664393003, gamma=0.3627537294604771, kernel=rbf; total time=   9.4s\n",
      "[CV] END C=70.99757664393003, gamma=0.3627537294604771, kernel=rbf; total time=   9.4s\n",
      "[CV] END C=70.99757664393003, gamma=0.3627537294604771, kernel=rbf; total time=   9.4s\n",
      "[CV] END C=70.99757664393003, gamma=0.3627537294604771, kernel=rbf; total time=   9.4s\n",
      "[CV] END C=21.000465008462697, gamma=0.023332523598323388, kernel=linear; total time=   4.9s\n",
      "[CV] END C=21.000465008462697, gamma=0.023332523598323388, kernel=linear; total time=   5.0s\n",
      "[CV] END C=21.000465008462697, gamma=0.023332523598323388, kernel=linear; total time=   5.0s\n",
      "[CV] END C=21.000465008462697, gamma=0.023332523598323388, kernel=linear; total time=   4.9s\n",
      "[CV] END C=21.000465008462697, gamma=0.023332523598323388, kernel=linear; total time=   5.1s\n",
      "[CV] END C=1369.584019114956, gamma=0.15023452872733867, kernel=rbf; total time=   9.3s\n",
      "[CV] END C=1369.584019114956, gamma=0.15023452872733867, kernel=rbf; total time=   9.3s\n",
      "[CV] END C=1369.584019114956, gamma=0.15023452872733867, kernel=rbf; total time=   9.3s\n",
      "[CV] END C=1369.584019114956, gamma=0.15023452872733867, kernel=rbf; total time=   9.3s\n",
      "[CV] END C=1369.584019114956, gamma=0.15023452872733867, kernel=rbf; total time=   9.3s\n",
      "[CV] END C=16683.860588281546, gamma=0.26497040005002437, kernel=rbf; total time=   9.5s\n",
      "[CV] END C=16683.860588281546, gamma=0.26497040005002437, kernel=rbf; total time=   9.5s\n",
      "[CV] END C=16683.860588281546, gamma=0.26497040005002437, kernel=rbf; total time=   9.5s\n",
      "[CV] END C=16683.860588281546, gamma=0.26497040005002437, kernel=rbf; total time=   9.5s\n",
      "[CV] END C=16683.860588281546, gamma=0.26497040005002437, kernel=rbf; total time=   9.5s\n",
      "[CV] END C=4534.797304756079, gamma=0.2227358621286903, kernel=linear; total time=   5.7s\n",
      "[CV] END C=4534.797304756079, gamma=0.2227358621286903, kernel=linear; total time=   6.0s\n",
      "[CV] END C=4534.797304756079, gamma=0.2227358621286903, kernel=linear; total time=   6.1s\n",
      "[CV] END C=4534.797304756079, gamma=0.2227358621286903, kernel=linear; total time=   5.8s\n",
      "[CV] END C=4534.797304756079, gamma=0.2227358621286903, kernel=linear; total time=   5.7s\n",
      "[CV] END C=17812.40877232336, gamma=0.628789100540856, kernel=linear; total time=   8.9s\n",
      "[CV] END C=17812.40877232336, gamma=0.628789100540856, kernel=linear; total time=   8.1s\n",
      "[CV] END C=17812.40877232336, gamma=0.628789100540856, kernel=linear; total time=   8.4s\n",
      "[CV] END C=17812.40877232336, gamma=0.628789100540856, kernel=linear; total time=   7.9s\n",
      "[CV] END C=17812.40877232336, gamma=0.628789100540856, kernel=linear; total time=   7.6s\n",
      "[CV] END C=1329.4271730636049, gamma=0.18696125197741642, kernel=linear; total time=   5.3s\n",
      "[CV] END C=1329.4271730636049, gamma=0.18696125197741642, kernel=linear; total time=   5.2s\n",
      "[CV] END C=1329.4271730636049, gamma=0.18696125197741642, kernel=linear; total time=   5.2s\n",
      "[CV] END C=1329.4271730636049, gamma=0.18696125197741642, kernel=linear; total time=   5.2s\n",
      "[CV] END C=1329.4271730636049, gamma=0.18696125197741642, kernel=linear; total time=   5.2s\n",
      "[CV] END C=21.91920907385168, gamma=2.850796878935603, kernel=rbf; total time=   9.2s\n",
      "[CV] END C=21.91920907385168, gamma=2.850796878935603, kernel=rbf; total time=   9.2s\n",
      "[CV] END C=21.91920907385168, gamma=2.850796878935603, kernel=rbf; total time=   9.2s\n",
      "[CV] END C=21.91920907385168, gamma=2.850796878935603, kernel=rbf; total time=   9.2s\n",
      "[CV] END C=21.91920907385168, gamma=2.850796878935603, kernel=rbf; total time=   9.2s\n",
      "[CV] END C=5323.80377697811, gamma=0.3632878599687583, kernel=linear; total time=   5.8s\n",
      "[CV] END C=5323.80377697811, gamma=0.3632878599687583, kernel=linear; total time=   5.9s\n",
      "[CV] END C=5323.80377697811, gamma=0.3632878599687583, kernel=linear; total time=   5.7s\n",
      "[CV] END C=5323.80377697811, gamma=0.3632878599687583, kernel=linear; total time=   5.9s\n",
      "[CV] END C=5323.80377697811, gamma=0.3632878599687583, kernel=linear; total time=   5.6s\n",
      "[CV] END C=98.56244595391004, gamma=0.2757870542258224, kernel=rbf; total time=   9.5s\n",
      "[CV] END C=98.56244595391004, gamma=0.2757870542258224, kernel=rbf; total time=   9.4s\n",
      "[CV] END C=98.56244595391004, gamma=0.2757870542258224, kernel=rbf; total time=   9.5s\n",
      "[CV] END C=98.56244595391004, gamma=0.2757870542258224, kernel=rbf; total time=   9.4s\n",
      "[CV] END C=98.56244595391004, gamma=0.2757870542258224, kernel=rbf; total time=   9.5s\n",
      "[CV] END C=46.467007030780216, gamma=0.6835472281341501, kernel=linear; total time=   4.9s\n",
      "[CV] END C=46.467007030780216, gamma=0.6835472281341501, kernel=linear; total time=   5.0s\n",
      "[CV] END C=46.467007030780216, gamma=0.6835472281341501, kernel=linear; total time=   4.9s\n",
      "[CV] END C=46.467007030780216, gamma=0.6835472281341501, kernel=linear; total time=   4.9s\n",
      "[CV] END C=46.467007030780216, gamma=0.6835472281341501, kernel=linear; total time=   4.9s\n",
      "[CV] END C=66.24055402931889, gamma=0.4960365360493639, kernel=rbf; total time=   9.4s\n",
      "[CV] END C=66.24055402931889, gamma=0.4960365360493639, kernel=rbf; total time=   9.4s\n",
      "[CV] END C=66.24055402931889, gamma=0.4960365360493639, kernel=rbf; total time=   9.4s\n",
      "[CV] END C=66.24055402931889, gamma=0.4960365360493639, kernel=rbf; total time=   9.4s\n",
      "[CV] END C=66.24055402931889, gamma=0.4960365360493639, kernel=rbf; total time=   9.4s\n",
      "[CV] END C=1943.5550610119265, gamma=0.37354658165762367, kernel=rbf; total time=   9.2s\n",
      "[CV] END C=1943.5550610119265, gamma=0.37354658165762367, kernel=rbf; total time=   9.2s\n"
     ]
    },
    {
     "name": "stdout",
     "output_type": "stream",
     "text": [
      "[CV] END C=1943.5550610119265, gamma=0.37354658165762367, kernel=rbf; total time=   9.3s\n",
      "[CV] END C=1943.5550610119265, gamma=0.37354658165762367, kernel=rbf; total time=   9.2s\n",
      "[CV] END C=1943.5550610119265, gamma=0.37354658165762367, kernel=rbf; total time=   9.2s\n",
      "[CV] END C=84.11142374014415, gamma=0.838636245624803, kernel=linear; total time=   4.8s\n",
      "[CV] END C=84.11142374014415, gamma=0.838636245624803, kernel=linear; total time=   5.0s\n",
      "[CV] END C=84.11142374014415, gamma=0.838636245624803, kernel=linear; total time=   5.0s\n",
      "[CV] END C=84.11142374014415, gamma=0.838636245624803, kernel=linear; total time=   5.0s\n",
      "[CV] END C=84.11142374014415, gamma=0.838636245624803, kernel=linear; total time=   4.9s\n",
      "[CV] END C=16210.032252823165, gamma=1.4922453771381408, kernel=rbf; total time=  10.1s\n",
      "[CV] END C=16210.032252823165, gamma=1.4922453771381408, kernel=rbf; total time=  10.0s\n",
      "[CV] END C=16210.032252823165, gamma=1.4922453771381408, kernel=rbf; total time=  10.0s\n",
      "[CV] END C=16210.032252823165, gamma=1.4922453771381408, kernel=rbf; total time=   9.9s\n",
      "[CV] END C=16210.032252823165, gamma=1.4922453771381408, kernel=rbf; total time=  10.0s\n",
      "[CV] END C=306.53544782768205, gamma=2.6126336514161914, kernel=linear; total time=   4.9s\n",
      "[CV] END C=306.53544782768205, gamma=2.6126336514161914, kernel=linear; total time=   4.9s\n",
      "[CV] END C=306.53544782768205, gamma=2.6126336514161914, kernel=linear; total time=   4.9s\n",
      "[CV] END C=306.53544782768205, gamma=2.6126336514161914, kernel=linear; total time=   5.0s\n",
      "[CV] END C=306.53544782768205, gamma=2.6126336514161914, kernel=linear; total time=   4.9s\n",
      "[CV] END C=11658.769085989476, gamma=0.09265545895311562, kernel=linear; total time=   7.0s\n",
      "[CV] END C=11658.769085989476, gamma=0.09265545895311562, kernel=linear; total time=   7.0s\n",
      "[CV] END C=11658.769085989476, gamma=0.09265545895311562, kernel=linear; total time=   7.3s\n",
      "[CV] END C=11658.769085989476, gamma=0.09265545895311562, kernel=linear; total time=   7.2s\n",
      "[CV] END C=11658.769085989476, gamma=0.09265545895311562, kernel=linear; total time=   6.7s\n",
      "[CV] END C=730.3529297503513, gamma=3.248614270240346, kernel=linear; total time=   5.0s\n",
      "[CV] END C=730.3529297503513, gamma=3.248614270240346, kernel=linear; total time=   5.0s\n",
      "[CV] END C=730.3529297503513, gamma=3.248614270240346, kernel=linear; total time=   5.0s\n",
      "[CV] END C=730.3529297503513, gamma=3.248614270240346, kernel=linear; total time=   5.0s\n",
      "[CV] END C=730.3529297503513, gamma=3.248614270240346, kernel=linear; total time=   5.1s\n",
      "[CV] END C=293.13107772450667, gamma=0.3165604432088257, kernel=linear; total time=   4.8s\n",
      "[CV] END C=293.13107772450667, gamma=0.3165604432088257, kernel=linear; total time=   5.0s\n",
      "[CV] END C=293.13107772450667, gamma=0.3165604432088257, kernel=linear; total time=   5.0s\n",
      "[CV] END C=293.13107772450667, gamma=0.3165604432088257, kernel=linear; total time=   5.0s\n",
      "[CV] END C=293.13107772450667, gamma=0.3165604432088257, kernel=linear; total time=   4.8s\n",
      "[CV] END C=1151.551837501408, gamma=3.3597284456608496, kernel=rbf; total time=   9.3s\n",
      "[CV] END C=1151.551837501408, gamma=3.3597284456608496, kernel=rbf; total time=   9.2s\n",
      "[CV] END C=1151.551837501408, gamma=3.3597284456608496, kernel=rbf; total time=   9.2s\n",
      "[CV] END C=1151.551837501408, gamma=3.3597284456608496, kernel=rbf; total time=   9.2s\n",
      "[CV] END C=1151.551837501408, gamma=3.3597284456608496, kernel=rbf; total time=   9.2s\n",
      "[CV] END C=849.4117124523736, gamma=0.15189814782062885, kernel=linear; total time=   5.0s\n",
      "[CV] END C=849.4117124523736, gamma=0.15189814782062885, kernel=linear; total time=   5.0s\n",
      "[CV] END C=849.4117124523736, gamma=0.15189814782062885, kernel=linear; total time=   5.1s\n",
      "[CV] END C=849.4117124523736, gamma=0.15189814782062885, kernel=linear; total time=   5.1s\n",
      "[CV] END C=849.4117124523736, gamma=0.15189814782062885, kernel=linear; total time=   5.0s\n",
      "[CV] END C=62.636980362822364, gamma=0.01575994483585621, kernel=linear; total time=   4.9s\n",
      "[CV] END C=62.636980362822364, gamma=0.01575994483585621, kernel=linear; total time=   4.9s\n",
      "[CV] END C=62.636980362822364, gamma=0.01575994483585621, kernel=linear; total time=   4.9s\n",
      "[CV] END C=62.636980362822364, gamma=0.01575994483585621, kernel=linear; total time=   5.0s\n",
      "[CV] END C=62.636980362822364, gamma=0.01575994483585621, kernel=linear; total time=   4.8s\n",
      "[CV] END C=4147.289035581005, gamma=0.22153944050588595, kernel=rbf; total time=   9.2s\n",
      "[CV] END C=4147.289035581005, gamma=0.22153944050588595, kernel=rbf; total time=   9.2s\n",
      "[CV] END C=4147.289035581005, gamma=0.22153944050588595, kernel=rbf; total time=   9.3s\n",
      "[CV] END C=4147.289035581005, gamma=0.22153944050588595, kernel=rbf; total time=   9.3s\n",
      "[CV] END C=4147.289035581005, gamma=0.22153944050588595, kernel=rbf; total time=   9.2s\n",
      "[CV] END C=22.04293722310332, gamma=0.22169760231351215, kernel=rbf; total time=   9.6s\n",
      "[CV] END C=22.04293722310332, gamma=0.22169760231351215, kernel=rbf; total time=   9.5s\n",
      "[CV] END C=22.04293722310332, gamma=0.22169760231351215, kernel=rbf; total time=   9.6s\n",
      "[CV] END C=22.04293722310332, gamma=0.22169760231351215, kernel=rbf; total time=   9.6s\n",
      "[CV] END C=22.04293722310332, gamma=0.22169760231351215, kernel=rbf; total time=   9.6s\n"
     ]
    },
    {
     "data": {
      "text/plain": [
       "RandomizedSearchCV(cv=5, estimator=SVR(), n_iter=30,\n",
       "                   param_distributions={'C': <scipy.stats._distn_infrastructure.rv_frozen object at 0x000001D24AC00730>,\n",
       "                                        'gamma': <scipy.stats._distn_infrastructure.rv_frozen object at 0x000001D24AC090D0>,\n",
       "                                        'kernel': ['linear', 'rbf']},\n",
       "                   random_state=42, scoring='neg_mean_squared_error',\n",
       "                   verbose=2)"
      ]
     },
     "execution_count": 30,
     "metadata": {},
     "output_type": "execute_result"
    }
   ],
   "source": [
    "rnd_search.fit(housing_prepared, housing_labels)"
   ]
  },
  {
   "cell_type": "markdown",
   "metadata": {},
   "source": [
    "## RandomizedSearchCV\n",
    "\n",
    "최적의 파라미터를 찾는데 **그리드서치**말고 **랜덤서치**도 이용할 수 있음  \n",
    "파라미터의 모든 값을 대입해보는 것이 아니라 확륜분포에 따라 **샘플링**한 값을 대입함  \n",
    "몇 번 샘플링할지는 **n_iter**로 결정, 성능과 소요시간의 트레이드오프임  \n",
    "  \n",
    "각 파라미터의 확률분포를 구하기 위해 scipy의 **expon, reciprocal** 클래스를 사용했는데 솔직히 잘 모르겠음...  "
   ]
  },
  {
   "cell_type": "code",
   "execution_count": 13,
   "metadata": {},
   "outputs": [
    {
     "data": {
      "text/plain": [
       "58974.16907380664"
      ]
     },
     "execution_count": 13,
     "metadata": {},
     "output_type": "execute_result"
    }
   ],
   "source": [
    "import numpy as np\n",
    "negative_mse = rnd_search.best_score_\n",
    "rmse = np.sqrt(-negative_mse)\n",
    "rmse"
   ]
  },
  {
   "cell_type": "markdown",
   "metadata": {},
   "source": [
    "이전에 구했던 랜덤포레스트의 성능과 비슷해짐"
   ]
  },
  {
   "cell_type": "code",
   "execution_count": 15,
   "metadata": {},
   "outputs": [
    {
     "data": {
      "text/plain": [
       "{'C': 16683.860588281546, 'gamma': 0.26497040005002437, 'kernel': 'rbf'}"
      ]
     },
     "execution_count": 15,
     "metadata": {},
     "output_type": "execute_result"
    }
   ],
   "source": [
    "rnd_search.best_params_"
   ]
  },
  {
   "cell_type": "code",
   "execution_count": 36,
   "metadata": {},
   "outputs": [
    {
     "data": {
      "image/png": "[encoded data removed]",
      "text/plain": [
       "<Figure size 1080x432 with 4 Axes>"
      ]
     },
     "metadata": {
      "needs_background": "light"
     },
     "output_type": "display_data"
    }
   ],
   "source": [
    "import matplotlib.pyplot as plt\n",
    "\n",
    "expon_distrib = expon(scale=1.0)\n",
    "samples = expon_distrib.rvs(10000, random_state=42)\n",
    "\n",
    "plt.figure(figsize=(15, 6))\n",
    "plt.subplot(221)\n",
    "plt.title(\"Exponential value (scale=1.0)\")\n",
    "plt.plot(samples)\n",
    "\n",
    "plt.subplot(222)\n",
    "plt.title(\"Exponential distribution (scale=1.0)\")\n",
    "plt.hist(samples, bins=50)\n",
    "\n",
    "plt.subplot(223)\n",
    "plt.title(\"Log value (scale=1.0)\")\n",
    "plt.plot(np.log(samples))\n",
    "\n",
    "plt.subplot(224)\n",
    "plt.title(\"Log distribution (scale=1.0)\")\n",
    "plt.hist(np.log(samples), bins=50)\n",
    "\n",
    "\n",
    "plt.show()"
   ]
  },
  {
   "cell_type": "markdown",
   "metadata": {},
   "source": [
    "파라미터 값으로 샘플링에 사용할 분포가 대략 우측과 같음  \n",
    "즉 **원하는 스케일이 정확히 무엇인지 모르나 어느정도는 알고있을 때** 사용하면 좋다고 함  \n",
    "로그분포를 보면 거의 정규분포를 따르는 것으로 보이는데 이것은  \n",
    "> 원래 숫자의 분포가 평균에 대해 대칭적으로 퍼져있는 것이 아니라  \n",
    "> 평균쯤에서 급격히 상승한다는 뜻?"
   ]
  },
  {
   "cell_type": "code",
   "execution_count": 39,
   "metadata": {},
   "outputs": [
    {
     "data": {
      "image/png": "[encoded data removed]",
      "text/plain": [
       "<Figure size 1080x432 with 4 Axes>"
      ]
     },
     "metadata": {
      "needs_background": "light"
     },
     "output_type": "display_data"
    }
   ],
   "source": [
    "reciprocal_distrib = reciprocal(20, 200000)\n",
    "samples = reciprocal_distrib.rvs(10000, random_state=42)\n",
    "\n",
    "plt.figure(figsize=(15, 6))\n",
    "plt.subplot(221)\n",
    "plt.title(\"Reciprocal value (scale=1.0)\")\n",
    "plt.plot(samples)\n",
    "\n",
    "plt.subplot(222)\n",
    "plt.title(\"Reciprocal distribution (scale=1.0)\")\n",
    "plt.hist(samples, bins=50)\n",
    "\n",
    "plt.subplot(223)\n",
    "plt.title(\"Log value (scale=1.0)\")\n",
    "plt.plot(np.log(samples))\n",
    "\n",
    "plt.subplot(224)\n",
    "plt.title(\"Log distribution (scale=1.0)\")\n",
    "plt.hist(np.log(samples), bins=50)\n",
    "\n",
    "\n",
    "plt.show()"
   ]
  },
  {
   "cell_type": "markdown",
   "metadata": {},
   "source": [
    "사용할 하이퍼파라미터의 **스케일에 전혀 감을 잡을 수 없을 때** 사용함  \n",
    "우측 그래프의 분포를 보면 주어진 범위안에서 모든 값이 균등한 확률로 샘플링됨  \n",
    "이 경우는 로그분포가 균등분포와 같은데 이것은  \n",
    "> 분포도의 최소, 최대값이 있을 때,  \n",
    "> 거의 최솟값만 뽑히는 분포라는 뜻?  \n",
    "**대체 왜 쓴다는거지?**"
   ]
  },
  {
   "cell_type": "code",
   "execution_count": 2,
   "metadata": {},
   "outputs": [],
   "source": [
    "from sklearn.base import BaseEstimator, TransformerMixin\n",
    "\n",
    "def indices_of_top_k(arr, k):\n",
    "    return np.sort(np.argpartition(np.array(arr), -k)[-k: ])\n",
    "\n",
    "class TopFeatureSelector(BaseEstimator, TransformerMixin):\n",
    "    def __init__(self, feature_importances, k):\n",
    "        self.feature_importances = feature_importances\n",
    "        self.k = k\n",
    "    def fit(self, X, y=None):\n",
    "        self.feature_indices = indices_of_top_k(self.feature_importances, self.k)\n",
    "        return self\n",
    "    def transform(self, X):\n",
    "        return X[:, self.feature_indices]"
   ]
  },
  {
   "cell_type": "markdown",
   "metadata": {},
   "source": [
    "## 가장 중요한 특성을 선택하는 변환기\n",
    "**np.partition**은 주로 np.partition(np.array(), k-th)로 사용됨  \n",
    "예를 들어  \n",
    "> np.partition('', 2)는 리스트의 순서 상관없이 작은 숫자 2개를 뽑아 왼쪽으로 놓겠다  \n",
    "> np.partition('', -2)는 리스트의 순서 상관없이 큰 숫자 2개를 뽑아 오른쪽으로 놓겠다\n",
    "  \n",
    "**np.argpartion**은 그냥 partition과 기능은 같고 출력만 index로 하는 것"
   ]
  },
  {
   "cell_type": "code",
   "execution_count": 9,
   "metadata": {},
   "outputs": [
    {
     "name": "stdout",
     "output_type": "stream",
     "text": [
      "[ 1 10 11 13 14]\n",
      "[0.06470154 0.09054841 0.08676356 0.05760251 0.0316784  0.01574351\n",
      " 0.02613785 0.07362148 0.00804777 0.04867502 0.09664422 0.10198648\n",
      " 0.07766551 0.0960579  0.08919894 0.0349269 ]\n"
     ]
    }
   ],
   "source": [
    "import numpy as np\n",
    "\n",
    "randoms = np.random.rand(housing_prepared.shape[1])\n",
    "probs = randoms / np.sum(randoms)\n",
    "feature_importances = probs\n",
    "\n",
    "k=5\n",
    "top_k_feature_indices = indices_of_top_k(feature_importances, k)\n",
    "print(top_k_feature_indices)\n",
    "print(probs)"
   ]
  },
  {
   "cell_type": "markdown",
   "metadata": {},
   "source": [
    "각 특성에 대한 중요도는 어떻게든 구했다고 가정  \n",
    "  \n",
    ">랜덤포레스트의 경우 **TopFeatureSelector**의 fit()메서드로 직접 구할 수도 있음  \n",
    ">그리드서치나 랜덤서치로 구할 수도 있음"
   ]
  },
  {
   "cell_type": "code",
   "execution_count": 10,
   "metadata": {},
   "outputs": [
    {
     "name": "stdout",
     "output_type": "stream",
     "text": [
      "['latitude' 'bedrooms_per_room' '<1H OCEAN' 'ISLAND' 'NEAR BAY']\n"
     ]
    }
   ],
   "source": [
    "from _06_model_tuning import attribs\n",
    "\n",
    "top_k_feature = np.array(attribs)[top_k_feature_indices]\n",
    "print(top_k_feature)"
   ]
  },
  {
   "cell_type": "code",
   "execution_count": 12,
   "metadata": {},
   "outputs": [],
   "source": [
    "from sklearn.pipeline import Pipeline\n",
    "\n",
    "preparation_and_feature_selection_pipeline = Pipeline([\n",
    "    (\"preparation\", full_pipeline),\n",
    "    (\"feature_selection\", TopFeatureSelector(feature_importances, k))\n",
    "])"
   ]
  },
  {
   "cell_type": "markdown",
   "metadata": {},
   "source": [
    "## 특성 선택 변환기를 추가한 파이프라인"
   ]
  },
  {
   "cell_type": "code",
   "execution_count": 15,
   "metadata": {},
   "outputs": [],
   "source": [
    "from _04_preprocessing import housing\n",
    "\n",
    "housing_prepared_top_k_features = preparation_and_feature_selection_pipeline.fit_transform(housing)"
   ]
  },
  {
   "cell_type": "code",
   "execution_count": 16,
   "metadata": {},
   "outputs": [
    {
     "data": {
      "text/plain": [
       "array([[ 0.77194962,  0.15531753,  1.        ,  0.        ,  0.        ],\n",
       "       [ 0.6596948 , -0.83628902,  1.        ,  0.        ,  0.        ],\n",
       "       [-1.34218285,  0.4222004 ,  0.        ,  0.        ,  0.        ]])"
      ]
     },
     "execution_count": 16,
     "metadata": {},
     "output_type": "execute_result"
    }
   ],
   "source": [
    "housing_prepared_top_k_features[: 3]"
   ]
  },
  {
   "cell_type": "code",
   "execution_count": 17,
   "metadata": {},
   "outputs": [
    {
     "data": {
      "text/plain": [
       "array([[ 0.77194962,  0.15531753,  1.        ,  0.        ,  0.        ],\n",
       "       [ 0.6596948 , -0.83628902,  1.        ,  0.        ,  0.        ],\n",
       "       [-1.34218285,  0.4222004 ,  0.        ,  0.        ,  0.        ]])"
      ]
     },
     "execution_count": 17,
     "metadata": {},
     "output_type": "execute_result"
    }
   ],
   "source": [
    "housing_prepared[0:3, top_k_feature_indices]"
   ]
  },
  {
   "cell_type": "markdown",
   "metadata": {},
   "source": [
    "새로 제작한 파이프라인을 통해 데이터를 변환 후 확인"
   ]
  },
  {
   "cell_type": "code",
   "execution_count": 31,
   "metadata": {},
   "outputs": [],
   "source": [
    "prepared_select_and_predict_pipeline = Pipeline([\n",
    "    (\"preparation\", full_pipeline),\n",
    "    (\"feature_selection\", TopFeatureSelector(feature_importances, k)),\n",
    "    (\"svm_reg\", svm.SVR(**rnd_search.best_params_))\n",
    "])"
   ]
  },
  {
   "cell_type": "markdown",
   "metadata": {},
   "source": [
    "# 전처리, 특성선택, 예측 모델을 전부 합친 파이프라인\n",
    "svm.SVR()에서 '** '로 인수를 받는 부분이 있는데 저것은 임의의 **키워드인자를 받는 방법**임\n",
    "\n",
    "딕셔너리 형태로 여러 개의 {\"키값\": \"값\"} 쌍을 입력으로 주는 것임  \n",
    "> 특정 키워드에 특정 값을 임의로 담고싶을 때 사용  \n",
    "> - 위 예시에서는 best_params_에서 나온 **kernel= ~, C= ~** 가 들어감\n",
    "\n"
   ]
  },
  {
   "cell_type": "code",
   "execution_count": 33,
   "metadata": {},
   "outputs": [
    {
     "data": {
      "text/plain": [
       "Pipeline(steps=[('preparation',\n",
       "                 ColumnTransformer(transformers=[('tf_num',\n",
       "                                                  Pipeline(steps=[('imputer',\n",
       "                                                                   SimpleImputer(strategy='median')),\n",
       "                                                                  ('attribs_adder',\n",
       "                                                                   CombinedAttribsAdder()),\n",
       "                                                                  ('std_scaler',\n",
       "                                                                   StandardScaler())]),\n",
       "                                                  ['longitude', 'latitude',\n",
       "                                                   'housing_median_age',\n",
       "                                                   'total_rooms',\n",
       "                                                   'total_bedrooms',\n",
       "                                                   'population', 'households',\n",
       "                                                   'median_income']),\n",
       "                                                 ('tf_cat', OneHotEncoder(),\n",
       "                                                  ['ocean_proximity'])])),\n",
       "                ('feature_selection',\n",
       "                 TopFeatureSelector(feature_importances=array([0.06470154, 0.09054841, 0.08676356, 0.05760251, 0.0316784 ,\n",
       "       0.01574351, 0.02613785, 0.07362148, 0.00804777, 0.04867502,\n",
       "       0.09664422, 0.10198648, 0.07766551, 0.0960579 , 0.08919894,\n",
       "       0.0349269 ]),\n",
       "                                    k=5)),\n",
       "                ('svm_reg',\n",
       "                 SVR(C=16683.860588281546, gamma=0.26497040005002437))])"
      ]
     },
     "execution_count": 33,
     "metadata": {},
     "output_type": "execute_result"
    }
   ],
   "source": [
    "prepared_select_and_predict_pipeline.fit(housing, housing_labels)"
   ]
  },
  {
   "cell_type": "markdown",
   "metadata": {},
   "source": [
    "전처리 단계도 포함되어 있으므로 이전에 전처리한 housing_prepared가 아닌 **housing**자체가 들어감"
   ]
  },
  {
   "cell_type": "code",
   "execution_count": 34,
   "metadata": {},
   "outputs": [
    {
     "name": "stdout",
     "output_type": "stream",
     "text": [
      "[200271.64805155 313056.36357154 137328.48458829  76233.6854457 ]\n",
      "17606    286600.0\n",
      "18632    340600.0\n",
      "14650    196900.0\n",
      "3230      46300.0\n",
      "Name: median_house_value, dtype: float64\n"
     ]
    }
   ],
   "source": [
    "some_data = housing.iloc[: 4]\n",
    "some_labels = housing_labels[: 4]\n",
    "\n",
    "some_predictions = prepared_select_and_predict_pipeline.predict(some_data)\n",
    "print(some_predictions)\n",
    "print(some_labels)"
   ]
  },
  {
   "cell_type": "markdown",
   "metadata": {},
   "source": [
    "전체 파이프라인이 잘 동작한다  \n",
    "물론 성능은 많이 구리다"
   ]
  },
  {
   "cell_type": "code",
   "execution_count": 43,
   "metadata": {},
   "outputs": [],
   "source": [
    "param_grid = [{\n",
    "    \"preparation__tf_num__imputer__strategy\": [\"mean\", \"median\", \"most_frequent\"],\n",
    "    \"feature_selection__k\": list(range(1, len(feature_importances)+1))\n",
    "}]\n",
    "\n",
    "grid_search_prep = GridSearchCV(prepared_select_and_predict_pipeline, param_grid, cv=5,\n",
    "                               scoring=\"neg_mean_squared_error\", verbose=2)"
   ]
  },
  {
   "cell_type": "code",
   "execution_count": 44,
   "metadata": {
    "scrolled": true
   },
   "outputs": [
    {
     "name": "stdout",
     "output_type": "stream",
     "text": [
      "Fitting 5 folds for each of 48 candidates, totalling 240 fits\n",
      "[CV] END feature_selection__k=1, preparation__tf_num__imputer__strategy=mean; total time=   8.7s\n",
      "[CV] END feature_selection__k=1, preparation__tf_num__imputer__strategy=mean; total time=   8.7s\n",
      "[CV] END feature_selection__k=1, preparation__tf_num__imputer__strategy=mean; total time=   8.7s\n",
      "[CV] END feature_selection__k=1, preparation__tf_num__imputer__strategy=mean; total time=   8.7s\n",
      "[CV] END feature_selection__k=1, preparation__tf_num__imputer__strategy=mean; total time=   8.7s\n",
      "[CV] END feature_selection__k=1, preparation__tf_num__imputer__strategy=median; total time=   8.8s\n",
      "[CV] END feature_selection__k=1, preparation__tf_num__imputer__strategy=median; total time=   8.7s\n",
      "[CV] END feature_selection__k=1, preparation__tf_num__imputer__strategy=median; total time=   8.8s\n",
      "[CV] END feature_selection__k=1, preparation__tf_num__imputer__strategy=median; total time=   8.8s\n",
      "[CV] END feature_selection__k=1, preparation__tf_num__imputer__strategy=median; total time=   8.8s\n",
      "[CV] END feature_selection__k=1, preparation__tf_num__imputer__strategy=most_frequent; total time=   8.7s\n",
      "[CV] END feature_selection__k=1, preparation__tf_num__imputer__strategy=most_frequent; total time=   8.8s\n",
      "[CV] END feature_selection__k=1, preparation__tf_num__imputer__strategy=most_frequent; total time=   8.7s\n",
      "[CV] END feature_selection__k=1, preparation__tf_num__imputer__strategy=most_frequent; total time=   8.8s\n",
      "[CV] END feature_selection__k=1, preparation__tf_num__imputer__strategy=most_frequent; total time=   8.7s\n",
      "[CV] END feature_selection__k=2, preparation__tf_num__imputer__strategy=mean; total time=   8.6s\n",
      "[CV] END feature_selection__k=2, preparation__tf_num__imputer__strategy=mean; total time=   8.6s\n",
      "[CV] END feature_selection__k=2, preparation__tf_num__imputer__strategy=mean; total time=   8.5s\n",
      "[CV] END feature_selection__k=2, preparation__tf_num__imputer__strategy=mean; total time=   8.5s\n",
      "[CV] END feature_selection__k=2, preparation__tf_num__imputer__strategy=mean; total time=   8.5s\n",
      "[CV] END feature_selection__k=2, preparation__tf_num__imputer__strategy=median; total time=   8.6s\n",
      "[CV] END feature_selection__k=2, preparation__tf_num__imputer__strategy=median; total time=   8.6s\n",
      "[CV] END feature_selection__k=2, preparation__tf_num__imputer__strategy=median; total time=   8.5s\n",
      "[CV] END feature_selection__k=2, preparation__tf_num__imputer__strategy=median; total time=   8.5s\n",
      "[CV] END feature_selection__k=2, preparation__tf_num__imputer__strategy=median; total time=   8.6s\n",
      "[CV] END feature_selection__k=2, preparation__tf_num__imputer__strategy=most_frequent; total time=   8.6s\n",
      "[CV] END feature_selection__k=2, preparation__tf_num__imputer__strategy=most_frequent; total time=   8.6s\n",
      "[CV] END feature_selection__k=2, preparation__tf_num__imputer__strategy=most_frequent; total time=   8.6s\n",
      "[CV] END feature_selection__k=2, preparation__tf_num__imputer__strategy=most_frequent; total time=   8.6s\n",
      "[CV] END feature_selection__k=2, preparation__tf_num__imputer__strategy=most_frequent; total time=   8.6s\n",
      "[CV] END feature_selection__k=3, preparation__tf_num__imputer__strategy=mean; total time=   8.7s\n",
      "[CV] END feature_selection__k=3, preparation__tf_num__imputer__strategy=mean; total time=   8.6s\n",
      "[CV] END feature_selection__k=3, preparation__tf_num__imputer__strategy=mean; total time=   8.7s\n",
      "[CV] END feature_selection__k=3, preparation__tf_num__imputer__strategy=mean; total time=   8.7s\n",
      "[CV] END feature_selection__k=3, preparation__tf_num__imputer__strategy=mean; total time=   8.6s\n",
      "[CV] END feature_selection__k=3, preparation__tf_num__imputer__strategy=median; total time=   8.6s\n",
      "[CV] END feature_selection__k=3, preparation__tf_num__imputer__strategy=median; total time=   8.6s\n",
      "[CV] END feature_selection__k=3, preparation__tf_num__imputer__strategy=median; total time=   8.7s\n",
      "[CV] END feature_selection__k=3, preparation__tf_num__imputer__strategy=median; total time=   8.7s\n",
      "[CV] END feature_selection__k=3, preparation__tf_num__imputer__strategy=median; total time=   8.8s\n",
      "[CV] END feature_selection__k=3, preparation__tf_num__imputer__strategy=most_frequent; total time=   9.0s\n",
      "[CV] END feature_selection__k=3, preparation__tf_num__imputer__strategy=most_frequent; total time=   9.0s\n",
      "[CV] END feature_selection__k=3, preparation__tf_num__imputer__strategy=most_frequent; total time=   9.2s\n",
      "[CV] END feature_selection__k=3, preparation__tf_num__imputer__strategy=most_frequent; total time=   9.0s\n",
      "[CV] END feature_selection__k=3, preparation__tf_num__imputer__strategy=most_frequent; total time=   9.0s\n",
      "[CV] END feature_selection__k=4, preparation__tf_num__imputer__strategy=mean; total time=   9.3s\n",
      "[CV] END feature_selection__k=4, preparation__tf_num__imputer__strategy=mean; total time=   9.2s\n",
      "[CV] END feature_selection__k=4, preparation__tf_num__imputer__strategy=mean; total time=   9.1s\n",
      "[CV] END feature_selection__k=4, preparation__tf_num__imputer__strategy=mean; total time=   9.2s\n",
      "[CV] END feature_selection__k=4, preparation__tf_num__imputer__strategy=mean; total time=   9.1s\n",
      "[CV] END feature_selection__k=4, preparation__tf_num__imputer__strategy=median; total time=   9.1s\n",
      "[CV] END feature_selection__k=4, preparation__tf_num__imputer__strategy=median; total time=   9.0s\n",
      "[CV] END feature_selection__k=4, preparation__tf_num__imputer__strategy=median; total time=   9.1s\n",
      "[CV] END feature_selection__k=4, preparation__tf_num__imputer__strategy=median; total time=   9.0s\n",
      "[CV] END feature_selection__k=4, preparation__tf_num__imputer__strategy=median; total time=   9.0s\n",
      "[CV] END feature_selection__k=4, preparation__tf_num__imputer__strategy=most_frequent; total time=   9.1s\n",
      "[CV] END feature_selection__k=4, preparation__tf_num__imputer__strategy=most_frequent; total time=   9.0s\n",
      "[CV] END feature_selection__k=4, preparation__tf_num__imputer__strategy=most_frequent; total time=   8.9s\n",
      "[CV] END feature_selection__k=4, preparation__tf_num__imputer__strategy=most_frequent; total time=   9.0s\n",
      "[CV] END feature_selection__k=4, preparation__tf_num__imputer__strategy=most_frequent; total time=   8.9s\n",
      "[CV] END feature_selection__k=5, preparation__tf_num__imputer__strategy=mean; total time=   9.0s\n",
      "[CV] END feature_selection__k=5, preparation__tf_num__imputer__strategy=mean; total time=   8.9s\n",
      "[CV] END feature_selection__k=5, preparation__tf_num__imputer__strategy=mean; total time=   9.0s\n",
      "[CV] END feature_selection__k=5, preparation__tf_num__imputer__strategy=mean; total time=   9.0s\n",
      "[CV] END feature_selection__k=5, preparation__tf_num__imputer__strategy=mean; total time=   9.0s\n",
      "[CV] END feature_selection__k=5, preparation__tf_num__imputer__strategy=median; total time=   9.0s\n",
      "[CV] END feature_selection__k=5, preparation__tf_num__imputer__strategy=median; total time=   9.0s\n",
      "[CV] END feature_selection__k=5, preparation__tf_num__imputer__strategy=median; total time=   9.0s\n",
      "[CV] END feature_selection__k=5, preparation__tf_num__imputer__strategy=median; total time=   9.1s\n",
      "[CV] END feature_selection__k=5, preparation__tf_num__imputer__strategy=median; total time=   8.9s\n",
      "[CV] END feature_selection__k=5, preparation__tf_num__imputer__strategy=most_frequent; total time=   9.0s\n",
      "[CV] END feature_selection__k=5, preparation__tf_num__imputer__strategy=most_frequent; total time=   8.9s\n",
      "[CV] END feature_selection__k=5, preparation__tf_num__imputer__strategy=most_frequent; total time=   9.0s\n",
      "[CV] END feature_selection__k=5, preparation__tf_num__imputer__strategy=most_frequent; total time=   9.0s\n",
      "[CV] END feature_selection__k=5, preparation__tf_num__imputer__strategy=most_frequent; total time=   8.9s\n",
      "[CV] END feature_selection__k=6, preparation__tf_num__imputer__strategy=mean; total time=   9.1s\n",
      "[CV] END feature_selection__k=6, preparation__tf_num__imputer__strategy=mean; total time=   9.0s\n",
      "[CV] END feature_selection__k=6, preparation__tf_num__imputer__strategy=mean; total time=   9.1s\n",
      "[CV] END feature_selection__k=6, preparation__tf_num__imputer__strategy=mean; total time=   9.0s\n",
      "[CV] END feature_selection__k=6, preparation__tf_num__imputer__strategy=mean; total time=   9.1s\n",
      "[CV] END feature_selection__k=6, preparation__tf_num__imputer__strategy=median; total time=   9.0s\n"
     ]
    },
    {
     "name": "stdout",
     "output_type": "stream",
     "text": [
      "[CV] END feature_selection__k=6, preparation__tf_num__imputer__strategy=median; total time=   9.0s\n",
      "[CV] END feature_selection__k=6, preparation__tf_num__imputer__strategy=median; total time=   9.1s\n",
      "[CV] END feature_selection__k=6, preparation__tf_num__imputer__strategy=median; total time=   9.1s\n",
      "[CV] END feature_selection__k=6, preparation__tf_num__imputer__strategy=median; total time=   9.1s\n",
      "[CV] END feature_selection__k=6, preparation__tf_num__imputer__strategy=most_frequent; total time=   9.0s\n",
      "[CV] END feature_selection__k=6, preparation__tf_num__imputer__strategy=most_frequent; total time=   9.1s\n",
      "[CV] END feature_selection__k=6, preparation__tf_num__imputer__strategy=most_frequent; total time=   9.0s\n",
      "[CV] END feature_selection__k=6, preparation__tf_num__imputer__strategy=most_frequent; total time=   9.1s\n",
      "[CV] END feature_selection__k=6, preparation__tf_num__imputer__strategy=most_frequent; total time=   9.1s\n",
      "[CV] END feature_selection__k=7, preparation__tf_num__imputer__strategy=mean; total time=   9.2s\n",
      "[CV] END feature_selection__k=7, preparation__tf_num__imputer__strategy=mean; total time=   9.2s\n",
      "[CV] END feature_selection__k=7, preparation__tf_num__imputer__strategy=mean; total time=   9.2s\n",
      "[CV] END feature_selection__k=7, preparation__tf_num__imputer__strategy=mean; total time=   9.3s\n",
      "[CV] END feature_selection__k=7, preparation__tf_num__imputer__strategy=mean; total time=   9.2s\n",
      "[CV] END feature_selection__k=7, preparation__tf_num__imputer__strategy=median; total time=   9.2s\n",
      "[CV] END feature_selection__k=7, preparation__tf_num__imputer__strategy=median; total time=   9.3s\n",
      "[CV] END feature_selection__k=7, preparation__tf_num__imputer__strategy=median; total time=   9.2s\n",
      "[CV] END feature_selection__k=7, preparation__tf_num__imputer__strategy=median; total time=   9.4s\n",
      "[CV] END feature_selection__k=7, preparation__tf_num__imputer__strategy=median; total time=   9.3s\n",
      "[CV] END feature_selection__k=7, preparation__tf_num__imputer__strategy=most_frequent; total time=  10.7s\n",
      "[CV] END feature_selection__k=7, preparation__tf_num__imputer__strategy=most_frequent; total time=   9.2s\n",
      "[CV] END feature_selection__k=7, preparation__tf_num__imputer__strategy=most_frequent; total time=   9.2s\n",
      "[CV] END feature_selection__k=7, preparation__tf_num__imputer__strategy=most_frequent; total time=   9.2s\n",
      "[CV] END feature_selection__k=7, preparation__tf_num__imputer__strategy=most_frequent; total time=   9.2s\n",
      "[CV] END feature_selection__k=8, preparation__tf_num__imputer__strategy=mean; total time=   9.2s\n",
      "[CV] END feature_selection__k=8, preparation__tf_num__imputer__strategy=mean; total time=   9.1s\n",
      "[CV] END feature_selection__k=8, preparation__tf_num__imputer__strategy=mean; total time=   9.1s\n",
      "[CV] END feature_selection__k=8, preparation__tf_num__imputer__strategy=mean; total time=   9.2s\n",
      "[CV] END feature_selection__k=8, preparation__tf_num__imputer__strategy=mean; total time=   9.1s\n",
      "[CV] END feature_selection__k=8, preparation__tf_num__imputer__strategy=median; total time=   9.2s\n",
      "[CV] END feature_selection__k=8, preparation__tf_num__imputer__strategy=median; total time=   9.2s\n",
      "[CV] END feature_selection__k=8, preparation__tf_num__imputer__strategy=median; total time=   9.2s\n",
      "[CV] END feature_selection__k=8, preparation__tf_num__imputer__strategy=median; total time=   9.1s\n",
      "[CV] END feature_selection__k=8, preparation__tf_num__imputer__strategy=median; total time=   9.2s\n",
      "[CV] END feature_selection__k=8, preparation__tf_num__imputer__strategy=most_frequent; total time=   9.2s\n",
      "[CV] END feature_selection__k=8, preparation__tf_num__imputer__strategy=most_frequent; total time=   9.1s\n",
      "[CV] END feature_selection__k=8, preparation__tf_num__imputer__strategy=most_frequent; total time=   9.2s\n",
      "[CV] END feature_selection__k=8, preparation__tf_num__imputer__strategy=most_frequent; total time=   9.1s\n",
      "[CV] END feature_selection__k=8, preparation__tf_num__imputer__strategy=most_frequent; total time=   9.1s\n",
      "[CV] END feature_selection__k=9, preparation__tf_num__imputer__strategy=mean; total time=   9.3s\n",
      "[CV] END feature_selection__k=9, preparation__tf_num__imputer__strategy=mean; total time=   9.2s\n",
      "[CV] END feature_selection__k=9, preparation__tf_num__imputer__strategy=mean; total time=   9.3s\n",
      "[CV] END feature_selection__k=9, preparation__tf_num__imputer__strategy=mean; total time=   9.3s\n",
      "[CV] END feature_selection__k=9, preparation__tf_num__imputer__strategy=mean; total time=   9.3s\n",
      "[CV] END feature_selection__k=9, preparation__tf_num__imputer__strategy=median; total time=   9.2s\n",
      "[CV] END feature_selection__k=9, preparation__tf_num__imputer__strategy=median; total time=   9.3s\n",
      "[CV] END feature_selection__k=9, preparation__tf_num__imputer__strategy=median; total time=   9.3s\n",
      "[CV] END feature_selection__k=9, preparation__tf_num__imputer__strategy=median; total time=   9.3s\n",
      "[CV] END feature_selection__k=9, preparation__tf_num__imputer__strategy=median; total time=   9.3s\n",
      "[CV] END feature_selection__k=9, preparation__tf_num__imputer__strategy=most_frequent; total time=   9.3s\n",
      "[CV] END feature_selection__k=9, preparation__tf_num__imputer__strategy=most_frequent; total time=   9.3s\n",
      "[CV] END feature_selection__k=9, preparation__tf_num__imputer__strategy=most_frequent; total time=   9.2s\n",
      "[CV] END feature_selection__k=9, preparation__tf_num__imputer__strategy=most_frequent; total time=   9.2s\n",
      "[CV] END feature_selection__k=9, preparation__tf_num__imputer__strategy=most_frequent; total time=   9.3s\n",
      "[CV] END feature_selection__k=10, preparation__tf_num__imputer__strategy=mean; total time=   9.5s\n",
      "[CV] END feature_selection__k=10, preparation__tf_num__imputer__strategy=mean; total time=   9.5s\n",
      "[CV] END feature_selection__k=10, preparation__tf_num__imputer__strategy=mean; total time=   9.4s\n",
      "[CV] END feature_selection__k=10, preparation__tf_num__imputer__strategy=mean; total time=   9.4s\n",
      "[CV] END feature_selection__k=10, preparation__tf_num__imputer__strategy=mean; total time=   9.5s\n",
      "[CV] END feature_selection__k=10, preparation__tf_num__imputer__strategy=median; total time=   9.5s\n",
      "[CV] END feature_selection__k=10, preparation__tf_num__imputer__strategy=median; total time=   9.5s\n",
      "[CV] END feature_selection__k=10, preparation__tf_num__imputer__strategy=median; total time=   9.4s\n",
      "[CV] END feature_selection__k=10, preparation__tf_num__imputer__strategy=median; total time=   9.4s\n",
      "[CV] END feature_selection__k=10, preparation__tf_num__imputer__strategy=median; total time=   9.5s\n",
      "[CV] END feature_selection__k=10, preparation__tf_num__imputer__strategy=most_frequent; total time=   9.5s\n",
      "[CV] END feature_selection__k=10, preparation__tf_num__imputer__strategy=most_frequent; total time=   9.5s\n",
      "[CV] END feature_selection__k=10, preparation__tf_num__imputer__strategy=most_frequent; total time=   9.5s\n",
      "[CV] END feature_selection__k=10, preparation__tf_num__imputer__strategy=most_frequent; total time=   9.5s\n",
      "[CV] END feature_selection__k=10, preparation__tf_num__imputer__strategy=most_frequent; total time=   9.4s\n",
      "[CV] END feature_selection__k=11, preparation__tf_num__imputer__strategy=mean; total time=   9.7s\n",
      "[CV] END feature_selection__k=11, preparation__tf_num__imputer__strategy=mean; total time=   9.6s\n",
      "[CV] END feature_selection__k=11, preparation__tf_num__imputer__strategy=mean; total time=   9.6s\n",
      "[CV] END feature_selection__k=11, preparation__tf_num__imputer__strategy=mean; total time=   9.6s\n",
      "[CV] END feature_selection__k=11, preparation__tf_num__imputer__strategy=mean; total time=   9.6s\n",
      "[CV] END feature_selection__k=11, preparation__tf_num__imputer__strategy=median; total time=   9.6s\n",
      "[CV] END feature_selection__k=11, preparation__tf_num__imputer__strategy=median; total time=   9.7s\n",
      "[CV] END feature_selection__k=11, preparation__tf_num__imputer__strategy=median; total time=   9.7s\n",
      "[CV] END feature_selection__k=11, preparation__tf_num__imputer__strategy=median; total time=   9.7s\n",
      "[CV] END feature_selection__k=11, preparation__tf_num__imputer__strategy=median; total time=   9.7s\n",
      "[CV] END feature_selection__k=11, preparation__tf_num__imputer__strategy=most_frequent; total time=   9.7s\n",
      "[CV] END feature_selection__k=11, preparation__tf_num__imputer__strategy=most_frequent; total time=   9.7s\n",
      "[CV] END feature_selection__k=11, preparation__tf_num__imputer__strategy=most_frequent; total time=   9.6s\n"
     ]
    },
    {
     "name": "stdout",
     "output_type": "stream",
     "text": [
      "[CV] END feature_selection__k=11, preparation__tf_num__imputer__strategy=most_frequent; total time=   9.7s\n",
      "[CV] END feature_selection__k=11, preparation__tf_num__imputer__strategy=most_frequent; total time=   9.7s\n",
      "[CV] END feature_selection__k=12, preparation__tf_num__imputer__strategy=mean; total time=   9.8s\n",
      "[CV] END feature_selection__k=12, preparation__tf_num__imputer__strategy=mean; total time=   9.8s\n",
      "[CV] END feature_selection__k=12, preparation__tf_num__imputer__strategy=mean; total time=   9.8s\n",
      "[CV] END feature_selection__k=12, preparation__tf_num__imputer__strategy=mean; total time=   9.8s\n",
      "[CV] END feature_selection__k=12, preparation__tf_num__imputer__strategy=mean; total time=   9.8s\n",
      "[CV] END feature_selection__k=12, preparation__tf_num__imputer__strategy=median; total time=   9.9s\n",
      "[CV] END feature_selection__k=12, preparation__tf_num__imputer__strategy=median; total time=   9.8s\n",
      "[CV] END feature_selection__k=12, preparation__tf_num__imputer__strategy=median; total time=   9.8s\n",
      "[CV] END feature_selection__k=12, preparation__tf_num__imputer__strategy=median; total time=   9.8s\n",
      "[CV] END feature_selection__k=12, preparation__tf_num__imputer__strategy=median; total time=   9.8s\n",
      "[CV] END feature_selection__k=12, preparation__tf_num__imputer__strategy=most_frequent; total time=   9.8s\n",
      "[CV] END feature_selection__k=12, preparation__tf_num__imputer__strategy=most_frequent; total time=   9.8s\n",
      "[CV] END feature_selection__k=12, preparation__tf_num__imputer__strategy=most_frequent; total time=   9.8s\n",
      "[CV] END feature_selection__k=12, preparation__tf_num__imputer__strategy=most_frequent; total time=   9.8s\n",
      "[CV] END feature_selection__k=12, preparation__tf_num__imputer__strategy=most_frequent; total time=   9.8s\n",
      "[CV] END feature_selection__k=13, preparation__tf_num__imputer__strategy=mean; total time=  10.0s\n",
      "[CV] END feature_selection__k=13, preparation__tf_num__imputer__strategy=mean; total time=   9.9s\n",
      "[CV] END feature_selection__k=13, preparation__tf_num__imputer__strategy=mean; total time=  10.0s\n",
      "[CV] END feature_selection__k=13, preparation__tf_num__imputer__strategy=mean; total time=   9.9s\n",
      "[CV] END feature_selection__k=13, preparation__tf_num__imputer__strategy=mean; total time=  10.0s\n",
      "[CV] END feature_selection__k=13, preparation__tf_num__imputer__strategy=median; total time=  10.0s\n",
      "[CV] END feature_selection__k=13, preparation__tf_num__imputer__strategy=median; total time=  10.0s\n",
      "[CV] END feature_selection__k=13, preparation__tf_num__imputer__strategy=median; total time=  10.0s\n",
      "[CV] END feature_selection__k=13, preparation__tf_num__imputer__strategy=median; total time=  10.0s\n",
      "[CV] END feature_selection__k=13, preparation__tf_num__imputer__strategy=median; total time=  10.0s\n",
      "[CV] END feature_selection__k=13, preparation__tf_num__imputer__strategy=most_frequent; total time=   9.9s\n",
      "[CV] END feature_selection__k=13, preparation__tf_num__imputer__strategy=most_frequent; total time=  10.0s\n",
      "[CV] END feature_selection__k=13, preparation__tf_num__imputer__strategy=most_frequent; total time=  10.0s\n",
      "[CV] END feature_selection__k=13, preparation__tf_num__imputer__strategy=most_frequent; total time=   9.9s\n",
      "[CV] END feature_selection__k=13, preparation__tf_num__imputer__strategy=most_frequent; total time=  10.0s\n",
      "[CV] END feature_selection__k=14, preparation__tf_num__imputer__strategy=mean; total time=  10.1s\n",
      "[CV] END feature_selection__k=14, preparation__tf_num__imputer__strategy=mean; total time=  10.2s\n",
      "[CV] END feature_selection__k=14, preparation__tf_num__imputer__strategy=mean; total time=  10.1s\n",
      "[CV] END feature_selection__k=14, preparation__tf_num__imputer__strategy=mean; total time=  10.1s\n",
      "[CV] END feature_selection__k=14, preparation__tf_num__imputer__strategy=mean; total time=  10.2s\n",
      "[CV] END feature_selection__k=14, preparation__tf_num__imputer__strategy=median; total time=  10.1s\n",
      "[CV] END feature_selection__k=14, preparation__tf_num__imputer__strategy=median; total time=  10.1s\n",
      "[CV] END feature_selection__k=14, preparation__tf_num__imputer__strategy=median; total time=  10.1s\n",
      "[CV] END feature_selection__k=14, preparation__tf_num__imputer__strategy=median; total time=  10.2s\n",
      "[CV] END feature_selection__k=14, preparation__tf_num__imputer__strategy=median; total time=  10.2s\n",
      "[CV] END feature_selection__k=14, preparation__tf_num__imputer__strategy=most_frequent; total time=  10.1s\n",
      "[CV] END feature_selection__k=14, preparation__tf_num__imputer__strategy=most_frequent; total time=  10.2s\n",
      "[CV] END feature_selection__k=14, preparation__tf_num__imputer__strategy=most_frequent; total time=  10.2s\n",
      "[CV] END feature_selection__k=14, preparation__tf_num__imputer__strategy=most_frequent; total time=  10.2s\n",
      "[CV] END feature_selection__k=14, preparation__tf_num__imputer__strategy=most_frequent; total time=  10.3s\n",
      "[CV] END feature_selection__k=15, preparation__tf_num__imputer__strategy=mean; total time=  10.4s\n"
     ]
    },
    {
     "ename": "KeyboardInterrupt",
     "evalue": "",
     "output_type": "error",
     "traceback": [
      "\u001b[1;31m---------------------------------------------------------------------------\u001b[0m",
      "\u001b[1;31mKeyboardInterrupt\u001b[0m                         Traceback (most recent call last)",
      "\u001b[1;32m<ipython-input-44-64e324bbe688>\u001b[0m in \u001b[0;36m<module>\u001b[1;34m\u001b[0m\n\u001b[1;32m----> 1\u001b[1;33m \u001b[0mgrid_search_prep\u001b[0m\u001b[1;33m.\u001b[0m\u001b[0mfit\u001b[0m\u001b[1;33m(\u001b[0m\u001b[0mhousing\u001b[0m\u001b[1;33m,\u001b[0m \u001b[0mhousing_labels\u001b[0m\u001b[1;33m)\u001b[0m\u001b[1;33m\u001b[0m\u001b[1;33m\u001b[0m\u001b[0m\n\u001b[0m",
      "\u001b[1;32mc:\\users\\gus8c\\appdata\\local\\programs\\python\\python39\\lib\\site-packages\\sklearn\\utils\\validation.py\u001b[0m in \u001b[0;36minner_f\u001b[1;34m(*args, **kwargs)\u001b[0m\n\u001b[0;32m     61\u001b[0m             \u001b[0mextra_args\u001b[0m \u001b[1;33m=\u001b[0m \u001b[0mlen\u001b[0m\u001b[1;33m(\u001b[0m\u001b[0margs\u001b[0m\u001b[1;33m)\u001b[0m \u001b[1;33m-\u001b[0m \u001b[0mlen\u001b[0m\u001b[1;33m(\u001b[0m\u001b[0mall_args\u001b[0m\u001b[1;33m)\u001b[0m\u001b[1;33m\u001b[0m\u001b[1;33m\u001b[0m\u001b[0m\n\u001b[0;32m     62\u001b[0m             \u001b[1;32mif\u001b[0m \u001b[0mextra_args\u001b[0m \u001b[1;33m<=\u001b[0m \u001b[1;36m0\u001b[0m\u001b[1;33m:\u001b[0m\u001b[1;33m\u001b[0m\u001b[1;33m\u001b[0m\u001b[0m\n\u001b[1;32m---> 63\u001b[1;33m                 \u001b[1;32mreturn\u001b[0m \u001b[0mf\u001b[0m\u001b[1;33m(\u001b[0m\u001b[1;33m*\u001b[0m\u001b[0margs\u001b[0m\u001b[1;33m,\u001b[0m \u001b[1;33m**\u001b[0m\u001b[0mkwargs\u001b[0m\u001b[1;33m)\u001b[0m\u001b[1;33m\u001b[0m\u001b[1;33m\u001b[0m\u001b[0m\n\u001b[0m\u001b[0;32m     64\u001b[0m \u001b[1;33m\u001b[0m\u001b[0m\n\u001b[0;32m     65\u001b[0m             \u001b[1;31m# extra_args > 0\u001b[0m\u001b[1;33m\u001b[0m\u001b[1;33m\u001b[0m\u001b[1;33m\u001b[0m\u001b[0m\n",
      "\u001b[1;32mc:\\users\\gus8c\\appdata\\local\\programs\\python\\python39\\lib\\site-packages\\sklearn\\model_selection\\_search.py\u001b[0m in \u001b[0;36mfit\u001b[1;34m(self, X, y, groups, **fit_params)\u001b[0m\n\u001b[0;32m    839\u001b[0m                 \u001b[1;32mreturn\u001b[0m \u001b[0mresults\u001b[0m\u001b[1;33m\u001b[0m\u001b[1;33m\u001b[0m\u001b[0m\n\u001b[0;32m    840\u001b[0m \u001b[1;33m\u001b[0m\u001b[0m\n\u001b[1;32m--> 841\u001b[1;33m             \u001b[0mself\u001b[0m\u001b[1;33m.\u001b[0m\u001b[0m_run_search\u001b[0m\u001b[1;33m(\u001b[0m\u001b[0mevaluate_candidates\u001b[0m\u001b[1;33m)\u001b[0m\u001b[1;33m\u001b[0m\u001b[1;33m\u001b[0m\u001b[0m\n\u001b[0m\u001b[0;32m    842\u001b[0m \u001b[1;33m\u001b[0m\u001b[0m\n\u001b[0;32m    843\u001b[0m             \u001b[1;31m# multimetric is determined here because in the case of a callable\u001b[0m\u001b[1;33m\u001b[0m\u001b[1;33m\u001b[0m\u001b[1;33m\u001b[0m\u001b[0m\n",
      "\u001b[1;32mc:\\users\\gus8c\\appdata\\local\\programs\\python\\python39\\lib\\site-packages\\sklearn\\model_selection\\_search.py\u001b[0m in \u001b[0;36m_run_search\u001b[1;34m(self, evaluate_candidates)\u001b[0m\n\u001b[0;32m   1286\u001b[0m     \u001b[1;32mdef\u001b[0m \u001b[0m_run_search\u001b[0m\u001b[1;33m(\u001b[0m\u001b[0mself\u001b[0m\u001b[1;33m,\u001b[0m \u001b[0mevaluate_candidates\u001b[0m\u001b[1;33m)\u001b[0m\u001b[1;33m:\u001b[0m\u001b[1;33m\u001b[0m\u001b[1;33m\u001b[0m\u001b[0m\n\u001b[0;32m   1287\u001b[0m         \u001b[1;34m\"\"\"Search all candidates in param_grid\"\"\"\u001b[0m\u001b[1;33m\u001b[0m\u001b[1;33m\u001b[0m\u001b[0m\n\u001b[1;32m-> 1288\u001b[1;33m         \u001b[0mevaluate_candidates\u001b[0m\u001b[1;33m(\u001b[0m\u001b[0mParameterGrid\u001b[0m\u001b[1;33m(\u001b[0m\u001b[0mself\u001b[0m\u001b[1;33m.\u001b[0m\u001b[0mparam_grid\u001b[0m\u001b[1;33m)\u001b[0m\u001b[1;33m)\u001b[0m\u001b[1;33m\u001b[0m\u001b[1;33m\u001b[0m\u001b[0m\n\u001b[0m\u001b[0;32m   1289\u001b[0m \u001b[1;33m\u001b[0m\u001b[0m\n\u001b[0;32m   1290\u001b[0m \u001b[1;33m\u001b[0m\u001b[0m\n",
      "\u001b[1;32mc:\\users\\gus8c\\appdata\\local\\programs\\python\\python39\\lib\\site-packages\\sklearn\\model_selection\\_search.py\u001b[0m in \u001b[0;36mevaluate_candidates\u001b[1;34m(candidate_params, cv, more_results)\u001b[0m\n\u001b[0;32m    793\u001b[0m                               n_splits, n_candidates, n_candidates * n_splits))\n\u001b[0;32m    794\u001b[0m \u001b[1;33m\u001b[0m\u001b[0m\n\u001b[1;32m--> 795\u001b[1;33m                 out = parallel(delayed(_fit_and_score)(clone(base_estimator),\n\u001b[0m\u001b[0;32m    796\u001b[0m                                                        \u001b[0mX\u001b[0m\u001b[1;33m,\u001b[0m \u001b[0my\u001b[0m\u001b[1;33m,\u001b[0m\u001b[1;33m\u001b[0m\u001b[1;33m\u001b[0m\u001b[0m\n\u001b[0;32m    797\u001b[0m                                                        \u001b[0mtrain\u001b[0m\u001b[1;33m=\u001b[0m\u001b[0mtrain\u001b[0m\u001b[1;33m,\u001b[0m \u001b[0mtest\u001b[0m\u001b[1;33m=\u001b[0m\u001b[0mtest\u001b[0m\u001b[1;33m,\u001b[0m\u001b[1;33m\u001b[0m\u001b[1;33m\u001b[0m\u001b[0m\n",
      "\u001b[1;32mc:\\users\\gus8c\\appdata\\local\\programs\\python\\python39\\lib\\site-packages\\joblib\\parallel.py\u001b[0m in \u001b[0;36m__call__\u001b[1;34m(self, iterable)\u001b[0m\n\u001b[0;32m   1042\u001b[0m                 \u001b[0mself\u001b[0m\u001b[1;33m.\u001b[0m\u001b[0m_iterating\u001b[0m \u001b[1;33m=\u001b[0m \u001b[0mself\u001b[0m\u001b[1;33m.\u001b[0m\u001b[0m_original_iterator\u001b[0m \u001b[1;32mis\u001b[0m \u001b[1;32mnot\u001b[0m \u001b[1;32mNone\u001b[0m\u001b[1;33m\u001b[0m\u001b[1;33m\u001b[0m\u001b[0m\n\u001b[0;32m   1043\u001b[0m \u001b[1;33m\u001b[0m\u001b[0m\n\u001b[1;32m-> 1044\u001b[1;33m             \u001b[1;32mwhile\u001b[0m \u001b[0mself\u001b[0m\u001b[1;33m.\u001b[0m\u001b[0mdispatch_one_batch\u001b[0m\u001b[1;33m(\u001b[0m\u001b[0miterator\u001b[0m\u001b[1;33m)\u001b[0m\u001b[1;33m:\u001b[0m\u001b[1;33m\u001b[0m\u001b[1;33m\u001b[0m\u001b[0m\n\u001b[0m\u001b[0;32m   1045\u001b[0m                 \u001b[1;32mpass\u001b[0m\u001b[1;33m\u001b[0m\u001b[1;33m\u001b[0m\u001b[0m\n\u001b[0;32m   1046\u001b[0m \u001b[1;33m\u001b[0m\u001b[0m\n",
      "\u001b[1;32mc:\\users\\gus8c\\appdata\\local\\programs\\python\\python39\\lib\\site-packages\\joblib\\parallel.py\u001b[0m in \u001b[0;36mdispatch_one_batch\u001b[1;34m(self, iterator)\u001b[0m\n\u001b[0;32m    857\u001b[0m                 \u001b[1;32mreturn\u001b[0m \u001b[1;32mFalse\u001b[0m\u001b[1;33m\u001b[0m\u001b[1;33m\u001b[0m\u001b[0m\n\u001b[0;32m    858\u001b[0m             \u001b[1;32melse\u001b[0m\u001b[1;33m:\u001b[0m\u001b[1;33m\u001b[0m\u001b[1;33m\u001b[0m\u001b[0m\n\u001b[1;32m--> 859\u001b[1;33m                 \u001b[0mself\u001b[0m\u001b[1;33m.\u001b[0m\u001b[0m_dispatch\u001b[0m\u001b[1;33m(\u001b[0m\u001b[0mtasks\u001b[0m\u001b[1;33m)\u001b[0m\u001b[1;33m\u001b[0m\u001b[1;33m\u001b[0m\u001b[0m\n\u001b[0m\u001b[0;32m    860\u001b[0m                 \u001b[1;32mreturn\u001b[0m \u001b[1;32mTrue\u001b[0m\u001b[1;33m\u001b[0m\u001b[1;33m\u001b[0m\u001b[0m\n\u001b[0;32m    861\u001b[0m \u001b[1;33m\u001b[0m\u001b[0m\n",
      "\u001b[1;32mc:\\users\\gus8c\\appdata\\local\\programs\\python\\python39\\lib\\site-packages\\joblib\\parallel.py\u001b[0m in \u001b[0;36m_dispatch\u001b[1;34m(self, batch)\u001b[0m\n\u001b[0;32m    775\u001b[0m         \u001b[1;32mwith\u001b[0m \u001b[0mself\u001b[0m\u001b[1;33m.\u001b[0m\u001b[0m_lock\u001b[0m\u001b[1;33m:\u001b[0m\u001b[1;33m\u001b[0m\u001b[1;33m\u001b[0m\u001b[0m\n\u001b[0;32m    776\u001b[0m             \u001b[0mjob_idx\u001b[0m \u001b[1;33m=\u001b[0m \u001b[0mlen\u001b[0m\u001b[1;33m(\u001b[0m\u001b[0mself\u001b[0m\u001b[1;33m.\u001b[0m\u001b[0m_jobs\u001b[0m\u001b[1;33m)\u001b[0m\u001b[1;33m\u001b[0m\u001b[1;33m\u001b[0m\u001b[0m\n\u001b[1;32m--> 777\u001b[1;33m             \u001b[0mjob\u001b[0m \u001b[1;33m=\u001b[0m \u001b[0mself\u001b[0m\u001b[1;33m.\u001b[0m\u001b[0m_backend\u001b[0m\u001b[1;33m.\u001b[0m\u001b[0mapply_async\u001b[0m\u001b[1;33m(\u001b[0m\u001b[0mbatch\u001b[0m\u001b[1;33m,\u001b[0m \u001b[0mcallback\u001b[0m\u001b[1;33m=\u001b[0m\u001b[0mcb\u001b[0m\u001b[1;33m)\u001b[0m\u001b[1;33m\u001b[0m\u001b[1;33m\u001b[0m\u001b[0m\n\u001b[0m\u001b[0;32m    778\u001b[0m             \u001b[1;31m# A job can complete so quickly than its callback is\u001b[0m\u001b[1;33m\u001b[0m\u001b[1;33m\u001b[0m\u001b[1;33m\u001b[0m\u001b[0m\n\u001b[0;32m    779\u001b[0m             \u001b[1;31m# called before we get here, causing self._jobs to\u001b[0m\u001b[1;33m\u001b[0m\u001b[1;33m\u001b[0m\u001b[1;33m\u001b[0m\u001b[0m\n",
      "\u001b[1;32mc:\\users\\gus8c\\appdata\\local\\programs\\python\\python39\\lib\\site-packages\\joblib\\_parallel_backends.py\u001b[0m in \u001b[0;36mapply_async\u001b[1;34m(self, func, callback)\u001b[0m\n\u001b[0;32m    206\u001b[0m     \u001b[1;32mdef\u001b[0m \u001b[0mapply_async\u001b[0m\u001b[1;33m(\u001b[0m\u001b[0mself\u001b[0m\u001b[1;33m,\u001b[0m \u001b[0mfunc\u001b[0m\u001b[1;33m,\u001b[0m \u001b[0mcallback\u001b[0m\u001b[1;33m=\u001b[0m\u001b[1;32mNone\u001b[0m\u001b[1;33m)\u001b[0m\u001b[1;33m:\u001b[0m\u001b[1;33m\u001b[0m\u001b[1;33m\u001b[0m\u001b[0m\n\u001b[0;32m    207\u001b[0m         \u001b[1;34m\"\"\"Schedule a func to be run\"\"\"\u001b[0m\u001b[1;33m\u001b[0m\u001b[1;33m\u001b[0m\u001b[0m\n\u001b[1;32m--> 208\u001b[1;33m         \u001b[0mresult\u001b[0m \u001b[1;33m=\u001b[0m \u001b[0mImmediateResult\u001b[0m\u001b[1;33m(\u001b[0m\u001b[0mfunc\u001b[0m\u001b[1;33m)\u001b[0m\u001b[1;33m\u001b[0m\u001b[1;33m\u001b[0m\u001b[0m\n\u001b[0m\u001b[0;32m    209\u001b[0m         \u001b[1;32mif\u001b[0m \u001b[0mcallback\u001b[0m\u001b[1;33m:\u001b[0m\u001b[1;33m\u001b[0m\u001b[1;33m\u001b[0m\u001b[0m\n\u001b[0;32m    210\u001b[0m             \u001b[0mcallback\u001b[0m\u001b[1;33m(\u001b[0m\u001b[0mresult\u001b[0m\u001b[1;33m)\u001b[0m\u001b[1;33m\u001b[0m\u001b[1;33m\u001b[0m\u001b[0m\n",
      "\u001b[1;32mc:\\users\\gus8c\\appdata\\local\\programs\\python\\python39\\lib\\site-packages\\joblib\\_parallel_backends.py\u001b[0m in \u001b[0;36m__init__\u001b[1;34m(self, batch)\u001b[0m\n\u001b[0;32m    570\u001b[0m         \u001b[1;31m# Don't delay the application, to avoid keeping the input\u001b[0m\u001b[1;33m\u001b[0m\u001b[1;33m\u001b[0m\u001b[1;33m\u001b[0m\u001b[0m\n\u001b[0;32m    571\u001b[0m         \u001b[1;31m# arguments in memory\u001b[0m\u001b[1;33m\u001b[0m\u001b[1;33m\u001b[0m\u001b[1;33m\u001b[0m\u001b[0m\n\u001b[1;32m--> 572\u001b[1;33m         \u001b[0mself\u001b[0m\u001b[1;33m.\u001b[0m\u001b[0mresults\u001b[0m \u001b[1;33m=\u001b[0m \u001b[0mbatch\u001b[0m\u001b[1;33m(\u001b[0m\u001b[1;33m)\u001b[0m\u001b[1;33m\u001b[0m\u001b[1;33m\u001b[0m\u001b[0m\n\u001b[0m\u001b[0;32m    573\u001b[0m \u001b[1;33m\u001b[0m\u001b[0m\n\u001b[0;32m    574\u001b[0m     \u001b[1;32mdef\u001b[0m \u001b[0mget\u001b[0m\u001b[1;33m(\u001b[0m\u001b[0mself\u001b[0m\u001b[1;33m)\u001b[0m\u001b[1;33m:\u001b[0m\u001b[1;33m\u001b[0m\u001b[1;33m\u001b[0m\u001b[0m\n",
      "\u001b[1;32mc:\\users\\gus8c\\appdata\\local\\programs\\python\\python39\\lib\\site-packages\\joblib\\parallel.py\u001b[0m in \u001b[0;36m__call__\u001b[1;34m(self)\u001b[0m\n\u001b[0;32m    260\u001b[0m         \u001b[1;31m# change the default number of processes to -1\u001b[0m\u001b[1;33m\u001b[0m\u001b[1;33m\u001b[0m\u001b[1;33m\u001b[0m\u001b[0m\n\u001b[0;32m    261\u001b[0m         \u001b[1;32mwith\u001b[0m \u001b[0mparallel_backend\u001b[0m\u001b[1;33m(\u001b[0m\u001b[0mself\u001b[0m\u001b[1;33m.\u001b[0m\u001b[0m_backend\u001b[0m\u001b[1;33m,\u001b[0m \u001b[0mn_jobs\u001b[0m\u001b[1;33m=\u001b[0m\u001b[0mself\u001b[0m\u001b[1;33m.\u001b[0m\u001b[0m_n_jobs\u001b[0m\u001b[1;33m)\u001b[0m\u001b[1;33m:\u001b[0m\u001b[1;33m\u001b[0m\u001b[1;33m\u001b[0m\u001b[0m\n\u001b[1;32m--> 262\u001b[1;33m             return [func(*args, **kwargs)\n\u001b[0m\u001b[0;32m    263\u001b[0m                     for func, args, kwargs in self.items]\n\u001b[0;32m    264\u001b[0m \u001b[1;33m\u001b[0m\u001b[0m\n",
      "\u001b[1;32mc:\\users\\gus8c\\appdata\\local\\programs\\python\\python39\\lib\\site-packages\\joblib\\parallel.py\u001b[0m in \u001b[0;36m<listcomp>\u001b[1;34m(.0)\u001b[0m\n\u001b[0;32m    260\u001b[0m         \u001b[1;31m# change the default number of processes to -1\u001b[0m\u001b[1;33m\u001b[0m\u001b[1;33m\u001b[0m\u001b[1;33m\u001b[0m\u001b[0m\n\u001b[0;32m    261\u001b[0m         \u001b[1;32mwith\u001b[0m \u001b[0mparallel_backend\u001b[0m\u001b[1;33m(\u001b[0m\u001b[0mself\u001b[0m\u001b[1;33m.\u001b[0m\u001b[0m_backend\u001b[0m\u001b[1;33m,\u001b[0m \u001b[0mn_jobs\u001b[0m\u001b[1;33m=\u001b[0m\u001b[0mself\u001b[0m\u001b[1;33m.\u001b[0m\u001b[0m_n_jobs\u001b[0m\u001b[1;33m)\u001b[0m\u001b[1;33m:\u001b[0m\u001b[1;33m\u001b[0m\u001b[1;33m\u001b[0m\u001b[0m\n\u001b[1;32m--> 262\u001b[1;33m             return [func(*args, **kwargs)\n\u001b[0m\u001b[0;32m    263\u001b[0m                     for func, args, kwargs in self.items]\n\u001b[0;32m    264\u001b[0m \u001b[1;33m\u001b[0m\u001b[0m\n",
      "\u001b[1;32mc:\\users\\gus8c\\appdata\\local\\programs\\python\\python39\\lib\\site-packages\\sklearn\\utils\\fixes.py\u001b[0m in \u001b[0;36m__call__\u001b[1;34m(self, *args, **kwargs)\u001b[0m\n\u001b[0;32m    220\u001b[0m     \u001b[1;32mdef\u001b[0m \u001b[0m__call__\u001b[0m\u001b[1;33m(\u001b[0m\u001b[0mself\u001b[0m\u001b[1;33m,\u001b[0m \u001b[1;33m*\u001b[0m\u001b[0margs\u001b[0m\u001b[1;33m,\u001b[0m \u001b[1;33m**\u001b[0m\u001b[0mkwargs\u001b[0m\u001b[1;33m)\u001b[0m\u001b[1;33m:\u001b[0m\u001b[1;33m\u001b[0m\u001b[1;33m\u001b[0m\u001b[0m\n\u001b[0;32m    221\u001b[0m         \u001b[1;32mwith\u001b[0m \u001b[0mconfig_context\u001b[0m\u001b[1;33m(\u001b[0m\u001b[1;33m**\u001b[0m\u001b[0mself\u001b[0m\u001b[1;33m.\u001b[0m\u001b[0mconfig\u001b[0m\u001b[1;33m)\u001b[0m\u001b[1;33m:\u001b[0m\u001b[1;33m\u001b[0m\u001b[1;33m\u001b[0m\u001b[0m\n\u001b[1;32m--> 222\u001b[1;33m             \u001b[1;32mreturn\u001b[0m \u001b[0mself\u001b[0m\u001b[1;33m.\u001b[0m\u001b[0mfunction\u001b[0m\u001b[1;33m(\u001b[0m\u001b[1;33m*\u001b[0m\u001b[0margs\u001b[0m\u001b[1;33m,\u001b[0m \u001b[1;33m**\u001b[0m\u001b[0mkwargs\u001b[0m\u001b[1;33m)\u001b[0m\u001b[1;33m\u001b[0m\u001b[1;33m\u001b[0m\u001b[0m\n\u001b[0m",
      "\u001b[1;32mc:\\users\\gus8c\\appdata\\local\\programs\\python\\python39\\lib\\site-packages\\sklearn\\model_selection\\_validation.py\u001b[0m in \u001b[0;36m_fit_and_score\u001b[1;34m(estimator, X, y, scorer, train, test, verbose, parameters, fit_params, return_train_score, return_parameters, return_n_test_samples, return_times, return_estimator, split_progress, candidate_progress, error_score)\u001b[0m\n\u001b[0;32m    618\u001b[0m \u001b[1;33m\u001b[0m\u001b[0m\n\u001b[0;32m    619\u001b[0m         \u001b[0mfit_time\u001b[0m \u001b[1;33m=\u001b[0m \u001b[0mtime\u001b[0m\u001b[1;33m.\u001b[0m\u001b[0mtime\u001b[0m\u001b[1;33m(\u001b[0m\u001b[1;33m)\u001b[0m \u001b[1;33m-\u001b[0m \u001b[0mstart_time\u001b[0m\u001b[1;33m\u001b[0m\u001b[1;33m\u001b[0m\u001b[0m\n\u001b[1;32m--> 620\u001b[1;33m         \u001b[0mtest_scores\u001b[0m \u001b[1;33m=\u001b[0m \u001b[0m_score\u001b[0m\u001b[1;33m(\u001b[0m\u001b[0mestimator\u001b[0m\u001b[1;33m,\u001b[0m \u001b[0mX_test\u001b[0m\u001b[1;33m,\u001b[0m \u001b[0my_test\u001b[0m\u001b[1;33m,\u001b[0m \u001b[0mscorer\u001b[0m\u001b[1;33m,\u001b[0m \u001b[0merror_score\u001b[0m\u001b[1;33m)\u001b[0m\u001b[1;33m\u001b[0m\u001b[1;33m\u001b[0m\u001b[0m\n\u001b[0m\u001b[0;32m    621\u001b[0m         \u001b[0mscore_time\u001b[0m \u001b[1;33m=\u001b[0m \u001b[0mtime\u001b[0m\u001b[1;33m.\u001b[0m\u001b[0mtime\u001b[0m\u001b[1;33m(\u001b[0m\u001b[1;33m)\u001b[0m \u001b[1;33m-\u001b[0m \u001b[0mstart_time\u001b[0m \u001b[1;33m-\u001b[0m \u001b[0mfit_time\u001b[0m\u001b[1;33m\u001b[0m\u001b[1;33m\u001b[0m\u001b[0m\n\u001b[0;32m    622\u001b[0m         \u001b[1;32mif\u001b[0m \u001b[0mreturn_train_score\u001b[0m\u001b[1;33m:\u001b[0m\u001b[1;33m\u001b[0m\u001b[1;33m\u001b[0m\u001b[0m\n",
      "\u001b[1;32mc:\\users\\gus8c\\appdata\\local\\programs\\python\\python39\\lib\\site-packages\\sklearn\\model_selection\\_validation.py\u001b[0m in \u001b[0;36m_score\u001b[1;34m(estimator, X_test, y_test, scorer, error_score)\u001b[0m\n\u001b[0;32m    672\u001b[0m             \u001b[0mscores\u001b[0m \u001b[1;33m=\u001b[0m \u001b[0mscorer\u001b[0m\u001b[1;33m(\u001b[0m\u001b[0mestimator\u001b[0m\u001b[1;33m,\u001b[0m \u001b[0mX_test\u001b[0m\u001b[1;33m)\u001b[0m\u001b[1;33m\u001b[0m\u001b[1;33m\u001b[0m\u001b[0m\n\u001b[0;32m    673\u001b[0m         \u001b[1;32melse\u001b[0m\u001b[1;33m:\u001b[0m\u001b[1;33m\u001b[0m\u001b[1;33m\u001b[0m\u001b[0m\n\u001b[1;32m--> 674\u001b[1;33m             \u001b[0mscores\u001b[0m \u001b[1;33m=\u001b[0m \u001b[0mscorer\u001b[0m\u001b[1;33m(\u001b[0m\u001b[0mestimator\u001b[0m\u001b[1;33m,\u001b[0m \u001b[0mX_test\u001b[0m\u001b[1;33m,\u001b[0m \u001b[0my_test\u001b[0m\u001b[1;33m)\u001b[0m\u001b[1;33m\u001b[0m\u001b[1;33m\u001b[0m\u001b[0m\n\u001b[0m\u001b[0;32m    675\u001b[0m     \u001b[1;32mexcept\u001b[0m \u001b[0mException\u001b[0m\u001b[1;33m:\u001b[0m\u001b[1;33m\u001b[0m\u001b[1;33m\u001b[0m\u001b[0m\n\u001b[0;32m    676\u001b[0m         \u001b[1;32mif\u001b[0m \u001b[0merror_score\u001b[0m \u001b[1;33m==\u001b[0m \u001b[1;34m'raise'\u001b[0m\u001b[1;33m:\u001b[0m\u001b[1;33m\u001b[0m\u001b[1;33m\u001b[0m\u001b[0m\n",
      "\u001b[1;32mc:\\users\\gus8c\\appdata\\local\\programs\\python\\python39\\lib\\site-packages\\sklearn\\metrics\\_scorer.py\u001b[0m in \u001b[0;36m__call__\u001b[1;34m(self, estimator, X, y_true, sample_weight)\u001b[0m\n\u001b[0;32m    197\u001b[0m             \u001b[0mScore\u001b[0m \u001b[0mfunction\u001b[0m \u001b[0mapplied\u001b[0m \u001b[0mto\u001b[0m \u001b[0mprediction\u001b[0m \u001b[0mof\u001b[0m \u001b[0mestimator\u001b[0m \u001b[0mon\u001b[0m \u001b[0mX\u001b[0m\u001b[1;33m.\u001b[0m\u001b[1;33m\u001b[0m\u001b[1;33m\u001b[0m\u001b[0m\n\u001b[0;32m    198\u001b[0m         \"\"\"\n\u001b[1;32m--> 199\u001b[1;33m         return self._score(partial(_cached_call, None), estimator, X, y_true,\n\u001b[0m\u001b[0;32m    200\u001b[0m                            sample_weight=sample_weight)\n\u001b[0;32m    201\u001b[0m \u001b[1;33m\u001b[0m\u001b[0m\n",
      "\u001b[1;32mc:\\users\\gus8c\\appdata\\local\\programs\\python\\python39\\lib\\site-packages\\sklearn\\metrics\\_scorer.py\u001b[0m in \u001b[0;36m_score\u001b[1;34m(self, method_caller, estimator, X, y_true, sample_weight)\u001b[0m\n\u001b[0;32m    234\u001b[0m         \"\"\"\n\u001b[0;32m    235\u001b[0m \u001b[1;33m\u001b[0m\u001b[0m\n\u001b[1;32m--> 236\u001b[1;33m         \u001b[0my_pred\u001b[0m \u001b[1;33m=\u001b[0m \u001b[0mmethod_caller\u001b[0m\u001b[1;33m(\u001b[0m\u001b[0mestimator\u001b[0m\u001b[1;33m,\u001b[0m \u001b[1;34m\"predict\"\u001b[0m\u001b[1;33m,\u001b[0m \u001b[0mX\u001b[0m\u001b[1;33m)\u001b[0m\u001b[1;33m\u001b[0m\u001b[1;33m\u001b[0m\u001b[0m\n\u001b[0m\u001b[0;32m    237\u001b[0m         \u001b[1;32mif\u001b[0m \u001b[0msample_weight\u001b[0m \u001b[1;32mis\u001b[0m \u001b[1;32mnot\u001b[0m \u001b[1;32mNone\u001b[0m\u001b[1;33m:\u001b[0m\u001b[1;33m\u001b[0m\u001b[1;33m\u001b[0m\u001b[0m\n\u001b[0;32m    238\u001b[0m             return self._sign * self._score_func(y_true, y_pred,\n",
      "\u001b[1;32mc:\\users\\gus8c\\appdata\\local\\programs\\python\\python39\\lib\\site-packages\\sklearn\\metrics\\_scorer.py\u001b[0m in \u001b[0;36m_cached_call\u001b[1;34m(cache, estimator, method, *args, **kwargs)\u001b[0m\n\u001b[0;32m     51\u001b[0m     \u001b[1;34m\"\"\"Call estimator with method and args and kwargs.\"\"\"\u001b[0m\u001b[1;33m\u001b[0m\u001b[1;33m\u001b[0m\u001b[0m\n\u001b[0;32m     52\u001b[0m     \u001b[1;32mif\u001b[0m \u001b[0mcache\u001b[0m \u001b[1;32mis\u001b[0m \u001b[1;32mNone\u001b[0m\u001b[1;33m:\u001b[0m\u001b[1;33m\u001b[0m\u001b[1;33m\u001b[0m\u001b[0m\n\u001b[1;32m---> 53\u001b[1;33m         \u001b[1;32mreturn\u001b[0m \u001b[0mgetattr\u001b[0m\u001b[1;33m(\u001b[0m\u001b[0mestimator\u001b[0m\u001b[1;33m,\u001b[0m \u001b[0mmethod\u001b[0m\u001b[1;33m)\u001b[0m\u001b[1;33m(\u001b[0m\u001b[1;33m*\u001b[0m\u001b[0margs\u001b[0m\u001b[1;33m,\u001b[0m \u001b[1;33m**\u001b[0m\u001b[0mkwargs\u001b[0m\u001b[1;33m)\u001b[0m\u001b[1;33m\u001b[0m\u001b[1;33m\u001b[0m\u001b[0m\n\u001b[0m\u001b[0;32m     54\u001b[0m \u001b[1;33m\u001b[0m\u001b[0m\n\u001b[0;32m     55\u001b[0m     \u001b[1;32mtry\u001b[0m\u001b[1;33m:\u001b[0m\u001b[1;33m\u001b[0m\u001b[1;33m\u001b[0m\u001b[0m\n",
      "\u001b[1;32mc:\\users\\gus8c\\appdata\\local\\programs\\python\\python39\\lib\\site-packages\\sklearn\\utils\\metaestimators.py\u001b[0m in \u001b[0;36m<lambda>\u001b[1;34m(*args, **kwargs)\u001b[0m\n\u001b[0;32m    118\u001b[0m \u001b[1;33m\u001b[0m\u001b[0m\n\u001b[0;32m    119\u001b[0m         \u001b[1;31m# lambda, but not partial, allows help() to work with update_wrapper\u001b[0m\u001b[1;33m\u001b[0m\u001b[1;33m\u001b[0m\u001b[1;33m\u001b[0m\u001b[0m\n\u001b[1;32m--> 120\u001b[1;33m         \u001b[0mout\u001b[0m \u001b[1;33m=\u001b[0m \u001b[1;32mlambda\u001b[0m \u001b[1;33m*\u001b[0m\u001b[0margs\u001b[0m\u001b[1;33m,\u001b[0m \u001b[1;33m**\u001b[0m\u001b[0mkwargs\u001b[0m\u001b[1;33m:\u001b[0m \u001b[0mself\u001b[0m\u001b[1;33m.\u001b[0m\u001b[0mfn\u001b[0m\u001b[1;33m(\u001b[0m\u001b[0mobj\u001b[0m\u001b[1;33m,\u001b[0m \u001b[1;33m*\u001b[0m\u001b[0margs\u001b[0m\u001b[1;33m,\u001b[0m \u001b[1;33m**\u001b[0m\u001b[0mkwargs\u001b[0m\u001b[1;33m)\u001b[0m\u001b[1;33m\u001b[0m\u001b[1;33m\u001b[0m\u001b[0m\n\u001b[0m\u001b[0;32m    121\u001b[0m         \u001b[1;31m# update the docstring of the returned function\u001b[0m\u001b[1;33m\u001b[0m\u001b[1;33m\u001b[0m\u001b[1;33m\u001b[0m\u001b[0m\n\u001b[0;32m    122\u001b[0m         \u001b[0mupdate_wrapper\u001b[0m\u001b[1;33m(\u001b[0m\u001b[0mout\u001b[0m\u001b[1;33m,\u001b[0m \u001b[0mself\u001b[0m\u001b[1;33m.\u001b[0m\u001b[0mfn\u001b[0m\u001b[1;33m)\u001b[0m\u001b[1;33m\u001b[0m\u001b[1;33m\u001b[0m\u001b[0m\n",
      "\u001b[1;32mc:\\users\\gus8c\\appdata\\local\\programs\\python\\python39\\lib\\site-packages\\sklearn\\pipeline.py\u001b[0m in \u001b[0;36mpredict\u001b[1;34m(self, X, **predict_params)\u001b[0m\n\u001b[0;32m    417\u001b[0m         \u001b[1;32mfor\u001b[0m \u001b[0m_\u001b[0m\u001b[1;33m,\u001b[0m \u001b[0mname\u001b[0m\u001b[1;33m,\u001b[0m \u001b[0mtransform\u001b[0m \u001b[1;32min\u001b[0m \u001b[0mself\u001b[0m\u001b[1;33m.\u001b[0m\u001b[0m_iter\u001b[0m\u001b[1;33m(\u001b[0m\u001b[0mwith_final\u001b[0m\u001b[1;33m=\u001b[0m\u001b[1;32mFalse\u001b[0m\u001b[1;33m)\u001b[0m\u001b[1;33m:\u001b[0m\u001b[1;33m\u001b[0m\u001b[1;33m\u001b[0m\u001b[0m\n\u001b[0;32m    418\u001b[0m             \u001b[0mXt\u001b[0m \u001b[1;33m=\u001b[0m \u001b[0mtransform\u001b[0m\u001b[1;33m.\u001b[0m\u001b[0mtransform\u001b[0m\u001b[1;33m(\u001b[0m\u001b[0mXt\u001b[0m\u001b[1;33m)\u001b[0m\u001b[1;33m\u001b[0m\u001b[1;33m\u001b[0m\u001b[0m\n\u001b[1;32m--> 419\u001b[1;33m         \u001b[1;32mreturn\u001b[0m \u001b[0mself\u001b[0m\u001b[1;33m.\u001b[0m\u001b[0msteps\u001b[0m\u001b[1;33m[\u001b[0m\u001b[1;33m-\u001b[0m\u001b[1;36m1\u001b[0m\u001b[1;33m]\u001b[0m\u001b[1;33m[\u001b[0m\u001b[1;33m-\u001b[0m\u001b[1;36m1\u001b[0m\u001b[1;33m]\u001b[0m\u001b[1;33m.\u001b[0m\u001b[0mpredict\u001b[0m\u001b[1;33m(\u001b[0m\u001b[0mXt\u001b[0m\u001b[1;33m,\u001b[0m \u001b[1;33m**\u001b[0m\u001b[0mpredict_params\u001b[0m\u001b[1;33m)\u001b[0m\u001b[1;33m\u001b[0m\u001b[1;33m\u001b[0m\u001b[0m\n\u001b[0m\u001b[0;32m    420\u001b[0m \u001b[1;33m\u001b[0m\u001b[0m\n\u001b[0;32m    421\u001b[0m     \u001b[1;33m@\u001b[0m\u001b[0mif_delegate_has_method\u001b[0m\u001b[1;33m(\u001b[0m\u001b[0mdelegate\u001b[0m\u001b[1;33m=\u001b[0m\u001b[1;34m'_final_estimator'\u001b[0m\u001b[1;33m)\u001b[0m\u001b[1;33m\u001b[0m\u001b[1;33m\u001b[0m\u001b[0m\n",
      "\u001b[1;32mc:\\users\\gus8c\\appdata\\local\\programs\\python\\python39\\lib\\site-packages\\sklearn\\svm\\_base.py\u001b[0m in \u001b[0;36mpredict\u001b[1;34m(self, X)\u001b[0m\n\u001b[0;32m    342\u001b[0m         \u001b[0mX\u001b[0m \u001b[1;33m=\u001b[0m \u001b[0mself\u001b[0m\u001b[1;33m.\u001b[0m\u001b[0m_validate_for_predict\u001b[0m\u001b[1;33m(\u001b[0m\u001b[0mX\u001b[0m\u001b[1;33m)\u001b[0m\u001b[1;33m\u001b[0m\u001b[1;33m\u001b[0m\u001b[0m\n\u001b[0;32m    343\u001b[0m         \u001b[0mpredict\u001b[0m \u001b[1;33m=\u001b[0m \u001b[0mself\u001b[0m\u001b[1;33m.\u001b[0m\u001b[0m_sparse_predict\u001b[0m \u001b[1;32mif\u001b[0m \u001b[0mself\u001b[0m\u001b[1;33m.\u001b[0m\u001b[0m_sparse\u001b[0m \u001b[1;32melse\u001b[0m \u001b[0mself\u001b[0m\u001b[1;33m.\u001b[0m\u001b[0m_dense_predict\u001b[0m\u001b[1;33m\u001b[0m\u001b[1;33m\u001b[0m\u001b[0m\n\u001b[1;32m--> 344\u001b[1;33m         \u001b[1;32mreturn\u001b[0m \u001b[0mpredict\u001b[0m\u001b[1;33m(\u001b[0m\u001b[0mX\u001b[0m\u001b[1;33m)\u001b[0m\u001b[1;33m\u001b[0m\u001b[1;33m\u001b[0m\u001b[0m\n\u001b[0m\u001b[0;32m    345\u001b[0m \u001b[1;33m\u001b[0m\u001b[0m\n\u001b[0;32m    346\u001b[0m     \u001b[1;32mdef\u001b[0m \u001b[0m_dense_predict\u001b[0m\u001b[1;33m(\u001b[0m\u001b[0mself\u001b[0m\u001b[1;33m,\u001b[0m \u001b[0mX\u001b[0m\u001b[1;33m)\u001b[0m\u001b[1;33m:\u001b[0m\u001b[1;33m\u001b[0m\u001b[1;33m\u001b[0m\u001b[0m\n",
      "\u001b[1;32mc:\\users\\gus8c\\appdata\\local\\programs\\python\\python39\\lib\\site-packages\\sklearn\\svm\\_base.py\u001b[0m in \u001b[0;36m_dense_predict\u001b[1;34m(self, X)\u001b[0m\n\u001b[0;32m    359\u001b[0m         \u001b[0msvm_type\u001b[0m \u001b[1;33m=\u001b[0m \u001b[0mLIBSVM_IMPL\u001b[0m\u001b[1;33m.\u001b[0m\u001b[0mindex\u001b[0m\u001b[1;33m(\u001b[0m\u001b[0mself\u001b[0m\u001b[1;33m.\u001b[0m\u001b[0m_impl\u001b[0m\u001b[1;33m)\u001b[0m\u001b[1;33m\u001b[0m\u001b[1;33m\u001b[0m\u001b[0m\n\u001b[0;32m    360\u001b[0m \u001b[1;33m\u001b[0m\u001b[0m\n\u001b[1;32m--> 361\u001b[1;33m         return libsvm.predict(\n\u001b[0m\u001b[0;32m    362\u001b[0m             \u001b[0mX\u001b[0m\u001b[1;33m,\u001b[0m \u001b[0mself\u001b[0m\u001b[1;33m.\u001b[0m\u001b[0msupport_\u001b[0m\u001b[1;33m,\u001b[0m \u001b[0mself\u001b[0m\u001b[1;33m.\u001b[0m\u001b[0msupport_vectors_\u001b[0m\u001b[1;33m,\u001b[0m \u001b[0mself\u001b[0m\u001b[1;33m.\u001b[0m\u001b[0m_n_support\u001b[0m\u001b[1;33m,\u001b[0m\u001b[1;33m\u001b[0m\u001b[1;33m\u001b[0m\u001b[0m\n\u001b[0;32m    363\u001b[0m             \u001b[0mself\u001b[0m\u001b[1;33m.\u001b[0m\u001b[0m_dual_coef_\u001b[0m\u001b[1;33m,\u001b[0m \u001b[0mself\u001b[0m\u001b[1;33m.\u001b[0m\u001b[0m_intercept_\u001b[0m\u001b[1;33m,\u001b[0m\u001b[1;33m\u001b[0m\u001b[1;33m\u001b[0m\u001b[0m\n",
      "\u001b[1;31mKeyboardInterrupt\u001b[0m: "
     ]
    }
   ],
   "source": [
    "grid_search_prep.fit(housing, housing_labels)"
   ]
  },
  {
   "cell_type": "markdown",
   "metadata": {},
   "source": [
    "# GridSearchCV를 이용하여 위에 작성한 준비 단계의 최적 옵션을 자동으로 탐색\n",
    "그리드서치 클래스에서 **파이프라인 속 파이프라인의 매개변수에 접근할 때**는 __ 로 연결\n",
    "예를 들어  \n",
    "> preparation__tf_num__imputer__strategy는 다음과 같음  \n",
    "- preparation \n",
    "    - tf_num \n",
    "        - imputer \n",
    "            - strategy  \n",
    "\n",
    "그리고 시간 겁나 걸림..."
   ]
  },
  {
   "cell_type": "code",
   "execution_count": null,
   "metadata": {},
   "outputs": [],
   "source": []
  },
  {
   "cell_type": "code",
   "execution_count": null,
   "metadata": {},
   "outputs": [],
   "source": []
  }
 ],
 "metadata": {
  "kernelspec": {
   "display_name": "Python 3",
   "language": "python",
   "name": "python3"
  },
  "language_info": {
   "codemirror_mode": {
    "name": "ipython",
    "version": 3
   },
   "file_extension": ".py",
   "mimetype": "text/x-python",
   "name": "python",
   "nbconvert_exporter": "python",
   "pygments_lexer": "ipython3",
   "version": "3.8.8"
  }
 },
 "nbformat": 4,
 "nbformat_minor": 4
}
