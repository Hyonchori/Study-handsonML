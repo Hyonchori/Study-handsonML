{
 "cells": [
  {
   "cell_type": "code",
   "execution_count": 4,
   "metadata": {},
   "outputs": [],
   "source": [
    "from _01_scoping_data import housing"
   ]
  },
  {
   "cell_type": "markdown",
   "metadata": {},
   "source": [
    "이전 단계에서 불러온 데이터셋 가져오기"
   ]
  },
  {
   "cell_type": "code",
   "execution_count": 6,
   "metadata": {},
   "outputs": [],
   "source": [
    "import numpy as np\n",
    "\n",
    "def split_train_test(data, test_ratio):\n",
    "    shuffled_indices = np.random.permutation(len(data))\n",
    "    test_set_size = int(len(data) * test_ratio)\n",
    "    test_indices = shuffled_indices[: test_set_size]\n",
    "    train_indices = shuffled_indices[test_set_size: ]\n",
    "    return data.iloc[train_indices], data.iloc[test_indices]"
   ]
  },
  {
   "cell_type": "markdown",
   "metadata": {},
   "source": [
    "#### 가장 간단하게 랜덤으로 테스트셋을 분리하는 방법\n",
    "인덱스를 섞어주는 numpy의 **permutation** 메서드  \n",
    "pandas 데이터프레임에서 데이터를 index단위로 가져오는 **iloc** 메서드  "
   ]
  },
  {
   "cell_type": "code",
   "execution_count": 11,
   "metadata": {},
   "outputs": [
    {
     "name": "stdout",
     "output_type": "stream",
     "text": [
      "train set length: 16512 \n",
      "test set length: 4128\n"
     ]
    }
   ],
   "source": [
    "train_set, test_set = split_train_test(housing, 0.2)\n",
    "print(\"train set length: {} \\ntest set length: {}\".format(len(train_set), len(test_set)))"
   ]
  },
  {
   "cell_type": "code",
   "execution_count": 19,
   "metadata": {},
   "outputs": [],
   "source": [
    "from zlib import crc32\n",
    "\n",
    "def test_set_check(identifier, test_ratio):\n",
    "    return crc32(np.int64(identifier)) & 0xffffffff < test_ratio * 2**32\n",
    "\n",
    "def split_train_test_by_id(data, test_ratio, id_column):\n",
    "    ids = data[id_column]\n",
    "    in_test_set = ids.apply(lambda id_: test_set_check(id_, test_ratio))\n",
    "    print(in_test_set)\n",
    "    return data.loc[~in_test_set], data.loc[in_test_set]"
   ]
  },
  {
   "cell_type": "markdown",
   "metadata": {},
   "source": [
    "#### 데이터셋에 새로운 데이터가 추가되어도 이전 테스트셋에 동일한 비율의 테스트데이터를 추가하는 방법  \n",
    "\n",
    "각 샘플마다 **해시값**을 계산하여 해시 최댓값의 20%보다 작거나 같은 값을 가진 샘플만 테스트셋으로 선정  \n",
    "pandas 데이터프레임의 axis를 따라 임의의 함수를 적용하는 **apply** 메서드  \n",
    "pandas 데이터를 column이름이나 불리안 시리즈로 불러오는 **loc** 메서드\n",
    "  \n",
    "> 파이썬 **lambda**함수 사용법  \n",
    "> lambda {입력 변수들} : {리턴값}"
   ]
  },
  {
   "cell_type": "code",
   "execution_count": 20,
   "metadata": {},
   "outputs": [
    {
     "name": "stdout",
     "output_type": "stream",
     "text": [
      "0        False\n",
      "1        False\n",
      "2         True\n",
      "3        False\n",
      "4        False\n",
      "         ...  \n",
      "20635    False\n",
      "20636    False\n",
      "20637    False\n",
      "20638    False\n",
      "20639    False\n",
      "Name: index, Length: 20640, dtype: bool\n"
     ]
    }
   ],
   "source": [
    "housing_with_id = housing.reset_index()\n",
    "\n",
    "train_set, test_set = split_train_test_by_id(housing_with_id, 0.2, \"index\")"
   ]
  },
  {
   "cell_type": "code",
   "execution_count": null,
   "metadata": {},
   "outputs": [],
   "source": []
  }
 ],
 "metadata": {
  "kernelspec": {
   "display_name": "Python 3",
   "language": "python",
   "name": "python3"
  },
  "language_info": {
   "codemirror_mode": {
    "name": "ipython",
    "version": 3
   },
   "file_extension": ".py",
   "mimetype": "text/x-python",
   "name": "python",
   "nbconvert_exporter": "python",
   "pygments_lexer": "ipython3",
   "version": "3.9.1"
  }
 },
 "nbformat": 4,
 "nbformat_minor": 4
}
