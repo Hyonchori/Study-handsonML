{
 "cells": [
  {
   "cell_type": "markdown",
   "metadata": {},
   "source": [
    "# 이상치 탐지와 특이치 탐지를 위한 다른 알고리즘"
   ]
  },
  {
   "cell_type": "markdown",
   "metadata": {},
   "source": [
    "---\n",
    "## PCA (그리고 inverse_transform()메서드를 가진 다른 차원 축소 기법들)\n",
    "보통 샘플의 재구성 오차와 이상치의 재구성 오차를 비교하면 일반적으로 이상치의 재구성 오차가 훨씬 큼.  \n",
    "이를 이용하여 이상치를 탐지할 수 있음."
   ]
  },
  {
   "cell_type": "markdown",
   "metadata": {},
   "source": [
    "---\n",
    "## Fast-MCD (minimum covariance determinant)\n",
    "이상치 감지에 유용함. 특히 **데이터셋을 정제할 때 많이 사용됨.**  \n",
    "보통 샘플(정상치)가 하나의 가우시안 분포에서 생성되었다고 가정함. 또한 이 가우시안 분포에서 생성되지 않은 이상치로 이 데이터셋이 오염되었다고 가정함. 알고리즘은 가우시안 분포의 파라미터를 추정할 때(즉 정상치를 둘러싼 타원 도형을 추정할 때) 이상치로 의심되는 샘플을 무시함.  \n",
    "이런 기법은 알고리즘이 타원형을 잘 추정하고 이상치를 잘 구분하도록 도움."
   ]
  },
  {
   "cell_type": "markdown",
   "metadata": {},
   "source": [
    "---\n",
    "## LOF (local outlier factor)\n",
    "이상치 탐지에 좋은 알고리즘. 주어진 샘플 주이의 밀도와 이웃 주위의 밀도를 비교함.  \n",
    "이상치는 종종 k개의 최근접 이웃보다 더 격리됨 (??)"
   ]
  },
  {
   "cell_type": "markdown",
   "metadata": {},
   "source": [
    "---\n",
    "## one-class SVM\n",
    "**특이치 탐지** 에 잘 맞음. 커널 SVM 분류기가 두 클래스를 방법을 보면 먼저 모든 샘플을 고차원 공간에 매핑한 다음 이 고차원 공간에서 선형 SVM 분류기를 사용해 두 클래스를 분리함. 여기서는 샘플의 클래스가 하나이기 때문에 one-class SVM 알고리즘이 고차원 공간에 있는 샘플을 분리함.  \n",
    "원본 공간에서는 **모든 샘플을 둘러싼 작은 영역을 찾는 것에 해당됨.**  \n",
    "새로운 샘플이 이 영역 안에 놓이지 않는다면 이는 이상치라고 판단할 수 있음.  \n",
    "조정할 파라미터는 커널 SVM을 위한 하이퍼파라미터와 마진 파라미터가 있음. 마진은 실제 정상인 새로운 샘플을 실수로 이상치로 판단할 확률에 해당됨.  \n",
    "이 알고리즘은 고차원 데이터셋에 잘 작동하며 모든 SVM과 마찬가지로 대규모 데이터셋에는 적용하기 어려움"
   ]
  },
  {
   "cell_type": "code",
   "execution_count": null,
   "metadata": {},
   "outputs": [],
   "source": []
  }
 ],
 "metadata": {
  "kernelspec": {
   "display_name": "Python 3",
   "language": "python",
   "name": "python3"
  },
  "language_info": {
   "codemirror_mode": {
    "name": "ipython",
    "version": 3
   },
   "file_extension": ".py",
   "mimetype": "text/x-python",
   "name": "python",
   "nbconvert_exporter": "python",
   "pygments_lexer": "ipython3",
   "version": "3.9.1"
  }
 },
 "nbformat": 4,
 "nbformat_minor": 4
}
